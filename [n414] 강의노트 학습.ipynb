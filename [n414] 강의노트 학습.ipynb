{
  "nbformat": 4,
  "nbformat_minor": 0,
  "metadata": {
    "colab": {
      "provenance": [],
      "authorship_tag": "ABX9TyOTu1eBCe1gQf9JQnynWd6o",
      "include_colab_link": true
    },
    "kernelspec": {
      "name": "python3",
      "display_name": "Python 3"
    },
    "language_info": {
      "name": "python"
    }
  },
  "cells": [
    {
      "cell_type": "markdown",
      "metadata": {
        "id": "view-in-github",
        "colab_type": "text"
      },
      "source": [
        "<a href=\"https://colab.research.google.com/github/ysooch0819/AI16-Projects/blob/main/%5Bn414%5D%20%EA%B0%95%EC%9D%98%EB%85%B8%ED%8A%B8%20%ED%95%99%EC%8A%B5.ipynb\" target=\"_parent\"><img src=\"https://colab.research.google.com/assets/colab-badge.svg\" alt=\"Open In Colab\"/></a>"
      ]
    },
    {
      "cell_type": "code",
      "execution_count": 1,
      "metadata": {
        "colab": {
          "base_uri": "https://localhost:8080/"
        },
        "id": "k3hGo6incDE5",
        "outputId": "24066728-f19e-4f1f-ad70-5d3865a1711f"
      },
      "outputs": [
        {
          "output_type": "stream",
          "name": "stdout",
          "text": [
            "Downloading data from https://storage.googleapis.com/tensorflow/tf-keras-datasets/boston_housing.npz\n",
            "57026/57026 [==============================] - 0s 0us/step\n"
          ]
        }
      ],
      "source": [
        "from tensorflow.keras.datasets import boston_housing\n",
        "\n",
        "(x_train, y_train), (x_test, y_test) = boston_housing.load_data()"
      ]
    },
    {
      "cell_type": "code",
      "source": [
        "from sklearn.model_selection import KFold, StratifiedKFold\n",
        "from tensorflow.keras.preprocessing.image import ImageDataGenerator\n",
        "\n",
        "import numpy as np\n",
        "import pandas as pd\n",
        "import tensorflow as tf\n",
        "import os"
      ],
      "metadata": {
        "id": "ngVjixxAcR9N"
      },
      "execution_count": 2,
      "outputs": []
    },
    {
      "cell_type": "code",
      "source": [
        "kf = KFold(n_splits=5)\n",
        "skf = StratifiedKFold(n_splits=5, random_state=42, shuffle=True)\n",
        "# KFold는 일반적, StratifiedKFold는 데이터가 imbalance한 경우 사용\n",
        "\n",
        "x_train.shape"
      ],
      "metadata": {
        "colab": {
          "base_uri": "https://localhost:8080/"
        },
        "id": "nOMPgrZ4cfYq",
        "outputId": "a91ac7a8-af74-4dc4-c1ce-70fb2e54c852"
      },
      "execution_count": 4,
      "outputs": [
        {
          "output_type": "execute_result",
          "data": {
            "text/plain": [
              "(404, 13)"
            ]
          },
          "metadata": {},
          "execution_count": 4
        }
      ]
    },
    {
      "cell_type": "code",
      "source": [
        "np.zeros(x_train.shape[0])"
      ],
      "metadata": {
        "colab": {
          "base_uri": "https://localhost:8080/"
        },
        "id": "0BIuA6cndc3y",
        "outputId": "ecc82337-d24e-479e-fa08-a48395adbc8b"
      },
      "execution_count": 9,
      "outputs": [
        {
          "output_type": "execute_result",
          "data": {
            "text/plain": [
              "array([0., 0., 0., 0., 0., 0., 0., 0., 0., 0., 0., 0., 0., 0., 0., 0., 0.,\n",
              "       0., 0., 0., 0., 0., 0., 0., 0., 0., 0., 0., 0., 0., 0., 0., 0., 0.,\n",
              "       0., 0., 0., 0., 0., 0., 0., 0., 0., 0., 0., 0., 0., 0., 0., 0., 0.,\n",
              "       0., 0., 0., 0., 0., 0., 0., 0., 0., 0., 0., 0., 0., 0., 0., 0., 0.,\n",
              "       0., 0., 0., 0., 0., 0., 0., 0., 0., 0., 0., 0., 0., 0., 0., 0., 0.,\n",
              "       0., 0., 0., 0., 0., 0., 0., 0., 0., 0., 0., 0., 0., 0., 0., 0., 0.,\n",
              "       0., 0., 0., 0., 0., 0., 0., 0., 0., 0., 0., 0., 0., 0., 0., 0., 0.,\n",
              "       0., 0., 0., 0., 0., 0., 0., 0., 0., 0., 0., 0., 0., 0., 0., 0., 0.,\n",
              "       0., 0., 0., 0., 0., 0., 0., 0., 0., 0., 0., 0., 0., 0., 0., 0., 0.,\n",
              "       0., 0., 0., 0., 0., 0., 0., 0., 0., 0., 0., 0., 0., 0., 0., 0., 0.,\n",
              "       0., 0., 0., 0., 0., 0., 0., 0., 0., 0., 0., 0., 0., 0., 0., 0., 0.,\n",
              "       0., 0., 0., 0., 0., 0., 0., 0., 0., 0., 0., 0., 0., 0., 0., 0., 0.,\n",
              "       0., 0., 0., 0., 0., 0., 0., 0., 0., 0., 0., 0., 0., 0., 0., 0., 0.,\n",
              "       0., 0., 0., 0., 0., 0., 0., 0., 0., 0., 0., 0., 0., 0., 0., 0., 0.,\n",
              "       0., 0., 0., 0., 0., 0., 0., 0., 0., 0., 0., 0., 0., 0., 0., 0., 0.,\n",
              "       0., 0., 0., 0., 0., 0., 0., 0., 0., 0., 0., 0., 0., 0., 0., 0., 0.,\n",
              "       0., 0., 0., 0., 0., 0., 0., 0., 0., 0., 0., 0., 0., 0., 0., 0., 0.,\n",
              "       0., 0., 0., 0., 0., 0., 0., 0., 0., 0., 0., 0., 0., 0., 0., 0., 0.,\n",
              "       0., 0., 0., 0., 0., 0., 0., 0., 0., 0., 0., 0., 0., 0., 0., 0., 0.,\n",
              "       0., 0., 0., 0., 0., 0., 0., 0., 0., 0., 0., 0., 0., 0., 0., 0., 0.,\n",
              "       0., 0., 0., 0., 0., 0., 0., 0., 0., 0., 0., 0., 0., 0., 0., 0., 0.,\n",
              "       0., 0., 0., 0., 0., 0., 0., 0., 0., 0., 0., 0., 0., 0., 0., 0., 0.,\n",
              "       0., 0., 0., 0., 0., 0., 0., 0., 0., 0., 0., 0., 0., 0., 0., 0., 0.,\n",
              "       0., 0., 0., 0., 0., 0., 0., 0., 0., 0., 0., 0., 0.])"
            ]
          },
          "metadata": {},
          "execution_count": 9
        }
      ]
    },
    {
      "cell_type": "code",
      "source": [
        "y_train[:5]"
      ],
      "metadata": {
        "colab": {
          "base_uri": "https://localhost:8080/"
        },
        "id": "GKh8S-xXdDdV",
        "outputId": "2d8549f7-06fc-4c9e-be8a-61955d60f984"
      },
      "execution_count": 6,
      "outputs": [
        {
          "output_type": "execute_result",
          "data": {
            "text/plain": [
              "array([15.2, 42.3, 50. , 21.1, 17.7])"
            ]
          },
          "metadata": {},
          "execution_count": 6
        }
      ]
    },
    {
      "cell_type": "code",
      "source": [
        "training_data = x_train.iloc[train_index]\n",
        "validation_data = x_train.iloc[val_index]"
      ],
      "metadata": {
        "colab": {
          "base_uri": "https://localhost:8080/",
          "height": 193
        },
        "id": "p0rKnrA7dIcw",
        "outputId": "ce224046-dd30-4805-e5a1-3165b279d629"
      },
      "execution_count": 7,
      "outputs": [
        {
          "output_type": "error",
          "ename": "AttributeError",
          "evalue": "ignored",
          "traceback": [
            "\u001b[0;31m---------------------------------------------------------------------------\u001b[0m",
            "\u001b[0;31mAttributeError\u001b[0m                            Traceback (most recent call last)",
            "\u001b[0;32m<ipython-input-7-9eceb703ee17>\u001b[0m in \u001b[0;36m<module>\u001b[0;34m\u001b[0m\n\u001b[0;32m----> 1\u001b[0;31m \u001b[0mtraining_data\u001b[0m \u001b[0;34m=\u001b[0m \u001b[0mx_train\u001b[0m\u001b[0;34m.\u001b[0m\u001b[0miloc\u001b[0m\u001b[0;34m[\u001b[0m\u001b[0mtrain_index\u001b[0m\u001b[0;34m]\u001b[0m\u001b[0;34m\u001b[0m\u001b[0;34m\u001b[0m\u001b[0m\n\u001b[0m\u001b[1;32m      2\u001b[0m \u001b[0mvalidation_data\u001b[0m \u001b[0;34m=\u001b[0m \u001b[0mx_train\u001b[0m\u001b[0;34m.\u001b[0m\u001b[0miloc\u001b[0m\u001b[0;34m[\u001b[0m\u001b[0mval_index\u001b[0m\u001b[0;34m]\u001b[0m\u001b[0;34m\u001b[0m\u001b[0;34m\u001b[0m\u001b[0m\n",
            "\u001b[0;31mAttributeError\u001b[0m: 'numpy.ndarray' object has no attribute 'iloc'"
          ]
        }
      ]
    },
    {
      "cell_type": "code",
      "source": [
        "x_train = pd.DataFrame(x_train)\n",
        "y_train = pd.DataFrame(y_train)\n",
        "\n",
        "for train_index, val_index in kf.split(np.zeros(x_train.shape[0]), y_train):\n",
        "    training_data = x_train.iloc[train_index]\n",
        "    validation_data = x_train.iloc[val_index]\n",
        "    training_y = y_train.iloc[train_index]\n",
        "    validation_y = y_train.iloc[val_index]"
      ],
      "metadata": {
        "id": "e5GeShkJdSCt"
      },
      "execution_count": 10,
      "outputs": []
    },
    {
      "cell_type": "code",
      "source": [
        "from tensorflow.keras.models import Sequential\n",
        "\n",
        "model = Sequential()"
      ],
      "metadata": {
        "id": "W3DeJKzWdzym"
      },
      "execution_count": 16,
      "outputs": []
    },
    {
      "cell_type": "code",
      "source": [
        "from tensorflow.keras.layers import Dense\n",
        "model.add(Dense(64, activation='relu'))\n",
        "model.add(Dense(64, activation='relu'))\n",
        "model.add(Dense(1))\n",
        "\n",
        "model.compile(loss='mean_squared_logarithmic_error',\n",
        "              optimizer = 'adam',\n",
        "              metrics=['accuracy'])"
      ],
      "metadata": {
        "id": "KnGWpflhd4HJ"
      },
      "execution_count": 19,
      "outputs": []
    },
    {
      "cell_type": "code",
      "source": [
        "model.fit(training_data, training_y, epochs=2)"
      ],
      "metadata": {
        "colab": {
          "base_uri": "https://localhost:8080/"
        },
        "id": "yVbWvFPVeX8S",
        "outputId": "9a69d22f-b474-4efc-c192-80d901c37005"
      },
      "execution_count": 20,
      "outputs": [
        {
          "output_type": "stream",
          "name": "stdout",
          "text": [
            "Epoch 1/2\n",
            "11/11 [==============================] - 1s 3ms/step - loss: 2.0920 - accuracy: 0.0000e+00\n",
            "Epoch 2/2\n",
            "11/11 [==============================] - 0s 2ms/step - loss: 0.6303 - accuracy: 0.0000e+00\n"
          ]
        },
        {
          "output_type": "execute_result",
          "data": {
            "text/plain": [
              "<keras.callbacks.History at 0x7f70b3030070>"
            ]
          },
          "metadata": {},
          "execution_count": 20
        }
      ]
    },
    {
      "cell_type": "code",
      "source": [
        "x_train = pd.DataFrame(x_train)\n",
        "y_train = pd.DataFrame(y_train)\n",
        "\n",
        "for train_index, val_index in kf.split(np.zeros(x_train.shape[0]), y_train):\n",
        "    training_data = x_train.iloc[train_index, :]\n",
        "    training_data_label = y_train.iloc[train_index]\n",
        "    validation_data = x_train.iloc[val_index, :]\n",
        "    validation_data_label = y_train.iloc[val_index]"
      ],
      "metadata": {
        "id": "BNduSaLTeeZs"
      },
      "execution_count": 27,
      "outputs": []
    },
    {
      "cell_type": "code",
      "source": [
        "model.fit(training_data, training_data_label,\n",
        "          epochs=10, batch_size=64,\n",
        "          validation_data=(validation_data, validation_data_label),)"
      ],
      "metadata": {
        "colab": {
          "base_uri": "https://localhost:8080/"
        },
        "id": "mPNnnbbieqZi",
        "outputId": "f4132a76-8bf3-4a5c-b516-6be5dfbeea59"
      },
      "execution_count": 28,
      "outputs": [
        {
          "output_type": "stream",
          "name": "stdout",
          "text": [
            "Epoch 1/10\n",
            "6/6 [==============================] - 12s 2s/step - loss: 0.2200 - accuracy: 0.0000e+00 - val_loss: 0.2018 - val_accuracy: 0.0000e+00\n",
            "Epoch 2/10\n",
            "6/6 [==============================] - 0s 7ms/step - loss: 0.1676 - accuracy: 0.0000e+00 - val_loss: 0.1253 - val_accuracy: 0.0000e+00\n",
            "Epoch 3/10\n",
            "6/6 [==============================] - 0s 7ms/step - loss: 0.1293 - accuracy: 0.0000e+00 - val_loss: 0.1041 - val_accuracy: 0.0000e+00\n",
            "Epoch 4/10\n",
            "6/6 [==============================] - 0s 14ms/step - loss: 0.1241 - accuracy: 0.0000e+00 - val_loss: 0.0984 - val_accuracy: 0.0000e+00\n",
            "Epoch 5/10\n",
            "6/6 [==============================] - 0s 34ms/step - loss: 0.1176 - accuracy: 0.0000e+00 - val_loss: 0.0988 - val_accuracy: 0.0000e+00\n",
            "Epoch 6/10\n",
            "6/6 [==============================] - 0s 11ms/step - loss: 0.1176 - accuracy: 0.0000e+00 - val_loss: 0.1012 - val_accuracy: 0.0000e+00\n",
            "Epoch 7/10\n",
            "6/6 [==============================] - 0s 11ms/step - loss: 0.1126 - accuracy: 0.0000e+00 - val_loss: 0.0943 - val_accuracy: 0.0000e+00\n",
            "Epoch 8/10\n",
            "6/6 [==============================] - 0s 8ms/step - loss: 0.1151 - accuracy: 0.0000e+00 - val_loss: 0.0973 - val_accuracy: 0.0000e+00\n",
            "Epoch 9/10\n",
            "6/6 [==============================] - 0s 7ms/step - loss: 0.1202 - accuracy: 0.0000e+00 - val_loss: 0.0957 - val_accuracy: 0.0000e+00\n",
            "Epoch 10/10\n",
            "6/6 [==============================] - 0s 7ms/step - loss: 0.1112 - accuracy: 0.0000e+00 - val_loss: 0.1112 - val_accuracy: 0.0000e+00\n"
          ]
        },
        {
          "output_type": "execute_result",
          "data": {
            "text/plain": [
              "<keras.callbacks.History at 0x7f70b2fa6370>"
            ]
          },
          "metadata": {},
          "execution_count": 28
        }
      ]
    },
    {
      "cell_type": "code",
      "source": [
        "print(training_data[:2])\n",
        "print(training_data.shape)"
      ],
      "metadata": {
        "colab": {
          "base_uri": "https://localhost:8080/"
        },
        "id": "fzkOFQiPfa04",
        "outputId": "1d5513c4-6b48-460c-abcf-56e72d7f4c90"
      },
      "execution_count": 29,
      "outputs": [
        {
          "output_type": "stream",
          "name": "stdout",
          "text": [
            "        0     1     2    3      4   ...   8      9     10      11     12\n",
            "0  1.23247   0.0  8.14  0.0  0.538  ...  4.0  307.0  21.0  396.90  18.72\n",
            "1  0.02177  82.5  2.03  0.0  0.415  ...  2.0  348.0  14.7  395.38   3.11\n",
            "\n",
            "[2 rows x 13 columns]\n",
            "(324, 13)\n"
          ]
        }
      ]
    },
    {
      "cell_type": "code",
      "source": [
        "training_data_label[:2]"
      ],
      "metadata": {
        "colab": {
          "base_uri": "https://localhost:8080/",
          "height": 112
        },
        "id": "_Z-Lcqu9fkLN",
        "outputId": "3af6b664-a982-443f-cc5e-7b649b67516a"
      },
      "execution_count": 30,
      "outputs": [
        {
          "output_type": "execute_result",
          "data": {
            "text/plain": [
              "      0\n",
              "0  15.2\n",
              "1  42.3"
            ],
            "text/html": [
              "\n",
              "  <div id=\"df-a905f126-8595-48fc-bd0b-ac1f8a3a7911\">\n",
              "    <div class=\"colab-df-container\">\n",
              "      <div>\n",
              "<style scoped>\n",
              "    .dataframe tbody tr th:only-of-type {\n",
              "        vertical-align: middle;\n",
              "    }\n",
              "\n",
              "    .dataframe tbody tr th {\n",
              "        vertical-align: top;\n",
              "    }\n",
              "\n",
              "    .dataframe thead th {\n",
              "        text-align: right;\n",
              "    }\n",
              "</style>\n",
              "<table border=\"1\" class=\"dataframe\">\n",
              "  <thead>\n",
              "    <tr style=\"text-align: right;\">\n",
              "      <th></th>\n",
              "      <th>0</th>\n",
              "    </tr>\n",
              "  </thead>\n",
              "  <tbody>\n",
              "    <tr>\n",
              "      <th>0</th>\n",
              "      <td>15.2</td>\n",
              "    </tr>\n",
              "    <tr>\n",
              "      <th>1</th>\n",
              "      <td>42.3</td>\n",
              "    </tr>\n",
              "  </tbody>\n",
              "</table>\n",
              "</div>\n",
              "      <button class=\"colab-df-convert\" onclick=\"convertToInteractive('df-a905f126-8595-48fc-bd0b-ac1f8a3a7911')\"\n",
              "              title=\"Convert this dataframe to an interactive table.\"\n",
              "              style=\"display:none;\">\n",
              "        \n",
              "  <svg xmlns=\"http://www.w3.org/2000/svg\" height=\"24px\"viewBox=\"0 0 24 24\"\n",
              "       width=\"24px\">\n",
              "    <path d=\"M0 0h24v24H0V0z\" fill=\"none\"/>\n",
              "    <path d=\"M18.56 5.44l.94 2.06.94-2.06 2.06-.94-2.06-.94-.94-2.06-.94 2.06-2.06.94zm-11 1L8.5 8.5l.94-2.06 2.06-.94-2.06-.94L8.5 2.5l-.94 2.06-2.06.94zm10 10l.94 2.06.94-2.06 2.06-.94-2.06-.94-.94-2.06-.94 2.06-2.06.94z\"/><path d=\"M17.41 7.96l-1.37-1.37c-.4-.4-.92-.59-1.43-.59-.52 0-1.04.2-1.43.59L10.3 9.45l-7.72 7.72c-.78.78-.78 2.05 0 2.83L4 21.41c.39.39.9.59 1.41.59.51 0 1.02-.2 1.41-.59l7.78-7.78 2.81-2.81c.8-.78.8-2.07 0-2.86zM5.41 20L4 18.59l7.72-7.72 1.47 1.35L5.41 20z\"/>\n",
              "  </svg>\n",
              "      </button>\n",
              "      \n",
              "  <style>\n",
              "    .colab-df-container {\n",
              "      display:flex;\n",
              "      flex-wrap:wrap;\n",
              "      gap: 12px;\n",
              "    }\n",
              "\n",
              "    .colab-df-convert {\n",
              "      background-color: #E8F0FE;\n",
              "      border: none;\n",
              "      border-radius: 50%;\n",
              "      cursor: pointer;\n",
              "      display: none;\n",
              "      fill: #1967D2;\n",
              "      height: 32px;\n",
              "      padding: 0 0 0 0;\n",
              "      width: 32px;\n",
              "    }\n",
              "\n",
              "    .colab-df-convert:hover {\n",
              "      background-color: #E2EBFA;\n",
              "      box-shadow: 0px 1px 2px rgba(60, 64, 67, 0.3), 0px 1px 3px 1px rgba(60, 64, 67, 0.15);\n",
              "      fill: #174EA6;\n",
              "    }\n",
              "\n",
              "    [theme=dark] .colab-df-convert {\n",
              "      background-color: #3B4455;\n",
              "      fill: #D2E3FC;\n",
              "    }\n",
              "\n",
              "    [theme=dark] .colab-df-convert:hover {\n",
              "      background-color: #434B5C;\n",
              "      box-shadow: 0px 1px 3px 1px rgba(0, 0, 0, 0.15);\n",
              "      filter: drop-shadow(0px 1px 2px rgba(0, 0, 0, 0.3));\n",
              "      fill: #FFFFFF;\n",
              "    }\n",
              "  </style>\n",
              "\n",
              "      <script>\n",
              "        const buttonEl =\n",
              "          document.querySelector('#df-a905f126-8595-48fc-bd0b-ac1f8a3a7911 button.colab-df-convert');\n",
              "        buttonEl.style.display =\n",
              "          google.colab.kernel.accessAllowed ? 'block' : 'none';\n",
              "\n",
              "        async function convertToInteractive(key) {\n",
              "          const element = document.querySelector('#df-a905f126-8595-48fc-bd0b-ac1f8a3a7911');\n",
              "          const dataTable =\n",
              "            await google.colab.kernel.invokeFunction('convertToInteractive',\n",
              "                                                     [key], {});\n",
              "          if (!dataTable) return;\n",
              "\n",
              "          const docLinkHtml = 'Like what you see? Visit the ' +\n",
              "            '<a target=\"_blank\" href=https://colab.research.google.com/notebooks/data_table.ipynb>data table notebook</a>'\n",
              "            + ' to learn more about interactive tables.';\n",
              "          element.innerHTML = '';\n",
              "          dataTable['output_type'] = 'display_data';\n",
              "          await google.colab.output.renderOutput(dataTable, element);\n",
              "          const docLink = document.createElement('div');\n",
              "          docLink.innerHTML = docLinkHtml;\n",
              "          element.appendChild(docLink);\n",
              "        }\n",
              "      </script>\n",
              "    </div>\n",
              "  </div>\n",
              "  "
            ]
          },
          "metadata": {},
          "execution_count": 30
        }
      ]
    },
    {
      "cell_type": "code",
      "source": [
        "model.compile(loss='mean_squared_error', optimizer='adam')\n",
        "model.fit(training_data, training_data_label,\n",
        "          epochs=10,\n",
        "          batch_size=32)"
      ],
      "metadata": {
        "colab": {
          "base_uri": "https://localhost:8080/"
        },
        "id": "etFR6kMbfoNq",
        "outputId": "c36f851e-1cba-4b6c-a82c-56aac1b57c55"
      },
      "execution_count": 32,
      "outputs": [
        {
          "output_type": "stream",
          "name": "stdout",
          "text": [
            "Epoch 1/10\n",
            "11/11 [==============================] - 1s 3ms/step - loss: 70.9643\n",
            "Epoch 2/10\n",
            "11/11 [==============================] - 0s 3ms/step - loss: 63.9103\n",
            "Epoch 3/10\n",
            "11/11 [==============================] - 0s 3ms/step - loss: 65.1316\n",
            "Epoch 4/10\n",
            "11/11 [==============================] - 0s 3ms/step - loss: 62.4180\n",
            "Epoch 5/10\n",
            "11/11 [==============================] - 0s 3ms/step - loss: 62.1768\n",
            "Epoch 6/10\n",
            "11/11 [==============================] - 0s 4ms/step - loss: 59.8629\n",
            "Epoch 7/10\n",
            "11/11 [==============================] - 0s 3ms/step - loss: 57.5840\n",
            "Epoch 8/10\n",
            "11/11 [==============================] - 0s 2ms/step - loss: 57.7758\n",
            "Epoch 9/10\n",
            "11/11 [==============================] - 0s 3ms/step - loss: 57.5517\n",
            "Epoch 10/10\n",
            "11/11 [==============================] - 0s 4ms/step - loss: 58.9961\n"
          ]
        },
        {
          "output_type": "execute_result",
          "data": {
            "text/plain": [
              "<keras.callbacks.History at 0x7f70b2c894f0>"
            ]
          },
          "metadata": {},
          "execution_count": 32
        }
      ]
    },
    {
      "cell_type": "code",
      "source": [
        "model.compile(loss='binary_crossentropy', optimizer='adam')\n",
        "model.fit(training_data, training_data_label,\n",
        "          epochs=10,\n",
        "          batch_size=32)"
      ],
      "metadata": {
        "colab": {
          "base_uri": "https://localhost:8080/"
        },
        "id": "zDhK1giEgFz7",
        "outputId": "2027724b-335c-4648-82a8-b916c45c0c16"
      },
      "execution_count": 33,
      "outputs": [
        {
          "output_type": "stream",
          "name": "stdout",
          "text": [
            "Epoch 1/10\n",
            "11/11 [==============================] - 1s 3ms/step - loss: -321.4153\n",
            "Epoch 2/10\n",
            "11/11 [==============================] - 0s 3ms/step - loss: -321.4154\n",
            "Epoch 3/10\n",
            "11/11 [==============================] - 0s 2ms/step - loss: -321.4153\n",
            "Epoch 4/10\n",
            "11/11 [==============================] - 0s 3ms/step - loss: -321.4154\n",
            "Epoch 5/10\n",
            "11/11 [==============================] - 0s 2ms/step - loss: -321.4153\n",
            "Epoch 6/10\n",
            "11/11 [==============================] - 0s 2ms/step - loss: -321.4153\n",
            "Epoch 7/10\n",
            "11/11 [==============================] - 0s 2ms/step - loss: -321.4154\n",
            "Epoch 8/10\n",
            "11/11 [==============================] - 0s 3ms/step - loss: -321.4153\n",
            "Epoch 9/10\n",
            "11/11 [==============================] - 0s 2ms/step - loss: -321.4153\n",
            "Epoch 10/10\n",
            "11/11 [==============================] - 0s 3ms/step - loss: -321.4153\n"
          ]
        },
        {
          "output_type": "execute_result",
          "data": {
            "text/plain": [
              "<keras.callbacks.History at 0x7f70b2fa8340>"
            ]
          },
          "metadata": {},
          "execution_count": 33
        }
      ]
    },
    {
      "cell_type": "code",
      "source": [
        "results = model.evaluate(x_test, y_test, batch_size=32)\n",
        "print('test loss, test mse:', results)"
      ],
      "metadata": {
        "colab": {
          "base_uri": "https://localhost:8080/"
        },
        "id": "CSycaLvGgLBx",
        "outputId": "b534903a-1b8c-4c16-e205-f0852734e283"
      },
      "execution_count": 34,
      "outputs": [
        {
          "output_type": "stream",
          "name": "stdout",
          "text": [
            "4/4 [==============================] - 0s 3ms/step - loss: -336.6793\n",
            "test loss, test mse: -336.67926025390625\n"
          ]
        }
      ]
    },
    {
      "cell_type": "code",
      "source": [
        "x_train = pd.DataFrame(x_train)\n",
        "y_train = pd.DataFrame(y_train)\n",
        "\n",
        "for train_index, val_index in kf.split(np.zeros(x_train.shape[0])):\n",
        "    training_data = x_train.iloc[train_index, :]\n",
        "    training_data_label = y_train.iloc[train_index]\n",
        "    validation_data = x_train.iloc[val_index, :]\n",
        "    validation_data_label = y_train.iloc[val_index]\n",
        "\n",
        "    model.compile(loss='mean_squared_error', optimizer='adam')\n",
        "    model.fit(training_data, training_data_label,\n",
        "              epochs=10,\n",
        "              batch_size=32,\n",
        "              validation_data=(validation_data, validation_data_label))\n",
        "    results = model.evaluate(x_test, y_test, batch_size=32)\n",
        "    print('test loss, test mse:', results)"
      ],
      "metadata": {
        "colab": {
          "base_uri": "https://localhost:8080/"
        },
        "id": "w2i-ZYeFgTGf",
        "outputId": "d3bf077c-0057-4a1f-d807-caa99d37e879"
      },
      "execution_count": 35,
      "outputs": [
        {
          "output_type": "stream",
          "name": "stdout",
          "text": [
            "Epoch 1/10\n",
            "11/11 [==============================] - 51s 5s/step - loss: 63.4353 - val_loss: 46.2347\n",
            "Epoch 2/10\n",
            "11/11 [==============================] - 0s 5ms/step - loss: 61.5919 - val_loss: 46.0978\n",
            "Epoch 3/10\n",
            "11/11 [==============================] - 0s 6ms/step - loss: 62.3631 - val_loss: 60.5388\n",
            "Epoch 4/10\n",
            "11/11 [==============================] - 0s 5ms/step - loss: 65.3610 - val_loss: 52.2977\n",
            "Epoch 5/10\n",
            "11/11 [==============================] - 0s 4ms/step - loss: 62.2874 - val_loss: 56.3474\n",
            "Epoch 6/10\n",
            "11/11 [==============================] - 0s 5ms/step - loss: 54.6977 - val_loss: 45.1138\n",
            "Epoch 7/10\n",
            "11/11 [==============================] - 0s 5ms/step - loss: 52.9020 - val_loss: 42.0817\n",
            "Epoch 8/10\n",
            "11/11 [==============================] - 0s 7ms/step - loss: 54.3047 - val_loss: 42.6575\n",
            "Epoch 9/10\n",
            "11/11 [==============================] - 0s 4ms/step - loss: 57.6112 - val_loss: 48.1564\n",
            "Epoch 10/10\n",
            "11/11 [==============================] - 0s 4ms/step - loss: 53.7798 - val_loss: 60.2515\n",
            "4/4 [==============================] - 0s 3ms/step - loss: 59.8223\n",
            "test loss, test mse: 59.82233428955078\n",
            "Epoch 1/10\n",
            "11/11 [==============================] - 1s 22ms/step - loss: 53.8805 - val_loss: 71.3454\n",
            "Epoch 2/10\n",
            "11/11 [==============================] - 0s 5ms/step - loss: 58.2926 - val_loss: 52.6952\n",
            "Epoch 3/10\n",
            "11/11 [==============================] - 0s 7ms/step - loss: 52.4487 - val_loss: 48.6256\n",
            "Epoch 4/10\n",
            "11/11 [==============================] - 0s 7ms/step - loss: 46.4826 - val_loss: 47.3143\n",
            "Epoch 5/10\n",
            "11/11 [==============================] - 0s 5ms/step - loss: 45.0384 - val_loss: 48.3358\n",
            "Epoch 6/10\n",
            "11/11 [==============================] - 0s 7ms/step - loss: 44.3652 - val_loss: 55.4641\n",
            "Epoch 7/10\n",
            "11/11 [==============================] - 0s 6ms/step - loss: 48.8912 - val_loss: 47.5549\n",
            "Epoch 8/10\n",
            "11/11 [==============================] - 0s 4ms/step - loss: 43.3086 - val_loss: 43.7717\n",
            "Epoch 9/10\n",
            "11/11 [==============================] - 0s 4ms/step - loss: 47.3890 - val_loss: 44.5466\n",
            "Epoch 10/10\n",
            "11/11 [==============================] - 0s 7ms/step - loss: 40.5670 - val_loss: 45.6189\n",
            "4/4 [==============================] - 0s 3ms/step - loss: 45.9559\n",
            "test loss, test mse: 45.95594787597656\n",
            "Epoch 1/10\n",
            "11/11 [==============================] - 1s 22ms/step - loss: 60.3851 - val_loss: 29.6444\n",
            "Epoch 2/10\n",
            "11/11 [==============================] - 0s 5ms/step - loss: 47.0846 - val_loss: 24.3102\n",
            "Epoch 3/10\n",
            "11/11 [==============================] - 0s 8ms/step - loss: 46.3090 - val_loss: 36.8006\n",
            "Epoch 4/10\n",
            "11/11 [==============================] - 0s 5ms/step - loss: 48.3214 - val_loss: 24.0941\n",
            "Epoch 5/10\n",
            "11/11 [==============================] - 0s 5ms/step - loss: 41.8370 - val_loss: 24.1502\n",
            "Epoch 6/10\n",
            "11/11 [==============================] - 0s 9ms/step - loss: 42.9852 - val_loss: 23.3271\n",
            "Epoch 7/10\n",
            "11/11 [==============================] - 0s 6ms/step - loss: 43.2506 - val_loss: 23.2187\n",
            "Epoch 8/10\n",
            "11/11 [==============================] - 0s 6ms/step - loss: 41.7069 - val_loss: 24.0357\n",
            "Epoch 9/10\n",
            "11/11 [==============================] - 0s 7ms/step - loss: 41.6374 - val_loss: 30.8536\n",
            "Epoch 10/10\n",
            "11/11 [==============================] - 0s 7ms/step - loss: 43.2324 - val_loss: 24.3725\n",
            "4/4 [==============================] - 0s 3ms/step - loss: 43.5716\n",
            "test loss, test mse: 43.57156753540039\n",
            "Epoch 1/10\n",
            "11/11 [==============================] - 1s 19ms/step - loss: 40.9653 - val_loss: 61.7154\n",
            "Epoch 2/10\n",
            "11/11 [==============================] - 0s 5ms/step - loss: 40.8007 - val_loss: 56.3635\n",
            "Epoch 3/10\n",
            "11/11 [==============================] - 0s 5ms/step - loss: 43.8993 - val_loss: 52.4887\n",
            "Epoch 4/10\n",
            "11/11 [==============================] - 0s 5ms/step - loss: 36.5515 - val_loss: 64.9292\n",
            "Epoch 5/10\n",
            "11/11 [==============================] - 0s 5ms/step - loss: 41.3428 - val_loss: 43.8622\n",
            "Epoch 6/10\n",
            "11/11 [==============================] - 0s 5ms/step - loss: 35.2441 - val_loss: 45.4112\n",
            "Epoch 7/10\n",
            "11/11 [==============================] - 0s 7ms/step - loss: 33.1198 - val_loss: 54.0376\n",
            "Epoch 8/10\n",
            "11/11 [==============================] - 0s 5ms/step - loss: 44.7261 - val_loss: 46.8039\n",
            "Epoch 9/10\n",
            "11/11 [==============================] - 0s 5ms/step - loss: 32.3412 - val_loss: 41.5086\n",
            "Epoch 10/10\n",
            "11/11 [==============================] - 0s 6ms/step - loss: 31.1696 - val_loss: 42.9615\n",
            "4/4 [==============================] - 0s 3ms/step - loss: 34.6075\n",
            "test loss, test mse: 34.60747146606445\n",
            "Epoch 1/10\n",
            "11/11 [==============================] - 1s 21ms/step - loss: 41.6007 - val_loss: 36.1186\n",
            "Epoch 2/10\n",
            "11/11 [==============================] - 0s 5ms/step - loss: 32.3964 - val_loss: 36.8335\n",
            "Epoch 3/10\n",
            "11/11 [==============================] - 0s 5ms/step - loss: 31.3987 - val_loss: 36.0937\n",
            "Epoch 4/10\n",
            "11/11 [==============================] - 0s 5ms/step - loss: 34.0871 - val_loss: 35.9223\n",
            "Epoch 5/10\n",
            "11/11 [==============================] - 0s 7ms/step - loss: 30.8525 - val_loss: 35.4773\n",
            "Epoch 6/10\n",
            "11/11 [==============================] - 0s 6ms/step - loss: 33.0006 - val_loss: 34.7359\n",
            "Epoch 7/10\n",
            "11/11 [==============================] - 0s 6ms/step - loss: 35.3983 - val_loss: 34.2794\n",
            "Epoch 8/10\n",
            "11/11 [==============================] - 0s 5ms/step - loss: 31.5312 - val_loss: 36.7779\n",
            "Epoch 9/10\n",
            "11/11 [==============================] - 0s 6ms/step - loss: 32.0608 - val_loss: 42.2819\n",
            "Epoch 10/10\n",
            "11/11 [==============================] - 0s 4ms/step - loss: 39.7084 - val_loss: 36.0210\n",
            "4/4 [==============================] - 0s 3ms/step - loss: 34.2871\n",
            "test loss, test mse: 34.2870979309082\n"
          ]
        }
      ]
    },
    {
      "cell_type": "code",
      "source": [
        "!pip install scikeras"
      ],
      "metadata": {
        "colab": {
          "base_uri": "https://localhost:8080/"
        },
        "id": "769KQ5lAhrVp",
        "outputId": "2b39979d-5aa6-4483-a025-94b124e692a7"
      },
      "execution_count": 36,
      "outputs": [
        {
          "output_type": "stream",
          "name": "stdout",
          "text": [
            "Looking in indexes: https://pypi.org/simple, https://us-python.pkg.dev/colab-wheels/public/simple/\n",
            "Collecting scikeras\n",
            "  Downloading scikeras-0.10.0-py3-none-any.whl (27 kB)\n",
            "Requirement already satisfied: packaging>=0.21 in /usr/local/lib/python3.8/dist-packages (from scikeras) (21.3)\n",
            "Requirement already satisfied: scikit-learn>=1.0.0 in /usr/local/lib/python3.8/dist-packages (from scikeras) (1.0.2)\n",
            "Requirement already satisfied: pyparsing!=3.0.5,>=2.0.2 in /usr/local/lib/python3.8/dist-packages (from packaging>=0.21->scikeras) (3.0.9)\n",
            "Requirement already satisfied: threadpoolctl>=2.0.0 in /usr/local/lib/python3.8/dist-packages (from scikit-learn>=1.0.0->scikeras) (3.1.0)\n",
            "Requirement already satisfied: numpy>=1.14.6 in /usr/local/lib/python3.8/dist-packages (from scikit-learn>=1.0.0->scikeras) (1.21.6)\n",
            "Requirement already satisfied: joblib>=0.11 in /usr/local/lib/python3.8/dist-packages (from scikit-learn>=1.0.0->scikeras) (1.2.0)\n",
            "Requirement already satisfied: scipy>=1.1.0 in /usr/local/lib/python3.8/dist-packages (from scikit-learn>=1.0.0->scikeras) (1.7.3)\n",
            "Installing collected packages: scikeras\n",
            "Successfully installed scikeras-0.10.0\n"
          ]
        }
      ]
    },
    {
      "cell_type": "code",
      "source": [
        "import numpy\n",
        "import pandas as pd\n",
        "from sklearn.model_selection import GridSearchCV\n",
        "from tensorflow.keras.models import Sequential\n",
        "from tensorflow.keras.layers import Dense\n",
        "from scikeras.wrappers import KerasClassifier"
      ],
      "metadata": {
        "id": "oBh9uySKhvGq"
      },
      "execution_count": 37,
      "outputs": []
    },
    {
      "cell_type": "code",
      "source": [
        "numpy.random.seed(42)"
      ],
      "metadata": {
        "id": "5vYGswMXh8Mw"
      },
      "execution_count": 38,
      "outputs": []
    },
    {
      "cell_type": "code",
      "source": [
        "url =\"https://raw.githubusercontent.com/jbrownlee/Datasets/master/pima-indians-diabetes.data.csv\"\n",
        "\n",
        "dataset = pd.read_csv(url, header=None).values"
      ],
      "metadata": {
        "id": "VVj_Qn8ah_Fo"
      },
      "execution_count": 39,
      "outputs": []
    },
    {
      "cell_type": "code",
      "source": [
        "X= dataset[:,0:8]\n",
        "Y= dataset[:,8]"
      ],
      "metadata": {
        "id": "WrVJqU0uiE0d"
      },
      "execution_count": 50,
      "outputs": []
    },
    {
      "cell_type": "code",
      "source": [
        "def create_model(nodes=8):\n",
        "    model= Sequential()\n",
        "    model.add(Dense(nodes, input_dim=8, activation='relu'))\n",
        "    model.add(Dense(nodes, activation='relu'))\n",
        "    model.add(Dense(1, activation='sigmoid'))\n",
        "\n",
        "    model.compile(loss='binary_crossentropy', optimizer='adam', metrics=['accuracy'])\n",
        "    return model"
      ],
      "metadata": {
        "id": "_CiH0DcRiWk4"
      },
      "execution_count": 46,
      "outputs": []
    },
    {
      "cell_type": "code",
      "source": [
        "model = KerasClassifier(model=create_model, batch_size=8, verbose=False)"
      ],
      "metadata": {
        "id": "N7rP74jCivqe"
      },
      "execution_count": 47,
      "outputs": []
    },
    {
      "cell_type": "code",
      "source": [
        "nodes=[16, 32, 64]\n",
        "batch_size=[16,32,64]\n",
        "param_grid = dict(model__nodes=nodes, batch_size=batch_size)"
      ],
      "metadata": {
        "id": "Yf85AUQki2kW"
      },
      "execution_count": 48,
      "outputs": []
    },
    {
      "cell_type": "code",
      "source": [
        "grid = GridSearchCV(estimator=model, param_grid=param_grid, n_jobs=1, cv=3)\n",
        "grid_result = grid.fit(X,Y)"
      ],
      "metadata": {
        "id": "JzVjb5Lei_Bq"
      },
      "execution_count": 51,
      "outputs": []
    },
    {
      "cell_type": "code",
      "source": [
        "print(f'Bests: {grid_result.best_score_} using {grid_result.best_params_}')\n",
        "\n",
        "means = grid_result.cv_results_['mean_test_score']\n",
        "stds = grid_result.cv_results_['std_test_score']\n",
        "params = grid_result.cv_results_['params']\n",
        "\n",
        "for mean, stdev, param in zip(means, stds, params):\n",
        "    print(f'Means: {mean}, Stdev: {stdev} with: {param}')"
      ],
      "metadata": {
        "colab": {
          "base_uri": "https://localhost:8080/"
        },
        "id": "XHrOhdQhjRqG",
        "outputId": "d87f8967-7b1e-4411-cdab-2bec55debbc3"
      },
      "execution_count": 52,
      "outputs": [
        {
          "output_type": "stream",
          "name": "stdout",
          "text": [
            "Bests: 0.6458333333333334 using {'batch_size': 16, 'model__nodes': 32}\n",
            "Means: 0.4908854166666667, Stdev: 0.06631683113670231 with: {'batch_size': 16, 'model__nodes': 16}\n",
            "Means: 0.6458333333333334, Stdev: 0.006639348324990605 with: {'batch_size': 16, 'model__nodes': 32}\n",
            "Means: 0.5338541666666666, Stdev: 0.07112760564451909 with: {'batch_size': 16, 'model__nodes': 64}\n",
            "Means: 0.6184895833333334, Stdev: 0.017566064535458385 with: {'batch_size': 32, 'model__nodes': 16}\n",
            "Means: 0.5338541666666666, Stdev: 0.07169739530175107 with: {'batch_size': 32, 'model__nodes': 32}\n",
            "Means: 0.6315104166666666, Stdev: 0.05165842298145149 with: {'batch_size': 32, 'model__nodes': 64}\n",
            "Means: 0.4322916666666667, Stdev: 0.08404239355783814 with: {'batch_size': 64, 'model__nodes': 16}\n",
            "Means: 0.4895833333333333, Stdev: 0.11836789768086992 with: {'batch_size': 64, 'model__nodes': 32}\n",
            "Means: 0.62890625, Stdev: 0.025315393353155705 with: {'batch_size': 64, 'model__nodes': 64}\n"
          ]
        }
      ]
    },
    {
      "cell_type": "code",
      "source": [
        "from tensorflow import keras\n",
        "from tensorflow.keras.layers import Dense, Flatten\n",
        "\n",
        "import tensorflow as tf\n",
        "import IPython"
      ],
      "metadata": {
        "id": "eqbUhIztj4P_"
      },
      "execution_count": 53,
      "outputs": []
    },
    {
      "cell_type": "code",
      "source": [
        "!pip install -U keras-tuner\n",
        "import keras_tuner as kt"
      ],
      "metadata": {
        "colab": {
          "base_uri": "https://localhost:8080/"
        },
        "id": "Pxh-ZgqdkAoF",
        "outputId": "7a4aae48-be1e-4be3-88d7-d94cf1cff811"
      },
      "execution_count": 54,
      "outputs": [
        {
          "output_type": "stream",
          "name": "stdout",
          "text": [
            "Looking in indexes: https://pypi.org/simple, https://us-python.pkg.dev/colab-wheels/public/simple/\n",
            "Collecting keras-tuner\n",
            "  Downloading keras_tuner-1.1.3-py3-none-any.whl (135 kB)\n",
            "\u001b[2K     \u001b[90m━━━━━━━━━━━━━━━━━━━━━━━━━━━━━━━━━━━━━━━\u001b[0m \u001b[32m135.7/135.7 KB\u001b[0m \u001b[31m3.3 MB/s\u001b[0m eta \u001b[36m0:00:00\u001b[0m\n",
            "\u001b[?25hCollecting kt-legacy\n",
            "  Downloading kt_legacy-1.0.4-py3-none-any.whl (9.6 kB)\n",
            "Requirement already satisfied: tensorboard in /usr/local/lib/python3.8/dist-packages (from keras-tuner) (2.9.1)\n",
            "Requirement already satisfied: requests in /usr/local/lib/python3.8/dist-packages (from keras-tuner) (2.25.1)\n",
            "Requirement already satisfied: packaging in /usr/local/lib/python3.8/dist-packages (from keras-tuner) (21.3)\n",
            "Requirement already satisfied: numpy in /usr/local/lib/python3.8/dist-packages (from keras-tuner) (1.21.6)\n",
            "Requirement already satisfied: ipython in /usr/local/lib/python3.8/dist-packages (from keras-tuner) (7.9.0)\n",
            "Requirement already satisfied: traitlets>=4.2 in /usr/local/lib/python3.8/dist-packages (from ipython->keras-tuner) (5.7.1)\n",
            "Collecting jedi>=0.10\n",
            "  Downloading jedi-0.18.2-py2.py3-none-any.whl (1.6 MB)\n",
            "\u001b[2K     \u001b[90m━━━━━━━━━━━━━━━━━━━━━━━━━━━━━━━━━━━━━━━━\u001b[0m \u001b[32m1.6/1.6 MB\u001b[0m \u001b[31m17.3 MB/s\u001b[0m eta \u001b[36m0:00:00\u001b[0m\n",
            "\u001b[?25hRequirement already satisfied: decorator in /usr/local/lib/python3.8/dist-packages (from ipython->keras-tuner) (4.4.2)\n",
            "Requirement already satisfied: pickleshare in /usr/local/lib/python3.8/dist-packages (from ipython->keras-tuner) (0.7.5)\n",
            "Requirement already satisfied: backcall in /usr/local/lib/python3.8/dist-packages (from ipython->keras-tuner) (0.2.0)\n",
            "Requirement already satisfied: pexpect in /usr/local/lib/python3.8/dist-packages (from ipython->keras-tuner) (4.8.0)\n",
            "Requirement already satisfied: pygments in /usr/local/lib/python3.8/dist-packages (from ipython->keras-tuner) (2.6.1)\n",
            "Requirement already satisfied: prompt-toolkit<2.1.0,>=2.0.0 in /usr/local/lib/python3.8/dist-packages (from ipython->keras-tuner) (2.0.10)\n",
            "Requirement already satisfied: setuptools>=18.5 in /usr/local/lib/python3.8/dist-packages (from ipython->keras-tuner) (57.4.0)\n",
            "Requirement already satisfied: pyparsing!=3.0.5,>=2.0.2 in /usr/local/lib/python3.8/dist-packages (from packaging->keras-tuner) (3.0.9)\n",
            "Requirement already satisfied: urllib3<1.27,>=1.21.1 in /usr/local/lib/python3.8/dist-packages (from requests->keras-tuner) (1.24.3)\n",
            "Requirement already satisfied: idna<3,>=2.5 in /usr/local/lib/python3.8/dist-packages (from requests->keras-tuner) (2.10)\n",
            "Requirement already satisfied: chardet<5,>=3.0.2 in /usr/local/lib/python3.8/dist-packages (from requests->keras-tuner) (4.0.0)\n",
            "Requirement already satisfied: certifi>=2017.4.17 in /usr/local/lib/python3.8/dist-packages (from requests->keras-tuner) (2022.12.7)\n",
            "Requirement already satisfied: grpcio>=1.24.3 in /usr/local/lib/python3.8/dist-packages (from tensorboard->keras-tuner) (1.51.1)\n",
            "Requirement already satisfied: google-auth<3,>=1.6.3 in /usr/local/lib/python3.8/dist-packages (from tensorboard->keras-tuner) (2.15.0)\n",
            "Requirement already satisfied: tensorboard-data-server<0.7.0,>=0.6.0 in /usr/local/lib/python3.8/dist-packages (from tensorboard->keras-tuner) (0.6.1)\n",
            "Requirement already satisfied: tensorboard-plugin-wit>=1.6.0 in /usr/local/lib/python3.8/dist-packages (from tensorboard->keras-tuner) (1.8.1)\n",
            "Requirement already satisfied: wheel>=0.26 in /usr/local/lib/python3.8/dist-packages (from tensorboard->keras-tuner) (0.38.4)\n",
            "Requirement already satisfied: protobuf<3.20,>=3.9.2 in /usr/local/lib/python3.8/dist-packages (from tensorboard->keras-tuner) (3.19.6)\n",
            "Requirement already satisfied: markdown>=2.6.8 in /usr/local/lib/python3.8/dist-packages (from tensorboard->keras-tuner) (3.4.1)\n",
            "Requirement already satisfied: werkzeug>=1.0.1 in /usr/local/lib/python3.8/dist-packages (from tensorboard->keras-tuner) (1.0.1)\n",
            "Requirement already satisfied: google-auth-oauthlib<0.5,>=0.4.1 in /usr/local/lib/python3.8/dist-packages (from tensorboard->keras-tuner) (0.4.6)\n",
            "Requirement already satisfied: absl-py>=0.4 in /usr/local/lib/python3.8/dist-packages (from tensorboard->keras-tuner) (1.3.0)\n",
            "Requirement already satisfied: six>=1.9.0 in /usr/local/lib/python3.8/dist-packages (from google-auth<3,>=1.6.3->tensorboard->keras-tuner) (1.15.0)\n",
            "Requirement already satisfied: pyasn1-modules>=0.2.1 in /usr/local/lib/python3.8/dist-packages (from google-auth<3,>=1.6.3->tensorboard->keras-tuner) (0.2.8)\n",
            "Requirement already satisfied: rsa<5,>=3.1.4 in /usr/local/lib/python3.8/dist-packages (from google-auth<3,>=1.6.3->tensorboard->keras-tuner) (4.9)\n",
            "Requirement already satisfied: cachetools<6.0,>=2.0.0 in /usr/local/lib/python3.8/dist-packages (from google-auth<3,>=1.6.3->tensorboard->keras-tuner) (5.2.0)\n",
            "Requirement already satisfied: requests-oauthlib>=0.7.0 in /usr/local/lib/python3.8/dist-packages (from google-auth-oauthlib<0.5,>=0.4.1->tensorboard->keras-tuner) (1.3.1)\n",
            "Requirement already satisfied: parso<0.9.0,>=0.8.0 in /usr/local/lib/python3.8/dist-packages (from jedi>=0.10->ipython->keras-tuner) (0.8.3)\n",
            "Requirement already satisfied: importlib-metadata>=4.4 in /usr/local/lib/python3.8/dist-packages (from markdown>=2.6.8->tensorboard->keras-tuner) (6.0.0)\n",
            "Requirement already satisfied: wcwidth in /usr/local/lib/python3.8/dist-packages (from prompt-toolkit<2.1.0,>=2.0.0->ipython->keras-tuner) (0.2.5)\n",
            "Requirement already satisfied: ptyprocess>=0.5 in /usr/local/lib/python3.8/dist-packages (from pexpect->ipython->keras-tuner) (0.7.0)\n",
            "Requirement already satisfied: zipp>=0.5 in /usr/local/lib/python3.8/dist-packages (from importlib-metadata>=4.4->markdown>=2.6.8->tensorboard->keras-tuner) (3.11.0)\n",
            "Requirement already satisfied: pyasn1<0.5.0,>=0.4.6 in /usr/local/lib/python3.8/dist-packages (from pyasn1-modules>=0.2.1->google-auth<3,>=1.6.3->tensorboard->keras-tuner) (0.4.8)\n",
            "Requirement already satisfied: oauthlib>=3.0.0 in /usr/local/lib/python3.8/dist-packages (from requests-oauthlib>=0.7.0->google-auth-oauthlib<0.5,>=0.4.1->tensorboard->keras-tuner) (3.2.2)\n",
            "Installing collected packages: kt-legacy, jedi, keras-tuner\n",
            "Successfully installed jedi-0.18.2 keras-tuner-1.1.3 kt-legacy-1.0.4\n"
          ]
        }
      ]
    },
    {
      "cell_type": "code",
      "source": [
        "(X_train, y_train), (X_test, y_test) = keras.datasets.fashion_mnist.load_data()"
      ],
      "metadata": {
        "colab": {
          "base_uri": "https://localhost:8080/"
        },
        "id": "szcqnZ4ekIlV",
        "outputId": "3010a5cf-8af5-4259-9509-24a9c5bf0f34"
      },
      "execution_count": 56,
      "outputs": [
        {
          "output_type": "stream",
          "name": "stdout",
          "text": [
            "Downloading data from https://storage.googleapis.com/tensorflow/tf-keras-datasets/train-labels-idx1-ubyte.gz\n",
            "29515/29515 [==============================] - 0s 0us/step\n",
            "Downloading data from https://storage.googleapis.com/tensorflow/tf-keras-datasets/train-images-idx3-ubyte.gz\n",
            "26421880/26421880 [==============================] - 2s 0us/step\n",
            "Downloading data from https://storage.googleapis.com/tensorflow/tf-keras-datasets/t10k-labels-idx1-ubyte.gz\n",
            "5148/5148 [==============================] - 0s 0us/step\n",
            "Downloading data from https://storage.googleapis.com/tensorflow/tf-keras-datasets/t10k-images-idx3-ubyte.gz\n",
            "4422102/4422102 [==============================] - 0s 0us/step\n"
          ]
        }
      ]
    },
    {
      "cell_type": "code",
      "source": [
        "X_train = X_train.astype('float32') / 255.0\n",
        "X_test = X_test.astype('float32') / 255.0"
      ],
      "metadata": {
        "id": "oAhxFwm6kTXE"
      },
      "execution_count": 57,
      "outputs": []
    },
    {
      "cell_type": "code",
      "source": [
        "# 탐색할 하이퍼파라미터와 범위\n",
        "# 은닉층의 노드 수: 32 부터 512 까지 32개씩 증가시키며 탐색\n",
        "# 학습률(learning rate): 0.01, 0.001, 0.0001 의 3개 지점 탐색\n",
        "\n",
        "def model_builder(hp):\n",
        "    model = keras.Sequential()\n",
        "    model.add(Flatten(input_shape=(28, 28)))\n",
        "\n",
        "    hp_units = hp.Int('units', min_value= 32, max_value=512, step=32)\n",
        "    model.add(Dense(units = hp_units, activation='relu'))\n",
        "    model.add(Dense(10, activation='softmax'))\n",
        "\n",
        "    hp_learning_rate = hp.Choice('learning_rate', values=[1e-2, 1e-3, 1e-4])\n",
        "\n",
        "    model.compile(optimizer=keras.optimizers.Adam(learning_rate = hp_learning_rate),\n",
        "                  loss=keras.losses.SparseCategoricalCrossentropy(),\n",
        "                  metrics = ['accuracy'])\n",
        "    \n",
        "    return model"
      ],
      "metadata": {
        "id": "eipYpRK6kan5"
      },
      "execution_count": 59,
      "outputs": []
    },
    {
      "cell_type": "code",
      "source": [
        "# Keras Tuner 사용: Random Search, Bayesian Optimizaion, Hyperband 등의 방법이 있음\n",
        "# Hyperband 사용시, model_builder, max_epochs 를 지정해주어야함\n",
        "# Hyperband 는 리소스를 알아서 조절, 조기종료 기능을 사용, 높은 성능을 보이는 조합을 신속하게 통합한다.\n",
        "tuner = kt.Hyperband(model_builder,\n",
        "                     objective = 'val_accuracy',\n",
        "                     max_epochs=10,\n",
        "                     factor=3,\n",
        "                     directory='my_dir',\n",
        "                     project_name='intro_to_kt')"
      ],
      "metadata": {
        "id": "AwBSGV0ulRZV"
      },
      "execution_count": 60,
      "outputs": []
    },
    {
      "cell_type": "code",
      "source": [
        "class ClearTraningOutput(tf.keras.callbacks.Callback):\n",
        "  def on_train_end(*args, **kwargs):\n",
        "    IPython.display.clear_output(wait=True)"
      ],
      "metadata": {
        "id": "QU-L7FX7lzf5"
      },
      "execution_count": 61,
      "outputs": []
    },
    {
      "cell_type": "code",
      "source": [
        "tuner.search(X_train, y_train, epochs=10, validation_data=(X_test, y_test), callbacks = [ClearTraningOutput()])\n",
        "\n",
        "best_hps = tuner.get_best_hyperparameters(num_trials=1)[0]\n",
        "\n",
        "print(f\"\"\"\n",
        "하이퍼 파라미터 검색이 완료되었습니다.\n",
        "최적화된 첫 번째 Dense 노드 수는 {best_hps.get('units')} 입니다.\n",
        "최적의 학습 속도는 {best_hps.get('learning_rate')} 입니다.\n",
        "\"\"\")"
      ],
      "metadata": {
        "colab": {
          "base_uri": "https://localhost:8080/"
        },
        "id": "rg_dIZ-SmBWw",
        "outputId": "c16996d7-a0c2-43cc-898f-957f70c766f9"
      },
      "execution_count": 62,
      "outputs": [
        {
          "output_type": "stream",
          "name": "stdout",
          "text": [
            "Trial 30 Complete [00h 01m 31s]\n",
            "val_accuracy: 0.8708000183105469\n",
            "\n",
            "Best val_accuracy So Far: 0.8792999982833862\n",
            "Total elapsed time: 00h 20m 49s\n",
            "\n",
            "하이퍼 파라미터 검색이 완료되었습니다.\n",
            "최적화된 첫 번째 Dense 노드 수는 448 입니다.\n",
            "최적의 학습 속도는 0.001 입니다.\n",
            "\n"
          ]
        }
      ]
    },
    {
      "cell_type": "code",
      "source": [
        "model = tuner.hypermodel.build(best_hps)\n",
        "\n",
        "model.summary()"
      ],
      "metadata": {
        "colab": {
          "base_uri": "https://localhost:8080/"
        },
        "id": "IhQpjmVkrdV3",
        "outputId": "e24cc24c-e458-4cd6-ead9-a8647c69edef"
      },
      "execution_count": 63,
      "outputs": [
        {
          "output_type": "stream",
          "name": "stdout",
          "text": [
            "Model: \"sequential_1\"\n",
            "_________________________________________________________________\n",
            " Layer (type)                Output Shape              Param #   \n",
            "=================================================================\n",
            " flatten_1 (Flatten)         (None, 784)               0         \n",
            "                                                                 \n",
            " dense_2 (Dense)             (None, 448)               351680    \n",
            "                                                                 \n",
            " dense_3 (Dense)             (None, 10)                4490      \n",
            "                                                                 \n",
            "=================================================================\n",
            "Total params: 356,170\n",
            "Trainable params: 356,170\n",
            "Non-trainable params: 0\n",
            "_________________________________________________________________\n"
          ]
        }
      ]
    },
    {
      "cell_type": "code",
      "source": [
        "model.fit(X_train, y_train, epochs=10, validation_data=(X_test, y_test))"
      ],
      "metadata": {
        "colab": {
          "base_uri": "https://localhost:8080/"
        },
        "id": "RQm5pEI7rlWS",
        "outputId": "41310650-aac7-4835-d83a-100a1b3ed969"
      },
      "execution_count": 64,
      "outputs": [
        {
          "output_type": "stream",
          "name": "stdout",
          "text": [
            "Epoch 1/10\n",
            "1875/1875 [==============================] - 10s 5ms/step - loss: 0.4785 - accuracy: 0.8295 - val_loss: 0.4086 - val_accuracy: 0.8534\n",
            "Epoch 2/10\n",
            "1875/1875 [==============================] - 9s 5ms/step - loss: 0.3605 - accuracy: 0.8688 - val_loss: 0.3889 - val_accuracy: 0.8543\n",
            "Epoch 3/10\n",
            "1875/1875 [==============================] - 9s 5ms/step - loss: 0.3242 - accuracy: 0.8791 - val_loss: 0.3552 - val_accuracy: 0.8696\n",
            "Epoch 4/10\n",
            "1875/1875 [==============================] - 10s 5ms/step - loss: 0.2974 - accuracy: 0.8902 - val_loss: 0.3534 - val_accuracy: 0.8718\n",
            "Epoch 5/10\n",
            "1875/1875 [==============================] - 10s 5ms/step - loss: 0.2805 - accuracy: 0.8961 - val_loss: 0.3408 - val_accuracy: 0.8802\n",
            "Epoch 6/10\n",
            "1875/1875 [==============================] - 9s 5ms/step - loss: 0.2666 - accuracy: 0.8991 - val_loss: 0.3759 - val_accuracy: 0.8641\n",
            "Epoch 7/10\n",
            "1875/1875 [==============================] - 10s 5ms/step - loss: 0.2536 - accuracy: 0.9044 - val_loss: 0.3440 - val_accuracy: 0.8811\n",
            "Epoch 8/10\n",
            "1875/1875 [==============================] - 10s 5ms/step - loss: 0.2419 - accuracy: 0.9094 - val_loss: 0.3339 - val_accuracy: 0.8809\n",
            "Epoch 9/10\n",
            "1875/1875 [==============================] - 10s 5ms/step - loss: 0.2325 - accuracy: 0.9125 - val_loss: 0.3259 - val_accuracy: 0.8851\n",
            "Epoch 10/10\n",
            "1875/1875 [==============================] - 9s 5ms/step - loss: 0.2225 - accuracy: 0.9165 - val_loss: 0.3296 - val_accuracy: 0.8883\n"
          ]
        },
        {
          "output_type": "execute_result",
          "data": {
            "text/plain": [
              "<keras.callbacks.History at 0x7f70ac7826a0>"
            ]
          },
          "metadata": {},
          "execution_count": 64
        }
      ]
    }
  ]
}