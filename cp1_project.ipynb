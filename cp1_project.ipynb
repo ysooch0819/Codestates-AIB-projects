{
  "nbformat": 4,
  "nbformat_minor": 0,
  "metadata": {
    "colab": {
      "provenance": [],
      "authorship_tag": "ABX9TyNLProWcs8Bh86HMjbrNSBi",
      "include_colab_link": true
    },
    "kernelspec": {
      "name": "python3",
      "display_name": "Python 3"
    },
    "language_info": {
      "name": "python"
    }
  },
  "cells": [
    {
      "cell_type": "markdown",
      "metadata": {
        "id": "view-in-github",
        "colab_type": "text"
      },
      "source": [
        "<a href=\"https://colab.research.google.com/github/ysooch0819/AI16-Projects/blob/main/cp1_project.ipynb\" target=\"_parent\"><img src=\"https://colab.research.google.com/assets/colab-badge.svg\" alt=\"Open In Colab\"/></a>"
      ]
    },
    {
      "cell_type": "code",
      "source": [
        "!pip install cryptography"
      ],
      "metadata": {
        "colab": {
          "base_uri": "https://localhost:8080/"
        },
        "id": "L4MHE8ogrmV_",
        "outputId": "0140e1ee-a50c-4999-876b-9c92fdd3d7c6"
      },
      "execution_count": 3,
      "outputs": [
        {
          "output_type": "stream",
          "name": "stdout",
          "text": [
            "Looking in indexes: https://pypi.org/simple, https://us-python.pkg.dev/colab-wheels/public/simple/\n",
            "Collecting cryptography\n",
            "  Downloading cryptography-39.0.2-cp36-abi3-manylinux_2_28_x86_64.whl (4.2 MB)\n",
            "\u001b[2K     \u001b[90m━━━━━━━━━━━━━━━━━━━━━━━━━━━━━━━━━━━━━━━━\u001b[0m \u001b[32m4.2/4.2 MB\u001b[0m \u001b[31m41.3 MB/s\u001b[0m eta \u001b[36m0:00:00\u001b[0m\n",
            "\u001b[?25hRequirement already satisfied: cffi>=1.12 in /usr/local/lib/python3.9/dist-packages (from cryptography) (1.15.1)\n",
            "Requirement already satisfied: pycparser in /usr/local/lib/python3.9/dist-packages (from cffi>=1.12->cryptography) (2.21)\n",
            "Installing collected packages: cryptography\n",
            "Successfully installed cryptography-39.0.2\n"
          ]
        }
      ]
    },
    {
      "cell_type": "code",
      "execution_count": 51,
      "metadata": {
        "colab": {
          "base_uri": "https://localhost:8080/"
        },
        "id": "HVPc-2VXrYMV",
        "outputId": "257133c7-46ed-4144-941a-1b57e9c6eb61"
      },
      "outputs": [
        {
          "output_type": "execute_result",
          "data": {
            "text/plain": [
              "{'recordId': 5822,\n",
              " 'ArrivalTimeStamp': 1678412891.818,\n",
              " 'data': 'gAAAAABkDtDfu3mn98-ROKd25STCF6ZJaIYdr58py-c1jYDc9BoAGUMcBKwK17tcQ6DxXQl1mjTgTjMtg3AGHXRGvMoh132cEGOyQjV8ypP2f338lfRG8f0aP5Sxa727WC6N1Hiffsxed6p2sHtSbpg34yja9oyHrnRE1KVOLPWR9GD7dF9k3f7XwR88k3Noen_g3HeLedrZPCECPiul-sHgC3URmUfU67vM2-dqfTDosPQ5xiCUCSwuDmJwy74_rLSmWFxHjl623bnX-chTLO3U3YrWNQ91iu5NeBvIqvVstF-t7rqIYDk0xtsrmm4SbeZCpWGaf2cVVgSnJQjb7XRPXbSjgjTyp9wJ-CDfnJrjxLmk99_TEsQCtHQcRCwIOLdS5qvAYXwtLqPEtsQEHzDspYknTuv8sQJ_3VJJc5vqbsP_3zNBa6g5Qxh8qYaJvFjH6ghVlRKh'}"
            ]
          },
          "metadata": {},
          "execution_count": 51
        }
      ],
      "source": [
        "import requests\n",
        "import b64uuid\n",
        "import uuid\n",
        "import base64\n",
        "from cryptography.fernet import Fernet\n",
        "import re\n",
        "import json\n",
        "\n",
        "url = 'http://ec2-3-37-12-122.ap-northeast-2.compute.amazonaws.com/api/data/log'\n",
        "data = requests.get(url).json()\n",
        "data[0]"
      ]
    },
    {
      "cell_type": "code",
      "source": [
        "key = b't-jdqnDewRx9kWithdsTMS21eLrri70TpkMq2A59jX8='\n",
        "fernet = Fernet(key)\n",
        "decrypt_str = fernet.decrypt(data[0]['data'])\n",
        "decrypt_str"
      ],
      "metadata": {
        "colab": {
          "base_uri": "https://localhost:8080/"
        },
        "id": "Pi9PWBlOrkZ7",
        "outputId": "c4a3d7a0-fbdb-4fc7-9dfe-8b2dcdfcf832"
      },
      "execution_count": 42,
      "outputs": [
        {
          "output_type": "execute_result",
          "data": {
            "text/plain": [
              "b\"{'user_id': 'ebda43f475bb8d35cc18c3dd7b8115cab2bed892c2588b70c42feae58c02dd40', 'record_id': 5822, 'activity': 'view', 'url': '/api/products/product/', 'method': 'POST', 'name': 'json_logger', 'inDate': '2023-03-10T01:48:11.818Z', 'detail': {'message': 'POST view', 'levelname': 'INFO'}}\""
            ]
          },
          "metadata": {},
          "execution_count": 42
        }
      ]
    },
    {
      "cell_type": "code",
      "source": [
        "decrypt_str.decode('ascii')"
      ],
      "metadata": {
        "colab": {
          "base_uri": "https://localhost:8080/",
          "height": 72
        },
        "id": "StvmW9Fkrvsn",
        "outputId": "786ea602-3661-413a-ce72-9f31c6fede89"
      },
      "execution_count": 43,
      "outputs": [
        {
          "output_type": "execute_result",
          "data": {
            "text/plain": [
              "\"{'user_id': 'ebda43f475bb8d35cc18c3dd7b8115cab2bed892c2588b70c42feae58c02dd40', 'record_id': 5822, 'activity': 'view', 'url': '/api/products/product/', 'method': 'POST', 'name': 'json_logger', 'inDate': '2023-03-10T01:48:11.818Z', 'detail': {'message': 'POST view', 'levelname': 'INFO'}}\""
            ],
            "application/vnd.google.colaboratory.intrinsic+json": {
              "type": "string"
            }
          },
          "metadata": {},
          "execution_count": 43
        }
      ]
    },
    {
      "cell_type": "code",
      "source": [
        "dic_data = eval(decrypt_str.decode('ascii'))\n",
        "dic_data"
      ],
      "metadata": {
        "colab": {
          "base_uri": "https://localhost:8080/"
        },
        "id": "R_5RZAD4sDSO",
        "outputId": "6896068e-ee77-4db8-fe6a-57de44d91f33"
      },
      "execution_count": 14,
      "outputs": [
        {
          "output_type": "execute_result",
          "data": {
            "text/plain": [
              "{'user_id': 'ebda43f475bb8d35cc18c3dd7b8115cab2bed892c2588b70c42feae58c02dd40',\n",
              " 'record_id': 5822,\n",
              " 'activity': 'view',\n",
              " 'url': '/api/products/product/',\n",
              " 'method': 'POST',\n",
              " 'name': 'json_logger',\n",
              " 'inDate': '2023-03-10T01:48:11.818Z',\n",
              " 'detail': {'message': 'POST view', 'levelname': 'INFO'}}"
            ]
          },
          "metadata": {},
          "execution_count": 14
        }
      ]
    },
    {
      "cell_type": "code",
      "source": [
        "# user_id 처리\n",
        "# user_id : 64자로 구성된 user_id를 b64uuid 모듈을 이용하여 44자로 바꿀 수 있습니다.\n",
        "id_data = dic_data['user_id']\n",
        "try:\n",
        "    uuid_data = uuid.UUID(id_data)\n",
        "    base64_data = base64.urlsafe_b64encode(uuid_data.bytes).decode('utf-8')\n",
        "    shortened_id_data = base64_data.rstrip('=')\n",
        "except ValueError:\n",
        "    shortened_id_data = ''\n",
        "shortened_id_data"
      ],
      "metadata": {
        "colab": {
          "base_uri": "https://localhost:8080/",
          "height": 35
        },
        "id": "DAs8NsWgsKac",
        "outputId": "e11be719-0912-458f-a726-22780f898d6c"
      },
      "execution_count": 37,
      "outputs": [
        {
          "output_type": "execute_result",
          "data": {
            "text/plain": [
              "''"
            ],
            "application/vnd.google.colaboratory.intrinsic+json": {
              "type": "string"
            }
          },
          "metadata": {},
          "execution_count": 37
        }
      ]
    },
    {
      "cell_type": "code",
      "source": [
        "# method 처리\n",
        "method_mapping = {'GET': 1, 'POST': 2}\n",
        "# method : {’GET’: 1, ‘POST’:2} 또는 {1:’GET’, 2:’POST’}와 같이 HTTP Method를 숫자로 변경할 수 있습니다.\n",
        "method_data = dic_data['method']\n",
        "method_num = method_mapping.get(method_data)\n",
        "if method_num:\n",
        "  dic_data['method'] = method_num\n",
        "\n",
        "dic_data"
      ],
      "metadata": {
        "colab": {
          "base_uri": "https://localhost:8080/"
        },
        "id": "4q5_ZPDTtXtN",
        "outputId": "346f623e-cbd0-4beb-ef6b-aa107a513dc8"
      },
      "execution_count": 77,
      "outputs": [
        {
          "output_type": "execute_result",
          "data": {
            "text/plain": [
              "{'user_id': 'd4038d81b261ec584a1fc9f9cecad7f70406e39fa0df3400757e22f333780f4b',\n",
              " 'record_id': 5824,\n",
              " 'activity': 'purchase',\n",
              " 'url': '/api/products/product/',\n",
              " 'method': 2,\n",
              " 'name': 'json_logger',\n",
              " 'inDate': '2023-03-10T01:48:12.488Z',\n",
              " 'detail': {'message': 'POST purchase', 'levelname': 'INFO'}}"
            ]
          },
          "metadata": {},
          "execution_count": 77
        }
      ]
    },
    {
      "cell_type": "code",
      "source": [
        "# url 처리\n",
        "# url : method와 마찬가지로 사전형 데이터타입을 사용하여 사용할 수 있습니다.\n",
        "url_data = dic_data['url']\n",
        "url_data"
      ],
      "metadata": {
        "colab": {
          "base_uri": "https://localhost:8080/",
          "height": 35
        },
        "id": "Cs2w-_twtoN5",
        "outputId": "6ae95b53-2f13-4e38-996f-35e919570ab8"
      },
      "execution_count": 29,
      "outputs": [
        {
          "output_type": "execute_result",
          "data": {
            "text/plain": [
              "'/api/products/product/'"
            ],
            "application/vnd.google.colaboratory.intrinsic+json": {
              "type": "string"
            }
          },
          "metadata": {},
          "execution_count": 29
        }
      ]
    },
    {
      "cell_type": "code",
      "source": [
        "# inDate 처리\n",
        "# inDate : 2022-12-05T12:14:00.179Z 의 형태를 221205121400179의 형태로 바꿀 수 있습니다.\n",
        "date_data = dic_data['inDate']\n",
        "# 원하는 형태로 문자열 변경\n",
        "re.sub(r'[^0-9]' ,'',''.join(date_data[2:]).replace(':','').replace('.',''))"
      ],
      "metadata": {
        "colab": {
          "base_uri": "https://localhost:8080/",
          "height": 35
        },
        "id": "Wk6-fxuasgdg",
        "outputId": "00ff3859-d7de-4326-c8b6-2f7d7243ac14"
      },
      "execution_count": 27,
      "outputs": [
        {
          "output_type": "execute_result",
          "data": {
            "text/plain": [
              "'230310014811818'"
            ],
            "application/vnd.google.colaboratory.intrinsic+json": {
              "type": "string"
            }
          },
          "metadata": {},
          "execution_count": 27
        }
      ]
    },
    {
      "cell_type": "code",
      "source": [
        "!pip install b64uuid"
      ],
      "metadata": {
        "colab": {
          "base_uri": "https://localhost:8080/"
        },
        "id": "8f_fTXPZtWj7",
        "outputId": "a4be853b-da5b-48a3-b97e-42b252c40a33"
      },
      "execution_count": 30,
      "outputs": [
        {
          "output_type": "stream",
          "name": "stdout",
          "text": [
            "Looking in indexes: https://pypi.org/simple, https://us-python.pkg.dev/colab-wheels/public/simple/\n",
            "Collecting b64uuid\n",
            "  Downloading b64uuid-0.1-py3-none-any.whl (16 kB)\n",
            "Installing collected packages: b64uuid\n",
            "Successfully installed b64uuid-0.1\n"
          ]
        }
      ]
    },
    {
      "cell_type": "code",
      "source": [
        "# API로부터 데이터 가져오기\n",
        "url = 'http://ec2-3-37-12-122.ap-northeast-2.compute.amazonaws.com/api/data/log'\n",
        "data = requests.get(url).json()\n",
        "\n",
        "# Fernet 객체 생성\n",
        "key = b't-jdqnDewRx9kWithdsTMS21eLrri70TpkMq2A59jX8='\n",
        "fernet = Fernet(key)\n",
        "\n",
        "# 데이터를 Fernet을 이용하여 decrypt 하기\n",
        "encrypted_data = data[0]['data']\n",
        "decrypted_data = fernet.decrypt(encrypted_data)\n",
        "\n",
        "# user_id 값을 변환하기\n",
        "user_id = dic_data['user_id']\n",
        "b64_uuid = base64.b64encode(bytes.fromhex(user_id)).decode('ascii')\n",
        "b64_uuid_44 = b64_uuid[:22] + '==' + b64_uuid[22:]\n",
        "\n",
        "# 결과 출력\n",
        "print(b64_uuid_44, len(b64_uuid_44))"
      ],
      "metadata": {
        "colab": {
          "base_uri": "https://localhost:8080/"
        },
        "id": "UBB-Ad-vxZ9W",
        "outputId": "54a6eb30-fcce-4abf-9067-6d1a8fc05d9b"
      },
      "execution_count": 79,
      "outputs": [
        {
          "output_type": "stream",
          "name": "stdout",
          "text": [
            "1AONgbJh7FhKH8n5zsrX9w==QG45+g3zQAdX4i8zN4D0s= 46\n"
          ]
        }
      ]
    },
    {
      "cell_type": "code",
      "source": [
        "type(data)"
      ],
      "metadata": {
        "colab": {
          "base_uri": "https://localhost:8080/"
        },
        "id": "bZv8lWNE7POy",
        "outputId": "653e8efa-4e19-48e0-85eb-7fbb1bd7565a"
      },
      "execution_count": 72,
      "outputs": [
        {
          "output_type": "execute_result",
          "data": {
            "text/plain": [
              "list"
            ]
          },
          "metadata": {},
          "execution_count": 72
        }
      ]
    },
    {
      "cell_type": "code",
      "source": [
        "new_data = []"
      ],
      "metadata": {
        "id": "IYpo5L2Q7XhA"
      },
      "execution_count": 73,
      "outputs": []
    },
    {
      "cell_type": "code",
      "source": [
        "for log in data:\n",
        "    encrypted_data = log['data']\n",
        "    decrypted_data = fernet.decrypt(encrypted_data)\n",
        "    user_id = eval(decrypted_data.decode('ascii'))['user_id']\n",
        "    uuid_str = str(user_id)  # UUID 객체를 문자열로 변환\n",
        "    uuid_str_parts = [uuid_str[:16], uuid_str[16:]]  # UUID 문자열을 16자리씩 두 개의 문자열로 분리\n",
        "    b64uuid_parts = [b64uuid.encode(uuid_str_part.encode('ascii')) for uuid_str_part in uuid_str_parts]  # Base64 URL-safe 문자열로 변환\n",
        "    b64_uuid = b64uuid_parts[0] + b64uuid_parts[1]  # 두 개의 Base64 URL-safe 문자열을 이어붙임\n",
        "    b64_uuid_44 = b64_uuid[:22] + '==' + b64_uuid[22:]  # 마지막 두 문자열이 '=='로 끝나도록 처리\n",
        "    log['user_id'] = b64_uuid_44"
      ],
      "metadata": {
        "colab": {
          "base_uri": "https://localhost:8080/",
          "height": 414
        },
        "id": "59eHIVIDGBEd",
        "outputId": "24758e81-b19b-40a9-83ea-57a3322f8738"
      },
      "execution_count": 80,
      "outputs": [
        {
          "output_type": "error",
          "ename": "AttributeError",
          "evalue": "ignored",
          "traceback": [
            "\u001b[0;31m---------------------------------------------------------------------------\u001b[0m",
            "\u001b[0;31mAttributeError\u001b[0m                            Traceback (most recent call last)",
            "\u001b[0;32m<ipython-input-80-9f12b14f9b04>\u001b[0m in \u001b[0;36m<module>\u001b[0;34m\u001b[0m\n\u001b[1;32m      5\u001b[0m     \u001b[0muuid_str\u001b[0m \u001b[0;34m=\u001b[0m \u001b[0mstr\u001b[0m\u001b[0;34m(\u001b[0m\u001b[0muser_id\u001b[0m\u001b[0;34m)\u001b[0m  \u001b[0;31m# UUID 객체를 문자열로 변환\u001b[0m\u001b[0;34m\u001b[0m\u001b[0;34m\u001b[0m\u001b[0m\n\u001b[1;32m      6\u001b[0m     \u001b[0muuid_str_parts\u001b[0m \u001b[0;34m=\u001b[0m \u001b[0;34m[\u001b[0m\u001b[0muuid_str\u001b[0m\u001b[0;34m[\u001b[0m\u001b[0;34m:\u001b[0m\u001b[0;36m16\u001b[0m\u001b[0;34m]\u001b[0m\u001b[0;34m,\u001b[0m \u001b[0muuid_str\u001b[0m\u001b[0;34m[\u001b[0m\u001b[0;36m16\u001b[0m\u001b[0;34m:\u001b[0m\u001b[0;34m]\u001b[0m\u001b[0;34m]\u001b[0m  \u001b[0;31m# UUID 문자열을 16자리씩 두 개의 문자열로 분리\u001b[0m\u001b[0;34m\u001b[0m\u001b[0;34m\u001b[0m\u001b[0m\n\u001b[0;32m----> 7\u001b[0;31m     \u001b[0mb64uuid_parts\u001b[0m \u001b[0;34m=\u001b[0m \u001b[0;34m[\u001b[0m\u001b[0mb64uuid\u001b[0m\u001b[0;34m.\u001b[0m\u001b[0mencode\u001b[0m\u001b[0;34m(\u001b[0m\u001b[0muuid_str_part\u001b[0m\u001b[0;34m.\u001b[0m\u001b[0mencode\u001b[0m\u001b[0;34m(\u001b[0m\u001b[0;34m'ascii'\u001b[0m\u001b[0;34m)\u001b[0m\u001b[0;34m)\u001b[0m \u001b[0;32mfor\u001b[0m \u001b[0muuid_str_part\u001b[0m \u001b[0;32min\u001b[0m \u001b[0muuid_str_parts\u001b[0m\u001b[0;34m]\u001b[0m  \u001b[0;31m# Base64 URL-safe 문자열로 변환\u001b[0m\u001b[0;34m\u001b[0m\u001b[0;34m\u001b[0m\u001b[0m\n\u001b[0m\u001b[1;32m      8\u001b[0m     \u001b[0mb64_uuid\u001b[0m \u001b[0;34m=\u001b[0m \u001b[0mb64uuid_parts\u001b[0m\u001b[0;34m[\u001b[0m\u001b[0;36m0\u001b[0m\u001b[0;34m]\u001b[0m \u001b[0;34m+\u001b[0m \u001b[0mb64uuid_parts\u001b[0m\u001b[0;34m[\u001b[0m\u001b[0;36m1\u001b[0m\u001b[0;34m]\u001b[0m  \u001b[0;31m# 두 개의 Base64 URL-safe 문자열을 이어붙임\u001b[0m\u001b[0;34m\u001b[0m\u001b[0;34m\u001b[0m\u001b[0m\n\u001b[1;32m      9\u001b[0m     \u001b[0mb64_uuid_44\u001b[0m \u001b[0;34m=\u001b[0m \u001b[0mb64_uuid\u001b[0m\u001b[0;34m[\u001b[0m\u001b[0;34m:\u001b[0m\u001b[0;36m22\u001b[0m\u001b[0;34m]\u001b[0m \u001b[0;34m+\u001b[0m \u001b[0;34m'=='\u001b[0m \u001b[0;34m+\u001b[0m \u001b[0mb64_uuid\u001b[0m\u001b[0;34m[\u001b[0m\u001b[0;36m22\u001b[0m\u001b[0;34m:\u001b[0m\u001b[0;34m]\u001b[0m  \u001b[0;31m# 마지막 두 문자열이 '=='로 끝나도록 처리\u001b[0m\u001b[0;34m\u001b[0m\u001b[0;34m\u001b[0m\u001b[0m\n",
            "\u001b[0;32m<ipython-input-80-9f12b14f9b04>\u001b[0m in \u001b[0;36m<listcomp>\u001b[0;34m(.0)\u001b[0m\n\u001b[1;32m      5\u001b[0m     \u001b[0muuid_str\u001b[0m \u001b[0;34m=\u001b[0m \u001b[0mstr\u001b[0m\u001b[0;34m(\u001b[0m\u001b[0muser_id\u001b[0m\u001b[0;34m)\u001b[0m  \u001b[0;31m# UUID 객체를 문자열로 변환\u001b[0m\u001b[0;34m\u001b[0m\u001b[0;34m\u001b[0m\u001b[0m\n\u001b[1;32m      6\u001b[0m     \u001b[0muuid_str_parts\u001b[0m \u001b[0;34m=\u001b[0m \u001b[0;34m[\u001b[0m\u001b[0muuid_str\u001b[0m\u001b[0;34m[\u001b[0m\u001b[0;34m:\u001b[0m\u001b[0;36m16\u001b[0m\u001b[0;34m]\u001b[0m\u001b[0;34m,\u001b[0m \u001b[0muuid_str\u001b[0m\u001b[0;34m[\u001b[0m\u001b[0;36m16\u001b[0m\u001b[0;34m:\u001b[0m\u001b[0;34m]\u001b[0m\u001b[0;34m]\u001b[0m  \u001b[0;31m# UUID 문자열을 16자리씩 두 개의 문자열로 분리\u001b[0m\u001b[0;34m\u001b[0m\u001b[0;34m\u001b[0m\u001b[0m\n\u001b[0;32m----> 7\u001b[0;31m     \u001b[0mb64uuid_parts\u001b[0m \u001b[0;34m=\u001b[0m \u001b[0;34m[\u001b[0m\u001b[0mb64uuid\u001b[0m\u001b[0;34m.\u001b[0m\u001b[0mencode\u001b[0m\u001b[0;34m(\u001b[0m\u001b[0muuid_str_part\u001b[0m\u001b[0;34m.\u001b[0m\u001b[0mencode\u001b[0m\u001b[0;34m(\u001b[0m\u001b[0;34m'ascii'\u001b[0m\u001b[0;34m)\u001b[0m\u001b[0;34m)\u001b[0m \u001b[0;32mfor\u001b[0m \u001b[0muuid_str_part\u001b[0m \u001b[0;32min\u001b[0m \u001b[0muuid_str_parts\u001b[0m\u001b[0;34m]\u001b[0m  \u001b[0;31m# Base64 URL-safe 문자열로 변환\u001b[0m\u001b[0;34m\u001b[0m\u001b[0;34m\u001b[0m\u001b[0m\n\u001b[0m\u001b[1;32m      8\u001b[0m     \u001b[0mb64_uuid\u001b[0m \u001b[0;34m=\u001b[0m \u001b[0mb64uuid_parts\u001b[0m\u001b[0;34m[\u001b[0m\u001b[0;36m0\u001b[0m\u001b[0;34m]\u001b[0m \u001b[0;34m+\u001b[0m \u001b[0mb64uuid_parts\u001b[0m\u001b[0;34m[\u001b[0m\u001b[0;36m1\u001b[0m\u001b[0;34m]\u001b[0m  \u001b[0;31m# 두 개의 Base64 URL-safe 문자열을 이어붙임\u001b[0m\u001b[0;34m\u001b[0m\u001b[0;34m\u001b[0m\u001b[0m\n\u001b[1;32m      9\u001b[0m     \u001b[0mb64_uuid_44\u001b[0m \u001b[0;34m=\u001b[0m \u001b[0mb64_uuid\u001b[0m\u001b[0;34m[\u001b[0m\u001b[0;34m:\u001b[0m\u001b[0;36m22\u001b[0m\u001b[0;34m]\u001b[0m \u001b[0;34m+\u001b[0m \u001b[0;34m'=='\u001b[0m \u001b[0;34m+\u001b[0m \u001b[0mb64_uuid\u001b[0m\u001b[0;34m[\u001b[0m\u001b[0;36m22\u001b[0m\u001b[0;34m:\u001b[0m\u001b[0;34m]\u001b[0m  \u001b[0;31m# 마지막 두 문자열이 '=='로 끝나도록 처리\u001b[0m\u001b[0;34m\u001b[0m\u001b[0;34m\u001b[0m\u001b[0m\n",
            "\u001b[0;31mAttributeError\u001b[0m: module 'b64uuid' has no attribute 'encode'"
          ]
        }
      ]
    }
  ]
}