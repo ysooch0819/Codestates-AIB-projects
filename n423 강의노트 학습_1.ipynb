{
  "nbformat": 4,
  "nbformat_minor": 0,
  "metadata": {
    "colab": {
      "provenance": [],
      "authorship_tag": "ABX9TyNommG6DSocyQI4m3W3zRI6",
      "include_colab_link": true
    },
    "kernelspec": {
      "name": "python3",
      "display_name": "Python 3"
    },
    "language_info": {
      "name": "python"
    }
  },
  "cells": [
    {
      "cell_type": "markdown",
      "metadata": {
        "id": "view-in-github",
        "colab_type": "text"
      },
      "source": [
        "<a href=\"https://colab.research.google.com/github/ysooch0819/AI16-Projects/blob/main/n423%20%EA%B0%95%EC%9D%98%EB%85%B8%ED%8A%B8%20%ED%95%99%EC%8A%B5_1.ipynb\" target=\"_parent\"><img src=\"https://colab.research.google.com/assets/colab-badge.svg\" alt=\"Open In Colab\"/></a>"
      ]
    },
    {
      "cell_type": "code",
      "execution_count": 1,
      "metadata": {
        "id": "VS58Osc0zD1R"
      },
      "outputs": [],
      "source": [
        "import numpy as np\n",
        "\n",
        "class RNN:\n",
        "  def __init__(self, Wx, Wh, b):\n",
        "    self.params = [Wx, Wh, b]\n",
        "    # 필요한 가중치 초기화\n",
        "    self.grads = [np.zeros_like(Wx), np.zeros_like(Wh), np.zeros_like(b)]\n",
        "    self.cache = None\n",
        "  \n",
        "  def forward(self, x, h_prev):\n",
        "    Wx, Wh, b = self.params\n",
        "    t = np.matmul(h_prev, Wh) + np.matmul(x, Wx) + b\n",
        "    h_next = np.tanh(t)\n",
        "\n",
        "    self.cache = (x, h_prev, h_next)\n",
        "    return h_next"
      ]
    },
    {
      "cell_type": "code",
      "source": [
        "### RNN 은 모델이 아니라, 모델을 만드는데 쓰이는 층이다. LSTM, Attention 모두 마찬가지. 하나의 함수"
      ],
      "metadata": {
        "id": "9CknVn1N7u4E"
      },
      "execution_count": 4,
      "outputs": []
    },
    {
      "cell_type": "code",
      "source": [
        "from __future__ import print_function\n",
        "\n",
        "from tensorflow.keras.preprocessing import sequence\n",
        "from tensorflow.keras.models import Sequential\n",
        "from tensorflow.keras.layers import Dense, Embedding\n",
        "from tensorflow.keras.layers import LSTM\n",
        "from tensorflow.keras.datasets import imdb\n",
        "\n",
        "# 파라미터 설정\n",
        "max_features = 20000\n",
        "maxlen = 80\n",
        "batch_size = 32\n",
        "\n",
        "# 데이터 불러오기\n",
        "print('Loading data...')\n",
        "(x_train, y_train), (x_test, y_test) = imdb.load_data(num_words=max_features)\n",
        "print(len(x_train), 'train sequences')\n",
        "print(len(x_test), 'test sequences')"
      ],
      "metadata": {
        "colab": {
          "base_uri": "https://localhost:8080/"
        },
        "id": "VAzjWGKI7oc7",
        "outputId": "ca9997e7-24d1-423a-fd0f-c33caa6d48f9"
      },
      "execution_count": 5,
      "outputs": [
        {
          "output_type": "stream",
          "name": "stdout",
          "text": [
            "Loading data...\n",
            "Downloading data from https://storage.googleapis.com/tensorflow/tf-keras-datasets/imdb.npz\n",
            "17464789/17464789 [==============================] - 0s 0us/step\n",
            "25000 train sequences\n",
            "25000 test sequences\n"
          ]
        }
      ]
    },
    {
      "cell_type": "code",
      "source": [
        "# Sequence를 Padding 해준다.\n",
        "print('Pad Sequences (samples, maxlen)')\n",
        "x_train = sequence.pad_sequences(x_train, maxlen=maxlen)\n",
        "x_test = sequence.pad_sequences(x_test, maxlen=maxlen)\n",
        "print('x_train shape: ', x_train.shape)\n",
        "print('x_test shape: ', x_test.shape)"
      ],
      "metadata": {
        "colab": {
          "base_uri": "https://localhost:8080/"
        },
        "id": "69bRqjg18j62",
        "outputId": "e62b12d2-ae6e-4252-e724-c9afe788f5a4"
      },
      "execution_count": 7,
      "outputs": [
        {
          "output_type": "stream",
          "name": "stdout",
          "text": [
            "Pad Sequences (samples, maxlen)\n",
            "x_train shape:  (25000, 80)\n",
            "x_test shape:  (25000, 80)\n"
          ]
        }
      ]
    },
    {
      "cell_type": "code",
      "source": [
        "x_train[0]"
      ],
      "metadata": {
        "colab": {
          "base_uri": "https://localhost:8080/"
        },
        "id": "hkvAdc0h9Jgu",
        "outputId": "4a9c4aad-2f7c-45b8-c2ee-eb586f6a7565"
      },
      "execution_count": 8,
      "outputs": [
        {
          "output_type": "execute_result",
          "data": {
            "text/plain": [
              "array([   15,   256,     4,     2,     7,  3766,     5,   723,    36,\n",
              "          71,    43,   530,   476,    26,   400,   317,    46,     7,\n",
              "           4, 12118,  1029,    13,   104,    88,     4,   381,    15,\n",
              "         297,    98,    32,  2071,    56,    26,   141,     6,   194,\n",
              "        7486,    18,     4,   226,    22,    21,   134,   476,    26,\n",
              "         480,     5,   144,    30,  5535,    18,    51,    36,    28,\n",
              "         224,    92,    25,   104,     4,   226,    65,    16,    38,\n",
              "        1334,    88,    12,    16,   283,     5,    16,  4472,   113,\n",
              "         103,    32,    15,    16,  5345,    19,   178,    32],\n",
              "      dtype=int32)"
            ]
          },
          "metadata": {},
          "execution_count": 8
        }
      ]
    },
    {
      "cell_type": "code",
      "source": [
        "import tensorflow as tf\n",
        "\n",
        "# model 정의\n",
        "model = tf.keras.models.Sequential([\n",
        "    tf.keras.layers.Embedding(max_features, 128), # Embedding Layer를 거친 후의 shape: (batch_size, maxlen, embedding_size=128)\n",
        "    tf.keras.layers.LSTM(128, dropout=0.2, recurrent_dropout=0.2),# LSTM Layer를 거친 후의 shape: (batch_size, 1, hidden_size=128)\n",
        "    tf.keras.layers.Dense(1, activation='sigmoid')\n",
        "])\n",
        "\n",
        "model.compile(loss='binary_crossentropy',\n",
        "              optimizer='adam',\n",
        "              metrics=['accuracy'])\n",
        "\n",
        "model.summary()"
      ],
      "metadata": {
        "colab": {
          "base_uri": "https://localhost:8080/"
        },
        "id": "g-D9NxcQ9VO-",
        "outputId": "9d4419eb-aa7a-44c1-ea0d-546d094991cc"
      },
      "execution_count": 9,
      "outputs": [
        {
          "output_type": "stream",
          "name": "stdout",
          "text": [
            "Model: \"sequential\"\n",
            "_________________________________________________________________\n",
            " Layer (type)                Output Shape              Param #   \n",
            "=================================================================\n",
            " embedding (Embedding)       (None, None, 128)         2560000   \n",
            "                                                                 \n",
            " lstm (LSTM)                 (None, 128)               131584    \n",
            "                                                                 \n",
            " dense (Dense)               (None, 1)                 129       \n",
            "                                                                 \n",
            "=================================================================\n",
            "Total params: 2,691,713\n",
            "Trainable params: 2,691,713\n",
            "Non-trainable params: 0\n",
            "_________________________________________________________________\n"
          ]
        }
      ]
    },
    {
      "cell_type": "code",
      "source": [
        "unicorns = model.fit(x_train, y_train,\n",
        "                     batch_size=batch_size,\n",
        "                     epochs=3,\n",
        "                     validation_data=(x_test, y_test))"
      ],
      "metadata": {
        "colab": {
          "base_uri": "https://localhost:8080/"
        },
        "id": "0YNz1H--AC_B",
        "outputId": "994a27e8-52ee-48b0-b464-d89a2b0048eb"
      },
      "execution_count": 11,
      "outputs": [
        {
          "output_type": "stream",
          "name": "stdout",
          "text": [
            "Epoch 1/3\n",
            "782/782 [==============================] - 274s 346ms/step - loss: 0.4237 - accuracy: 0.7986 - val_loss: 0.3549 - val_accuracy: 0.8437\n",
            "Epoch 2/3\n",
            "782/782 [==============================] - 212s 271ms/step - loss: 0.2496 - accuracy: 0.8996 - val_loss: 0.3822 - val_accuracy: 0.8375\n",
            "Epoch 3/3\n",
            "782/782 [==============================] - 267s 341ms/step - loss: 0.1631 - accuracy: 0.9389 - val_loss: 0.4332 - val_accuracy: 0.8286\n"
          ]
        }
      ]
    },
    {
      "cell_type": "code",
      "source": [
        "import matplotlib.pyplot as plt\n",
        "\n",
        "# Plot training & validation loss values\n",
        "plt.plot(unicorns.history['loss'])\n",
        "plt.plot(unicorns.history['val_loss'])\n",
        "plt.title('Model loss')\n",
        "plt.ylabel('Loss')\n",
        "plt.xlabel('Epoch')\n",
        "plt.legend(['Train', 'Test'], loc='upper left')\n",
        "plt.show();"
      ],
      "metadata": {
        "colab": {
          "base_uri": "https://localhost:8080/",
          "height": 295
        },
        "id": "aciCndtSAXvO",
        "outputId": "0c09cb55-25f2-4de3-a500-597831b02abe"
      },
      "execution_count": 12,
      "outputs": [
        {
          "output_type": "display_data",
          "data": {
            "text/plain": [
              "<Figure size 432x288 with 1 Axes>"
            ],
            "image/png": "[encoded data removed]"
          },
          "metadata": {
            "needs_background": "light"
          }
        }
      ]
    },
    {
      "cell_type": "code",
      "source": [
        "# Keras를 이용한 LSTM 텍스트 생성기\n",
        "\n",
        "from __future__ import print_function\n",
        "from keras.callbacks import LambdaCallback\n",
        "from keras.models import Sequential\n",
        "from keras.layers import Dense, LSTM\n",
        "from keras.optimizers import RMSprop\n",
        "from keras.utils.data_utils import get_file\n",
        "import numpy as np\n",
        "import random\n",
        "import sys\n",
        "import io\n",
        "import IPython\n",
        "\n",
        "path = get_file(\n",
        "    'nietzschee.txt', origin='https://s3.amazonaws.com/text-datasets/nietzsche.txt')\n",
        "with io.open(path, encoding='utf-8') as f:\n",
        "    text = f.read().lower()\n",
        "print('corpus length: ', len(text))\n",
        "\n",
        "chars = sorted(list(set(text)))\n",
        "print('total chars: ', len(chars))\n",
        "char_indices = dict((c, i) for i, c in enumerate(chars))\n",
        "indices_char = dict((i, c) for i, c in enumerate(chars))"
      ],
      "metadata": {
        "colab": {
          "base_uri": "https://localhost:8080/"
        },
        "id": "I1ueEexkA9wk",
        "outputId": "d34143f5-5d15-45fd-9cc0-3bc74d9d3e0a"
      },
      "execution_count": 13,
      "outputs": [
        {
          "output_type": "stream",
          "name": "stdout",
          "text": [
            "Downloading data from https://s3.amazonaws.com/text-datasets/nietzsche.txt\n",
            "600901/600901 [==============================] - 0s 1us/step\n",
            "corpus length:  600893\n",
            "total chars:  57\n"
          ]
        }
      ]
    },
    {
      "cell_type": "code",
      "source": [
        "maxlen = 40\n",
        "step = 3\n",
        "\n",
        "sentences = []\n",
        "next_chars = []\n",
        "\n",
        "for i in range(0, len(text) - maxlen, step):\n",
        "    sentences.append(text[i: i + maxlen])\n",
        "    next_chars.append(text[i+maxlen])\n",
        "print('nb sequences: ', len(sentences))\n",
        "print('Vectorization...')\n",
        "\n",
        "x = np.zeros((len(sentences), maxlen, len(chars)), dtype=bool)\n",
        "y = np.zeros((len(sentences), len(chars)), dtype=bool)\n",
        "\n",
        "for i, sentence in enumerate(sentences):\n",
        "    for t, char in enumerate(sentence):\n",
        "        x[i, t, char_indices[char]] = 1\n",
        "    y[i, char_indices[next_chars[i]]]=1"
      ],
      "metadata": {
        "colab": {
          "base_uri": "https://localhost:8080/"
        },
        "id": "kIl_fHhUDVow",
        "outputId": "55fc970b-fc4c-4b2c-c3c4-b6c0d14e7aa0"
      },
      "execution_count": 14,
      "outputs": [
        {
          "output_type": "stream",
          "name": "stdout",
          "text": [
            "nb sequences:  200285\n",
            "Vectorization...\n"
          ]
        }
      ]
    },
    {
      "cell_type": "code",
      "source": [
        "# LSTM 모델 제작\n",
        "print('Build model...')\n",
        "model = Sequential()\n",
        "model.add(LSTM(128, input_shape=(maxlen, len(chars)))) # maxlen길이의 문장, 원핫벡터\n",
        "model.add(Dense(len(chars), activation='softmax'))\n",
        "\n",
        "optimizer = RMSprop(learning_rate=0.01)\n",
        "model.compile(loss='categorical_crossentropy', optimizer=optimizer)"
      ],
      "metadata": {
        "colab": {
          "base_uri": "https://localhost:8080/"
        },
        "id": "Y3dFarZ8Ea8x",
        "outputId": "ed1092a9-c204-4165-d1f2-ef7aa7892125"
      },
      "execution_count": 15,
      "outputs": [
        {
          "output_type": "stream",
          "name": "stdout",
          "text": [
            "Build model...\n"
          ]
        }
      ]
    },
    {
      "cell_type": "code",
      "source": [
        "# sample 문장 생성하는 함수\n",
        "def sample(preds, temperature=1.0):\n",
        "    preds = np.asarray(preds).astype('float64')\n",
        "    preds = np.log(preds) / temperature\n",
        "    exp_preds = np.exp(preds)\n",
        "    preds = exp_preds / np.sum(exp_preds)\n",
        "    probas = np.random.multinomial(1, preds, 1)\n",
        "    return np.argmax(probas)\n",
        "\n",
        "# Epoch가 끝날때마다 samplee 문장을 생성하는 함수\n",
        "def on_epoch_end(epoch, _):\n",
        "    # clear_output : 이전 출력 지우기\n",
        "    IPython.display.clear_output(wait=True)\n",
        "\n",
        "    print()\n",
        "    print('----- Generating text after Epoch: %d' % epoch)\n",
        "    start_index = random.randint(0, len(text)-maxlen-1)\n",
        "\n",
        "    # temperature를 조정하여 단어 선택 시 다양성 부여\n",
        "    for diversity in [0.2, 0.5, 1.0, 1.2]:\n",
        "        print('----- diversity:', diversity)\n",
        "\n",
        "        generated = ''\n",
        "        sentence = text[start_index: start_index+maxlen]\n",
        "        generated +=sentence\n",
        "        print('----- Generating with seed: \"' + sentence + '\"')\n",
        "        sys.stdout.write(generated)\n",
        "\n",
        "        for i in range(400):\n",
        "            x_pred = np.zeros((1, maxlen, len(chars)))\n",
        "            for t, char in enumerate(sentence):\n",
        "                x_pred[0, t, char_indices[char]]=1.\n",
        "            \n",
        "            preds = model.predict(x_pred, verbose=0)[0]\n",
        "            next_index = sample(preds, diversity)\n",
        "            next_char = indices_char[next_index]\n",
        "\n",
        "            generated += next_char\n",
        "            sentence = sentence[1:] + next_char\n",
        "\n",
        "            sys.stdout.write(next_char)\n",
        "            sys.stdout.flush()\n",
        "        print()\n",
        "\n",
        "print_callback = LambdaCallback(on_epoch_end = on_epoch_end)"
      ],
      "metadata": {
        "id": "TU-5QpdfFC-B"
      },
      "execution_count": 16,
      "outputs": []
    },
    {
      "cell_type": "code",
      "source": [
        "model.fit(x, y,\n",
        "          batch_size=128,\n",
        "          epochs=60,\n",
        "          callbacks=[print_callback])"
      ],
      "metadata": {
        "colab": {
          "base_uri": "https://localhost:8080/"
        },
        "id": "PmrbncZXGlx4",
        "outputId": "5fe8d5b6-b027-44dc-8e5d-c8db5f94751c"
      },
      "execution_count": 17,
      "outputs": [
        {
          "output_type": "stream",
          "name": "stdout",
          "text": [
            "\n",
            "----- Generating text after Epoch: 59\n",
            "----- diversity: 0.2\n",
            "----- Generating with seed: \"e: goethe's\n",
            "\"faust,\" part ii, act v. the\"\n",
            "e: goethe's\n",
            "\"faust,\" part ii, act v. the self-denial that is the such a philosopher and the self-denial that is the conserves of all the self-denial that in the subject of the self-destruction of the subject, and all the self-denial that is the self-probadocs the self-denial that is the self-denial that is it is a process to the process the self-denial that is the problem of the spirit and serve the subject of the self-denial that is th\n",
            "----- diversity: 0.5\n",
            "----- Generating with seed: \"e: goethe's\n",
            "\"faust,\" part ii, act v. the\"\n",
            "e: goethe's\n",
            "\"faust,\" part ii, act v. the more that is he may be his degree of belong and deceive and indisintinal, and with the consequences of it possible and philosophical emotions as a man of the same and as he will also the continue and contemporaries and also the all the subject, and will at a doubt in the sense more the will\n",
            "believe a presses and he despectid and prompting his serve to the backing the world has all the same than i\n",
            "----- diversity: 1.0\n",
            "----- Generating with seed: \"e: goethe's\n",
            "\"faust,\" part ii, act v. the\"\n",
            "e: goethe's\n",
            "\"faust,\" part ii, act v. the higher ears and churblewns a really gimiver the older how the most retertmented by unallowejkgenism for a new increal to their\n",
            "economal and brones essence of metaphysical upon interposed against utherlying,\n",
            "mote--it has confers he happy suffering the beforely\n",
            "latter their task-soting of their\n",
            "coldly--at a\n",
            "litter ridding and\n",
            "virtuouess to their existence, with necessarily to flatter was breptent s\n",
            "----- diversity: 1.2\n",
            "----- Generating with seed: \"e: goethe's\n",
            "\"faust,\" part ii, act v. the\"\n",
            "e: goethe's\n",
            "\"faust,\" part ii, act v. the ual inserrond in clever\n",
            "it, and german chace whethes otherden about nobiel--this\n",
            "bepocl; but about his self-denorougonce\n",
            "perhaps, mystery also weapterment he iselfestouplenes, more\n",
            "curiousness its aothims; and refined of\n",
            "dey shubad. he knows--they have growks\n",
            "eternal eulchess of europe and \"great: jristable\n",
            "tach known you just for infmicate\n",
            "reverence\n",
            "of the fays, a d wavew ale vimigeted that thee\n",
            "1565/1565 [==============================] - 293s 187ms/step - loss: 1.2494\n"
          ]
        },
        {
          "output_type": "execute_result",
          "data": {
            "text/plain": [
              "<keras.callbacks.History at 0x7f69479d6d60>"
            ]
          },
          "metadata": {},
          "execution_count": 17
        }
      ]
    }
  ]
}