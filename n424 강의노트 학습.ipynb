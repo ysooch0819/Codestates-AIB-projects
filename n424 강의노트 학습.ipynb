{
  "nbformat": 4,
  "nbformat_minor": 0,
  "metadata": {
    "colab": {
      "provenance": [],
      "authorship_tag": "ABX9TyPP7IPP63+BZkUoUw+S7w92",
      "include_colab_link": true
    },
    "kernelspec": {
      "name": "python3",
      "display_name": "Python 3"
    },
    "language_info": {
      "name": "python"
    },
    "accelerator": "GPU",
    "gpuClass": "standard"
  },
  "cells": [
    {
      "cell_type": "markdown",
      "metadata": {
        "id": "view-in-github",
        "colab_type": "text"
      },
      "source": [
        "<a href=\"https://colab.research.google.com/github/ysooch0819/AI16-Projects/blob/main/n424%20%EA%B0%95%EC%9D%98%EB%85%B8%ED%8A%B8%20%ED%95%99%EC%8A%B5.ipynb\" target=\"_parent\"><img src=\"https://colab.research.google.com/assets/colab-badge.svg\" alt=\"Open In Colab\"/></a>"
      ]
    },
    {
      "cell_type": "code",
      "execution_count": 1,
      "metadata": {
        "id": "5-id3kQhrQ3D"
      },
      "outputs": [],
      "source": [
        "# 트랜스포머\n",
        "# 병렬화를 위해  모든 단어 벡터를 동시에 입력받음\n",
        "# 단어의 상대적인 위치정보를 담은 벡터를 만드는 과정: Positional Encoding\n"
      ]
    },
    {
      "cell_type": "code",
      "source": [
        "import numpy as np\n",
        "\n",
        "def get_angles(pos, i, d_model):\n",
        "\n",
        "    angle_rates = 1/np.powere(10000, (2 * (i//2)) / np.float32(d_model))\n",
        "    return pos * angle_rates"
      ],
      "metadata": {
        "id": "RppDeizXr3Ag"
      },
      "execution_count": 2,
      "outputs": []
    },
    {
      "cell_type": "code",
      "source": [
        "import tensorflow as tf\n",
        "def positional_encoding(position, d_model):\n",
        "    angle_rads = get_angles(np.arange(position)[:, np.newaxis],\n",
        "                            np.arange(d_model)[np.newaxis, :],\n",
        "                            d_model)\n",
        "    \n",
        "    angle_rads[:, 0::2] = np.sin(angle_rads[:, 0::2])\n",
        "\n",
        "    angle_rads[:, 1::2] = np.cos(angle_rads[:, 1::2])\n",
        "\n",
        "    pos_encoding = angle_rads[np.newaxis, ...]\n",
        "\n",
        "    return tf.cast(pos_encoding, dtype=tf.float32)"
      ],
      "metadata": {
        "id": "Z5zcaS8VsGlT"
      },
      "execution_count": 3,
      "outputs": []
    },
    {
      "cell_type": "code",
      "source": [
        "# Self-Attention 구현\n",
        "def scaled_dot_product_attention(q, k, v, mask):\n",
        "    \"\"\"\n",
        "    Attention 가중치를 구하는 함수\n",
        "    q, k, v의  leading dimension은 동일해야 한다\n",
        "    k, v의 penultimate dimension이 동일해야 한다. seq_len_k = seq_len_v\n",
        "\n",
        "    Mask는 타입(padding or look ahead)에 따라 다른 차원을 가질 수 있다.\n",
        "    덧셈 시 브로드캐스팅 될 수 있어야 한다.\n",
        "\n",
        "    q: query shape (seq_len_q, depth)\n",
        "    k: key shape (seq_len_k, depth)\n",
        "    v: value shape (seq_len_v, depth_v)\n",
        "    mask: Float tensor with shape broadcastable to (..., seq_len_q, seq_len_k), Defaults to None.\n",
        "\n",
        "    returns:\n",
        "      output, attention_weights\n",
        "    \"\"\"\n",
        "\n",
        "    matmul_qk = tf.matmul(q, k, transpose_b=True)\n",
        "\n",
        "    # matmul_qk(쿼리와 키의 내적)을 dk의 제곱근으로 scaling\n",
        "    dk = tf.cast(tf.shape(k)[-1], tf.float32)\n",
        "    scaled_attention_logits = matmul_qk / tf.math.sqrt(dk)\n",
        "\n",
        "    \"\"\"\n",
        "    mask가 있을 경우, masking 된 자리(mask=1)에는 (-inf)에 해당하는 절댓값이 큰 음수 -1e9(=-10억)을 더해준다.\n",
        "    그 값에 softmax를 취해주면 거의 0에 가까운 값이 나온다. 그러면 다음 value 계산 시 반영 x\n",
        "    \"\"\"\n",
        "\n",
        "    # 마스킹\n",
        "    if mask is not None:\n",
        "        scaled_attention_logits += (mask * -1e9)\n",
        "    \n",
        "    # 소프트맥스 함수를 통해서 attention weight을 구하기\n",
        "    attention_weights = tf.nn.softmax(scaled_attention_logits, axis=-1)\n",
        "\n",
        "    output = tf.matmul(attention_weights, v)\n",
        "\n",
        "    return output, attention_weights"
      ],
      "metadata": {
        "id": "ske2Fay_tEQJ"
      },
      "execution_count": 7,
      "outputs": []
    },
    {
      "cell_type": "code",
      "source": [
        "# Multi-Head Attention 구현\n",
        "def point_wise_feed_forward_network(d_model, dff):\n",
        "    '''\n",
        "    FFNN 을 구현\n",
        "    Args:\n",
        "      d_model : 모델의 차원\n",
        "      dff : 은닉층의 차원 수, 논문에서는 2048 사용\n",
        "    '''\n",
        "    return tf.keras.Sequential([\n",
        "        tf.keras.layers.Dense(dff, activation='relu'),\n",
        "        tf.keras.layers.Dense(d_model)\n",
        "    ])"
      ],
      "metadata": {
        "id": "E9RySeJuuKmG"
      },
      "execution_count": 6,
      "outputs": []
    },
    {
      "cell_type": "code",
      "source": [
        "# 트랜스포머 예제\n",
        "import pathlib\n",
        "import random\n",
        "import string\n",
        "import re\n",
        "import numpy as np\n",
        "import tensorflow as tf\n",
        "from tensorflow import keras\n",
        "from tensorflow.keras import layers\n",
        "from keras.layers import TextVectorization"
      ],
      "metadata": {
        "id": "V9buFbEBu2wt"
      },
      "execution_count": 8,
      "outputs": []
    },
    {
      "cell_type": "code",
      "source": [
        "text_file = keras.utils.get_file(\n",
        "    fname='spa-eng.zip',\n",
        "    origin=\"http://storage.googleapis.com/download.tensorflow.org/data/spa-eng.zip\",\n",
        "    extract = True,\n",
        ")\n",
        "text_file = pathlib.Path(text_file).parent / \"spa-eng\" / \"spa.txt\""
      ],
      "metadata": {
        "colab": {
          "base_uri": "https://localhost:8080/"
        },
        "id": "XiY__-vOvEyC",
        "outputId": "0b809857-b515-44bc-9567-eeaa11be8ce5"
      },
      "execution_count": 9,
      "outputs": [
        {
          "output_type": "stream",
          "name": "stdout",
          "text": [
            "Downloading data from http://storage.googleapis.com/download.tensorflow.org/data/spa-eng.zip\n",
            "2638744/2638744 [==============================] - 0s 0us/step\n"
          ]
        }
      ]
    },
    {
      "cell_type": "code",
      "source": [
        "with open(text_file) as f:\n",
        "    lines = f.read().split(\"\\n\")[:-1]\n",
        "\n",
        "text_pairs = []\n",
        "\n",
        "for line in lines:\n",
        "    eng, spa = line.split('\\t')\n",
        "    spa = \"[start] \" + spa + \" [end]\"\n",
        "    text_pairs.append((eng, spa))"
      ],
      "metadata": {
        "id": "uWNpX9HbvW8v"
      },
      "execution_count": 10,
      "outputs": []
    },
    {
      "cell_type": "code",
      "source": [
        "for _ in range(5):\n",
        "    print(random.choice(text_pairs))"
      ],
      "metadata": {
        "colab": {
          "base_uri": "https://localhost:8080/"
        },
        "id": "82IkIE2Nvm8s",
        "outputId": "f8ee521c-3201-43fa-f7cf-e35c6133f5b9"
      },
      "execution_count": 11,
      "outputs": [
        {
          "output_type": "stream",
          "name": "stdout",
          "text": [
            "('I think he is right.', '[start] Pienso que tiene razón. [end]')\n",
            "('What have you heard?', '[start] ¿Qué has oído? [end]')\n",
            "('Generally speaking, the climate of Japan is mild.', '[start] Por lo general, el clima de Japón es suave. [end]')\n",
            "('Nobody thinks Tom will win the race.', '[start] Nadie cree que Tom gane la carrera. [end]')\n",
            "('You have one minute to defend your point of view.', '[start] Tenés un minuto para defender tu punto de vista. [end]')\n"
          ]
        }
      ]
    },
    {
      "cell_type": "code",
      "source": [
        "# 데이터셋 split\n",
        "random.shuffle(text_pairs)\n",
        "num_val_samples = int(0.15*len(text_pairs))\n",
        "num_train_samples = len(text_pairs) - 2* num_val_samples\n",
        "train_pairs = text_pairs[:num_train_samples]\n",
        "val_pairs = text_pairs[num_train_samples : num_train_samples + num_val_samples]\n",
        "test_pairs = text_pairs[num_train_samples + num_val_samples :]\n",
        "\n",
        "print(f\"전체 데이터셋 Pair 개수: {len(text_pairs)}\")\n",
        "print(f\"학습 데이터셋 Pair 개수: {len(train_pairs)}\")\n",
        "print(f\"검증 데이터셋 Pair 개수: {len(val_pairs)}\")\n",
        "print(f\"시험 데이터셋 Pair 개수: {len(test_pairs)}\")"
      ],
      "metadata": {
        "colab": {
          "base_uri": "https://localhost:8080/"
        },
        "id": "dYVL1DX_vuO-",
        "outputId": "09d67d28-c38a-4109-860e-30dddec70145"
      },
      "execution_count": 13,
      "outputs": [
        {
          "output_type": "stream",
          "name": "stdout",
          "text": [
            "전체 데이터셋 Pair 개수: 118964\n",
            "학습 데이터셋 Pair 개수: 83276\n",
            "검증 데이터셋 Pair 개수: 17844\n",
            "시험 데이터셋 Pair 개수: 17844\n"
          ]
        }
      ]
    },
    {
      "cell_type": "code",
      "source": [
        "# 추가 전처리 및 필요한 파라미터 지정, 텍스트 벡터화\n",
        "strip_chars = string.punctuation + \"¿\"\n",
        "strip_chars = strip_chars.replace(\"[\", \"\")\n",
        "strip_chars = strip_chars.replace(\"]\", \"\")\n",
        "\n",
        "vocab_size = 15000\n",
        "sequence_length = 20\n",
        "batch_size = 64\n",
        "\n",
        "def custom_standardization(input_string):\n",
        "    '''\n",
        "    입력 문자를 소문자로 변경, 필요없는 문자 잘라내기\n",
        "    '''\n",
        "    lowercase = tf.strings.lower(input_string)\n",
        "    return tf.strings.regex_replace(lowercase, \"[%s]\" % re.escape(strip_chars), \"\")\n",
        "\n",
        "eng_vectorization = TextVectorization(\n",
        "    max_tokens = vocab_size, output_mode = 'int', output_sequence_length=sequence_length,\n",
        ")\n",
        "spa_vectorization = TextVectorization(\n",
        "    max_tokens = vocab_size, \n",
        "    output_mode = 'int', \n",
        "    output_sequence_length=sequence_length+1,\n",
        "    standardize = custom_standardization,\n",
        ")\n",
        "\n",
        "train_eng_texts = [pair[0] for pair in train_pairs]\n",
        "train_spa_texts = [pair[1] for pair in train_pairs]\n",
        "eng_vectorization.adapt(train_eng_texts)\n",
        "spa_vectorization.adapt(train_spa_texts)"
      ],
      "metadata": {
        "id": "ATsKJzqPwWLF"
      },
      "execution_count": 14,
      "outputs": []
    },
    {
      "cell_type": "code",
      "source": [
        "# 데이터를 모델에 넣을 수 있도록 구성\n",
        "def format_dataset(eng, spa):\n",
        "    eng = eng_vectorization(eng)\n",
        "    spa = spa_vectorization(spa)\n",
        "    return ({\"encoder_inputs\": eng, \"decoder_inputs\": spa[:, :-1],}, spa[:, 1:])\n",
        "\n",
        "def make_dataset(pairs):\n",
        "    '''\n",
        "    데이터셋을 배치 단위로 구성\n",
        "    '''\n",
        "    eng_texts, spa_texts = zip(*pairs)\n",
        "    eng_texts = list(eng_texts)\n",
        "    spa_texts = list(spa_texts)\n",
        "    dataset = tf.data.Dataset.from_tensor_slices((eng_texts, spa_texts))\n",
        "    dataset = dataset.batch(batch_size)\n",
        "    dataset = dataset.map(format_dataset)\n",
        "\n",
        "    return dataset.shuffle(2048).prefetch(16).cache()\n",
        "\n",
        "train_ds = make_dataset(train_pairs)\n",
        "val_ds = make_dataset(val_pairs)"
      ],
      "metadata": {
        "id": "SYHMAZGjxYiV"
      },
      "execution_count": 18,
      "outputs": []
    },
    {
      "cell_type": "code",
      "source": [
        "for inputs, targets in train_ds.take(1):\n",
        "    print(f\"\"\"인코더 입력의 Shape: {inputs[\"encoder_inputs\"].shape}\"\"\")\n",
        "    print(f\"\"\"디코더 입력의 Shape: {inputs[\"decoder_inputs\"].shape}\"\"\")\n",
        "    print(f\"\"\"타겟의 Shape: {targets.shape}\"\"\")"
      ],
      "metadata": {
        "colab": {
          "base_uri": "https://localhost:8080/"
        },
        "id": "9YLBQUHyyIgq",
        "outputId": "f7a9d7ee-1dc1-4099-f56a-779561bf526e"
      },
      "execution_count": 19,
      "outputs": [
        {
          "output_type": "stream",
          "name": "stdout",
          "text": [
            "인코더 입력의 Shape: (64, 20)\n",
            "디코더 입력의 Shape: (64, 20)\n",
            "타겟의 Shape: (64, 20)\n"
          ]
        }
      ]
    },
    {
      "cell_type": "code",
      "source": [
        "# 모델의 일부가 되는 클래스 구축\n",
        "class TransformerEncoder(layers.Layer):\n",
        "    '''\n",
        "    트랜스포머 인코더 구축하는 클래스\n",
        "    Args:\n",
        "        embed_dim: 임베딩 벡터의 차원 수\n",
        "        dense_dim: FFNN에서 사용되는 은닉층의 노드 수\n",
        "        num_heads: Multi-Head에서 적용할 Head의 수\n",
        "    '''\n",
        "    def __init__(self, embed_dim, dense_dim, num_heads, **kwargs):\n",
        "        super(TransformerEncoder, self).__init__(**kwargs)\n",
        "        self.embed_dim = embed_dim\n",
        "        self.dense_dim = dense_dim\n",
        "        self.num_heads = num_heads\n",
        "        self.attention = layers.MultiHeadAttention(\n",
        "            num_heads = num_heads, key_dim = embed_dim\n",
        "        )\n",
        "        self.dense_proj = keras.Sequential([\n",
        "            layers.Dense(dense_dim, activation='relu'),\n",
        "            layers.Dense(embed_dim),\n",
        "        ])\n",
        "        self.layernorm_1 = layers.LayerNormalization()\n",
        "        self.layernorm_2 = layers.LayerNormalization()\n",
        "        self.supports_masking = True\n",
        "    \n",
        "    def call(self, inputs, mask=None):\n",
        "        if mask is not None:\n",
        "            padding_mask = tf.cast(mask[:, tf.newaxis, tf.newaxis, :], dtype='int32')\n",
        "        attention_output=self.attention(\n",
        "            query=inputs, value=inputs, key=inputs, attention_mask=padding_mask\n",
        "        )\n",
        "        proj_input = self.layernorm_1(inputs + attention_output)\n",
        "        proj_output = self.dense_proj(proj_input)\n",
        "        return self.layernorm_2(proj_input + proj_output)"
      ],
      "metadata": {
        "id": "Zvm12itGypsD"
      },
      "execution_count": 20,
      "outputs": []
    },
    {
      "cell_type": "code",
      "source": [
        "class PositionalEmbedding(layers.Layer):\n",
        "    \"\"\"\n",
        "    포지셔널 인코딩을 진행합니다.\n",
        "\n",
        "    Args:\n",
        "        embed_dim: 임베딩 벡터의 차원 수\n",
        "        dense_dim: FFNN 에서 사용되는 은닉층의 노드 수\n",
        "        num_heads: Multi-Head에서 적용할 Head의 수\n",
        "    \"\"\"\n",
        "    def __init__(self, sequence_length, vocab_size, embed_dim, **kwargs):\n",
        "        super(PositionalEmbedding, self).__init__(**kwargs)\n",
        "        self.token_embeddings = layers.Embedding(\n",
        "            input_dim=vocab_size, output_dim=embed_dim\n",
        "        )\n",
        "        self.position_embeddings = layers.Embedding(\n",
        "            input_dim=sequence_length, output_dim=embed_dim\n",
        "        )\n",
        "        self.sequence_length = sequence_length\n",
        "        self.vocab_size = vocab_size\n",
        "        self.embed_dim = embed_dim\n",
        "\n",
        "    def call(self, inputs):\n",
        "        length = tf.shape(inputs)[-1]\n",
        "        positions = tf.range(start=0, limit=length, delta=1)\n",
        "        embedded_tokens = self.token_embeddings(inputs)\n",
        "        embedded_positions = self.position_embeddings(positions)\n",
        "        return embedded_tokens + embedded_positions\n",
        "\n",
        "    def compute_mask(self, inputs, mask=None):\n",
        "        return tf.math.not_equal(inputs, 0)"
      ],
      "metadata": {
        "id": "gdgvzQBQz77N"
      },
      "execution_count": 26,
      "outputs": []
    },
    {
      "cell_type": "code",
      "source": [
        "class TransformerDecoder(layers.Layer):\n",
        "    \"\"\"\n",
        "    트랜스포머 디코더를 구축하는 클래스입니다.\n",
        "\n",
        "    Args:\n",
        "        embed_dim: 임베딩 벡터의 차원 수\n",
        "        latent_dim: FFNN 에서 사용되는 은닉층의 노드 수\n",
        "        num_heads: Multi-Head에서 적용할 Head의 수\n",
        "    \"\"\"\n",
        "    def __init__(self, embed_dim, latent_dim, num_heads, **kwargs):\n",
        "        super(TransformerDecoder, self).__init__(**kwargs)\n",
        "        self.embed_dim = embed_dim\n",
        "        self.latent_dim = latent_dim\n",
        "        self.num_heads = num_heads\n",
        "        self.attention_1 = layers.MultiHeadAttention(\n",
        "            num_heads=num_heads, key_dim=embed_dim\n",
        "        )\n",
        "        self.attention_2 = layers.MultiHeadAttention(\n",
        "            num_heads=num_heads, key_dim=embed_dim\n",
        "        )\n",
        "        self.dense_proj = keras.Sequential(\n",
        "            [layers.Dense(latent_dim, activation=\"relu\"), layers.Dense(embed_dim),]\n",
        "        )\n",
        "        self.layernorm_1 = layers.LayerNormalization()\n",
        "        self.layernorm_2 = layers.LayerNormalization()\n",
        "        self.layernorm_3 = layers.LayerNormalization()\n",
        "        self.supports_masking = True\n",
        "\n",
        "    def call(self, inputs, encoder_outputs, mask=None):\n",
        "        causal_mask = self.get_causal_attention_mask(inputs)\n",
        "        if mask is not None:\n",
        "            padding_mask = tf.cast(mask[:, tf.newaxis, :], dtype=\"int32\")\n",
        "            padding_mask = tf.minimum(padding_mask, causal_mask)\n",
        "\n",
        "        attention_output_1 = self.attention_1(\n",
        "            query=inputs, value=inputs, key=inputs, attention_mask=causal_mask\n",
        "        )\n",
        "        out_1 = self.layernorm_1(inputs + attention_output_1)\n",
        "\n",
        "        attention_output_2 = self.attention_2(\n",
        "            query=out_1,\n",
        "            value=encoder_outputs,\n",
        "            key=encoder_outputs,\n",
        "            attention_mask=padding_mask,\n",
        "        )\n",
        "        out_2 = self.layernorm_2(out_1 + attention_output_2)\n",
        "\n",
        "        proj_output = self.dense_proj(out_2)\n",
        "        return self.layernorm_3(out_2 + proj_output)\n",
        "\n",
        "    def get_causal_attention_mask(self, inputs):\n",
        "        input_shape = tf.shape(inputs)\n",
        "        batch_size, sequence_length = input_shape[0], input_shape[1]\n",
        "        i = tf.range(sequence_length)[:, tf.newaxis]\n",
        "        j = tf.range(sequence_length)\n",
        "        mask = tf.cast(i >= j, dtype=\"int32\")\n",
        "        mask = tf.reshape(mask, (1, input_shape[1], input_shape[1]))\n",
        "        mult = tf.concat(\n",
        "            [tf.expand_dims(batch_size, -1), tf.constant([1, 1], dtype=tf.int32)],\n",
        "            axis=0,\n",
        "        )\n",
        "        return tf.tile(mask, mult)"
      ],
      "metadata": {
        "id": "md2Ogt0907cb"
      },
      "execution_count": 28,
      "outputs": []
    },
    {
      "cell_type": "code",
      "source": [
        "# 클래스 연결, 모델 정의 후 학습\n",
        "embed_dim = 256\n",
        "latent_dim = 2048\n",
        "num_heads = 8\n",
        "\n",
        "encoder_inputs = keras.Input(shape=(None,), dtype='int64', name='encoder_inputs')\n",
        "x = PositionalEmbedding(sequence_length, vocab_size, embed_dim)(encoder_inputs)\n",
        "encoder_outputs = TransformerEncoder(embed_dim, latent_dim, num_heads)(x)\n",
        "encoder = keras.Model(encoder_inputs, encoder_outputs)\n",
        "\n",
        "decoder_inputs = keras.Input(shape=(None,), dtype='int64', name='decoder_inputs')\n",
        "encoded_seq_inputs = keras.Input(shape=(None, embed_dim), name='decoder_state_inputs')\n",
        "x = PositionalEmbedding(sequence_length, vocab_size, embed_dim)(decoder_inputs)\n",
        "x = TransformerDecoder(embed_dim, latent_dim, num_heads)(x, encoded_seq_inputs)\n",
        "x = layers.Dropout(0.5)(x)\n",
        "decoder_outputs = layers.Dense(vocab_size, activation='softmax')(x)\n",
        "decoder = keras.Model([decoder_inputs, encoded_seq_inputs], decoder_outputs)\n",
        "\n",
        "decoder_outputs = decoder([decoder_inputs, encoder_outputs])\n",
        "transformer = keras.Model(\n",
        "    [encoder_inputs, decoder_inputs], decoder_outputs, name='transformer')"
      ],
      "metadata": {
        "id": "5cJrZv1M4Bzo"
      },
      "execution_count": 30,
      "outputs": []
    },
    {
      "cell_type": "code",
      "source": [
        "epochs = 10\n",
        "\n",
        "transformer.summary()\n",
        "transformer.compile(\n",
        "    'rmsprop', loss='sparse_categorical_crossentropy', metrics=['accuracy']\n",
        ")\n",
        "transformer.fit(train_ds, epochs=epochs, validation_data=val_ds)"
      ],
      "metadata": {
        "colab": {
          "base_uri": "https://localhost:8080/"
        },
        "id": "3DMsHJQz54JR",
        "outputId": "9e7ac791-8cf6-4933-8550-31eeee5a6954"
      },
      "execution_count": 31,
      "outputs": [
        {
          "output_type": "stream",
          "name": "stdout",
          "text": [
            "Model: \"transformer\"\n",
            "__________________________________________________________________________________________________\n",
            " Layer (type)                   Output Shape         Param #     Connected to                     \n",
            "==================================================================================================\n",
            " encoder_inputs (InputLayer)    [(None, None)]       0           []                               \n",
            "                                                                                                  \n",
            " positional_embedding_5 (Positi  (None, None, 256)   3845120     ['encoder_inputs[0][0]']         \n",
            " onalEmbedding)                                                                                   \n",
            "                                                                                                  \n",
            " decoder_inputs (InputLayer)    [(None, None)]       0           []                               \n",
            "                                                                                                  \n",
            " transformer_encoder_2 (Transfo  (None, None, 256)   3155456     ['positional_embedding_5[0][0]'] \n",
            " rmerEncoder)                                                                                     \n",
            "                                                                                                  \n",
            " model_3 (Functional)           (None, None, 15000)  12959640    ['decoder_inputs[0][0]',         \n",
            "                                                                  'transformer_encoder_2[0][0]']  \n",
            "                                                                                                  \n",
            "==================================================================================================\n",
            "Total params: 19,960,216\n",
            "Trainable params: 19,960,216\n",
            "Non-trainable params: 0\n",
            "__________________________________________________________________________________________________\n",
            "Epoch 1/10\n",
            "1302/1302 [==============================] - 109s 78ms/step - loss: 1.7074 - accuracy: 0.4072 - val_loss: 1.3462 - val_accuracy: 0.4972\n",
            "Epoch 2/10\n",
            "1302/1302 [==============================] - 100s 77ms/step - loss: 1.3567 - accuracy: 0.5263 - val_loss: 1.1905 - val_accuracy: 0.5616\n",
            "Epoch 3/10\n",
            "1302/1302 [==============================] - 100s 77ms/step - loss: 1.1998 - accuracy: 0.5777 - val_loss: 1.1044 - val_accuracy: 0.5948\n",
            "Epoch 4/10\n",
            "1302/1302 [==============================] - 96s 74ms/step - loss: 1.1041 - accuracy: 0.6115 - val_loss: 1.0496 - val_accuracy: 0.6213\n",
            "Epoch 5/10\n",
            "1302/1302 [==============================] - 94s 72ms/step - loss: 1.0539 - accuracy: 0.6346 - val_loss: 1.0255 - val_accuracy: 0.6307\n",
            "Epoch 6/10\n",
            "1302/1302 [==============================] - 94s 72ms/step - loss: 1.0224 - accuracy: 0.6512 - val_loss: 1.0111 - val_accuracy: 0.6403\n",
            "Epoch 7/10\n",
            "1302/1302 [==============================] - 95s 73ms/step - loss: 0.9996 - accuracy: 0.6638 - val_loss: 1.0080 - val_accuracy: 0.6433\n",
            "Epoch 8/10\n",
            "1302/1302 [==============================] - 94s 72ms/step - loss: 0.9802 - accuracy: 0.6747 - val_loss: 1.0009 - val_accuracy: 0.6482\n",
            "Epoch 9/10\n",
            "1302/1302 [==============================] - 94s 72ms/step - loss: 0.9636 - accuracy: 0.6842 - val_loss: 1.0008 - val_accuracy: 0.6524\n",
            "Epoch 10/10\n",
            "1302/1302 [==============================] - 94s 72ms/step - loss: 0.9493 - accuracy: 0.6910 - val_loss: 0.9970 - val_accuracy: 0.6547\n"
          ]
        },
        {
          "output_type": "execute_result",
          "data": {
            "text/plain": [
              "<keras.callbacks.History at 0x7f2a7c947b20>"
            ]
          },
          "metadata": {},
          "execution_count": 31
        }
      ]
    },
    {
      "cell_type": "code",
      "source": [
        "spa_vocab = spa_vectorization.get_vocabulary()\n",
        "spa_index_lookup = dict(zip(range(len(spa_vocab)), spa_vocab))\n",
        "max_decoded_sentence_length = 20\n",
        "\n",
        "def decode_sequence(input_sentence):\n",
        "    '''\n",
        "    Inference 를 위한 함수\n",
        "    '''\n",
        "    tokenized_input_sentence = eng_vectorization([input_sentence])\n",
        "    decoded_sentence = '[start]'\n",
        "    for i in range(max_decoded_sentence_length):\n",
        "        tokenized_target_sentence = spa_vectorization([decoded_sentence])[:, :-1]\n",
        "        predictions = transformer([tokenized_input_sentence, tokenized_target_sentence])\n",
        "\n",
        "        sampled_token_index = np.argmax(predictions[0, i, :])\n",
        "        sampled_token = spa_index_lookup[sampled_token_index]\n",
        "        decoded_sentence += \" \" + sampled_token\n",
        "\n",
        "        if sampled_token == '[end]':\n",
        "            break\n",
        "    return decoded_sentence\n",
        "\n",
        "test_eng_texts = [pair[0] for pair in test_pairs]\n",
        "for _ in range(30):\n",
        "    input_sentence = random.choice(test_eng_texts)\n",
        "    translated = decode_sequence(input_sentence)\n",
        "    print(f\"{input_sentence} -> {translated}\")"
      ],
      "metadata": {
        "colab": {
          "base_uri": "https://localhost:8080/"
        },
        "id": "AOjPAavm6JnE",
        "outputId": "8c7ea207-734b-4707-dfd8-31f94577a682"
      },
      "execution_count": 34,
      "outputs": [
        {
          "output_type": "stream",
          "name": "stdout",
          "text": [
            "I had the boy carry my bag. -> [start] tuve el chico que mi bolsa [end]\n",
            "Tom took a picture of Mary's new car and sent it to John. -> [start] tom le dio una foto a mary y la [UNK] de mary y la john [end]\n",
            "We went to Boston by car. -> [start] fue a boston en coche [end]\n",
            "I suppose you like her. -> [start] supongo que como ella [end]\n",
            "My father is in his room. -> [start] mi padre está en su habitación [end]\n",
            "Who first split the atom? -> [start] quién lo [UNK] el [UNK] [end]\n",
            "She advised him not to buy a used car, but he didn't follow her advice. -> [start] Él le aconsejó que no le [UNK] un auto pero no le habló [end]\n",
            "I want exactly what you want. -> [start] quiero exactamente lo que quieres [end]\n",
            "His mother was a singer. -> [start] su madre era un [UNK] [end]\n",
            "We need to win. -> [start] tenemos que ganar [end]\n",
            "Tom asked Mary many questions about Australia. -> [start] tom le hizo a mary muchas preguntas sobre australia [end]\n",
            "Tom doesn't know why Mary quit her job. -> [start] tom no sabe por qué mary [UNK] por su trabajo mary [end]\n",
            "I thought you wanted Tom to marry you. -> [start] pensé que tú te [UNK] que tom te [UNK] [end]\n",
            "How many times a minute does the average person blink? -> [start] cuántas veces por un minuto el [UNK] es un [UNK] [end]\n",
            "I need the key to decode this message. -> [start] necesito la llave a este [UNK] [end]\n",
            "I have a job for you. -> [start] tengo un trabajo para ti [end]\n",
            "Today, we had two false alarms. -> [start] hoy tenemos dos su [UNK] [UNK] [end]\n",
            "That's my real name. -> [start] ese es mi nombre de verdad [end]\n",
            "When was the last time you gave flowers to your wife? -> [start] cuándo fue la última vez que te [UNK] a tu esposa [end]\n",
            "Tom called the police. -> [start] tom [UNK] a la policía [end]\n",
            "I'm trying to remember. -> [start] estoy intentando recordar [end]\n",
            "Where are all the others? -> [start] dónde están todos los otras [end]\n",
            "Several animals escaped from the zoo. -> [start] muchos animales [UNK] del club [end]\n",
            "That's very sweet of you. -> [start] eso es muy [UNK] de ti [end]\n",
            "He didn't like being poor. -> [start] Él no fue un pobre [end]\n",
            "Mt. Fuji is Japan's tallest mountain. -> [start] el mundo [UNK] es la montaña más grande [end]\n",
            "It's not good to read in a dark room. -> [start] no es bueno leer en una habitación [UNK] [end]\n",
            "We cultivate rice. -> [start] nosotros [UNK] el estudiante [end]\n",
            "You're a father now. -> [start] tú ya es un padre [end]\n",
            "I've discovered a serious error. -> [start] he encontrar un error fuerte [end]\n"
          ]
        }
      ]
    },
    {
      "cell_type": "code",
      "source": [
        "import tensorflow as tf\n",
        "from tensorflow import keras\n",
        "from tensorflow.keras import layers"
      ],
      "metadata": {
        "id": "PN3sM11eAIz0"
      },
      "execution_count": 35,
      "outputs": []
    },
    {
      "cell_type": "code",
      "source": [
        "class TransformerBlock(layers.Layer):\n",
        "    def __init__(self, embed_dim, num_heads, ff_dim, rate=0.1):\n",
        "        super(TransformerBlock, self).__init__()\n",
        "        self.att = layers.MultiHeadAttention(num_heads=num_heads, key_dim=embed_dim)\n",
        "        self.ffn = keras.Sequential(\n",
        "            [layers.Dense(ff_dim, activation='relu'), layers.Dense(embed_dim),]\n",
        "        )\n",
        "        self.layernorm1 = layers.LayerNormalization(epsilon=1e-6)\n",
        "        self.layernorm2 = layers.LayerNormalization(epsilon=1e-6)\n",
        "        self.dropout1 = layers.Dropout(rate)\n",
        "        self.dropout2 = layers.Dropout(rate)\n",
        "    \n",
        "    def call(self, inputs, training):\n",
        "        attn_output = self.att(inputs, inputs)\n",
        "        attn_output = self.dropout1(attn_output, training=training)\n",
        "        out1 = self.layernorm1(inputs + attn_output)\n",
        "        ffn_output = self.ffn(out1)\n",
        "        ffn_output = self.dropout2(ffn_output, training=training)\n",
        "        return self.layernorm2(out1+ffn_output)"
      ],
      "metadata": {
        "id": "LQI0vA2MATFn"
      },
      "execution_count": 40,
      "outputs": []
    },
    {
      "cell_type": "code",
      "source": [
        "class TokenAndPositionEmbedding(layers.Layer):\n",
        "    def __init__(self, maxlen, vocab_sizee, embed_dim):\n",
        "        super(TokenAndPositionEmbedding, self).__init__()\n",
        "        self.token_emb = layers.Embedding(input_dim=vocab_size, output_dim=embed_dim)\n",
        "        self.pos_emb = layers.Embedding(input_dim=maxlen, output_dim=embed_dim)\n",
        "    \n",
        "    def call(self, x):\n",
        "        maxlen = tf.shape(x)[-1]\n",
        "        positions = tf.range(start=0, limit=maxlen, delta=1)\n",
        "        positions = self.pos_emb(positions)\n",
        "        x = self.token_emb(x)\n",
        "        return x + positions"
      ],
      "metadata": {
        "id": "Rz5zs5dfKQi5"
      },
      "execution_count": 37,
      "outputs": []
    },
    {
      "cell_type": "code",
      "source": [
        "vocab_size = 20000 # 20000 개의 단어만 토큰화\n",
        "maxlen = 200 # 리뷰 당 최대 200길이\n",
        "\n",
        "(x_train, y_train), (x_val, y_val) = keras.datasets.imdb.load_data(num_words=vocab_size)\n",
        "print(f\"학습 데이터 수 : {len(x_train)}\")\n",
        "print(f\"검증 데이터 수 : {len(x_val)}\")\n",
        "\n",
        "x_train = keras.preprocessing.sequence.pad_sequences(x_train, maxlen=maxlen)\n",
        "x_val = keras.preprocessing.sequence.pad_sequences(x_val, maxlen=maxlen)"
      ],
      "metadata": {
        "colab": {
          "base_uri": "https://localhost:8080/"
        },
        "id": "cxWfoGMfKzp6",
        "outputId": "5cd2330a-be62-4ab1-ae8e-ec0296fff860"
      },
      "execution_count": 38,
      "outputs": [
        {
          "output_type": "stream",
          "name": "stdout",
          "text": [
            "Downloading data from https://storage.googleapis.com/tensorflow/tf-keras-datasets/imdb.npz\n",
            "17464789/17464789 [==============================] - 2s 0us/step\n",
            "학습 데이터 수 : 25000\n",
            "검증 데이터 수 : 25000\n"
          ]
        }
      ]
    },
    {
      "cell_type": "code",
      "source": [
        "embed_dim=32\n",
        "num_heads=2\n",
        "ff_dim=32\n",
        "\n",
        "inputs = layers.Input(shape=(maxlen,))\n",
        "embedding_layer = TokenAndPositionEmbedding(maxlen, vocab_size, embed_dim)\n",
        "x = embedding_layer(inputs)\n",
        "transformer_block = TransformerBlock(embed_dim, num_heads, ff_dim)\n",
        "x = transformer_block(x)\n",
        "x = layers.GlobalAveragePooling1D()(x)\n",
        "x = layers.Dropout(0.1)(x)\n",
        "x = layers.Dense(20, activation='relu')(x)\n",
        "x = layers.Dropout(0.1)(x)\n",
        "outputs = layers.Dense(2, activation='softmax')(x)\n",
        "\n",
        "model = keras.Model(inputs=inputs, outputs=outputs)"
      ],
      "metadata": {
        "id": "vOWobgwcLN8z"
      },
      "execution_count": 43,
      "outputs": []
    },
    {
      "cell_type": "code",
      "source": [
        "model.compile('adam', 'sparse_categorical_crossentropy', metrics=['accuracy'])\n",
        "history = model.fit(\n",
        "    x_train, y_train, batch_size=32, epochs=2, validation_data=(x_val, y_val)\n",
        ")"
      ],
      "metadata": {
        "colab": {
          "base_uri": "https://localhost:8080/"
        },
        "id": "rKZprrxTMIlk",
        "outputId": "ab0d6a9b-bdca-4163-faf3-e6f6371ef0a3"
      },
      "execution_count": 44,
      "outputs": [
        {
          "output_type": "stream",
          "name": "stdout",
          "text": [
            "Epoch 1/2\n",
            "782/782 [==============================] - 10s 11ms/step - loss: 0.4027 - accuracy: 0.8024 - val_loss: 0.2866 - val_accuracy: 0.8762\n",
            "Epoch 2/2\n",
            "782/782 [==============================] - 8s 11ms/step - loss: 0.2017 - accuracy: 0.9241 - val_loss: 0.3295 - val_accuracy: 0.8703\n"
          ]
        }
      ]
    }
  ]
}