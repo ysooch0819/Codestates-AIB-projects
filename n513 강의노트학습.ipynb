{
  "nbformat": 4,
  "nbformat_minor": 0,
  "metadata": {
    "colab": {
      "provenance": [],
      "authorship_tag": "ABX9TyNmOOweASSEVEovVtB6LLeY",
      "include_colab_link": true
    },
    "kernelspec": {
      "name": "python3",
      "display_name": "Python 3"
    },
    "language_info": {
      "name": "python"
    }
  },
  "cells": [
    {
      "cell_type": "markdown",
      "metadata": {
        "id": "view-in-github",
        "colab_type": "text"
      },
      "source": [
        "<a href=\"https://colab.research.google.com/github/ysooch0819/AI16-Projects/blob/main/n513%20%EA%B0%95%EC%9D%98%EB%85%B8%ED%8A%B8%ED%95%99%EC%8A%B5.ipynb\" target=\"_parent\"><img src=\"https://colab.research.google.com/assets/colab-badge.svg\" alt=\"Open In Colab\"/></a>"
      ]
    },
    {
      "cell_type": "code",
      "execution_count": 1,
      "metadata": {
        "colab": {
          "base_uri": "https://localhost:8080/"
        },
        "id": "S5oAOsMHeWJs",
        "outputId": "abb793fc-59a1-44d8-dddd-d0b3d37bf199"
      },
      "outputs": [
        {
          "output_type": "stream",
          "name": "stdout",
          "text": [
            "7\n",
            "93 93 2 90 6 24 32 exit\n"
          ]
        }
      ],
      "source": [
        "# 인트로 코딩\n",
        "# 난수 다루기(1~100 사이 정수형 난수를 구하자.)\n",
        "# 정수를 입력받고, 입력숫자가 출력될 때까지 입력숫자만큼 반복하여 난수를 출력하고 1개의 종료메시지를 띄우시오.\n",
        "import random\n",
        "\n",
        "input_num = int(input())\n",
        "\n",
        "for i in range(input_num):\n",
        "    ran_num = random.randint(1,100)\n",
        "    print(ran_num, end = ' ')\n",
        "    \n",
        "    if ran_num == input_num:\n",
        "        print(\"input random number print\")\n",
        "        continue\n",
        "else:\n",
        "    print('exit')"
      ]
    },
    {
      "cell_type": "code",
      "source": [
        "# 절차 프로그래밍(Procedural Programming, 일명 PP)\n",
        "# 조건 또는 기능이 증가할 때마다 함수와 변수 같은 요소가 계속 증가할 수 있으므로 비효율적이다.\n",
        "# 케이스 1: 함수활용\n",
        "def carAttribute():\n",
        "    speed = 50\n",
        "    color = 'black'\n",
        "    model = 'CarModel'\n",
        "    return speed,color,model\n",
        "\n",
        "# return값을 통해 함수 요소값을 확인할 수 있다.\n",
        "print(\"Car Attribute: \", carAttribute())\n",
        "\n",
        "# 케이스 2: 변수활용\n",
        "speed = 50\n",
        "color = 'black'\n",
        "model = 'CarModel'\n",
        "\n",
        "# 해당 변수를 각각 명시해주어야 한다.\n",
        "print(\"Car Attribute: \", speed,color,model)"
      ],
      "metadata": {
        "colab": {
          "base_uri": "https://localhost:8080/"
        },
        "id": "RKkR-Um5ek3B",
        "outputId": "968a03b0-b7ed-438f-a5e5-0250bf6c0f92"
      },
      "execution_count": 2,
      "outputs": [
        {
          "output_type": "stream",
          "name": "stdout",
          "text": [
            "Car Attribute:  (50, 'black', 'CarModel')\n",
            "Car Attribute:  50 black CarModel\n"
          ]
        }
      ]
    },
    {
      "cell_type": "code",
      "source": [
        "# OOP / 기능에 따라 Car클래스 안에 있는 함수와 변수만 추가해주면 된다.\n",
        "# 아래와 같이 클래스 선언 순서에 관계없이 실행된다.\n",
        "# 절차 프로그래밍과 다르게 기능별로 수행되기 때문이다.\n",
        "class Bus:\n",
        "    def __init__(self, speed, color):\n",
        "        self.speed = speed\n",
        "        self.color = color\n",
        "\n",
        "    def drive_bus(self):\n",
        "        self.speed = 70\n",
        "\n",
        "class Car:\n",
        "    def __init__(self, speed, color, model):\n",
        "        self.speed = speed\n",
        "        self.color = color\n",
        "        self.model = model\n",
        "\n",
        "    def drive(self):\n",
        "        self.speed = 50\n",
        "\n",
        "myCar = Car(0, \"green\", \"testCar\")\n",
        "print(\"--------Car Object Create Complete--------\")\n",
        "print(\"Car Speed: \", myCar.speed)\n",
        "print(\"Car Color: \", myCar.color)\n",
        "print(\"Car Model: \", myCar.model)\n",
        "\n",
        "myBus = Bus(0, 'black')\n",
        "print(\"--------Bus Object Create Complete--------\")\n",
        "print(\"Bus color: \", myBus.color)\n",
        "\n",
        "\n",
        "# 운전 중이 아니므로 speed는 0을 출력한다.\n",
        "print(\"--------Car/Bus Speed 1--------\")\n",
        "print(\"Car Speed by drive: \", myCar.speed)\n",
        "print(\"Bus Speed by drive: \", myBus.speed)\n",
        "\n",
        "# Car/Bus object method Call\n",
        "myCar.drive()\n",
        "myBus.drive_bus()\n",
        "\n",
        "# 각각의 개체가 각자의 속도로 움직이고 있다.\n",
        "print(\"--------Car/Bus Speed 2--------\")\n",
        "print(\"Car Speed by drive: \", myCar.speed)\n",
        "print(\"Bus Speed by drive: \", myBus.speed)"
      ],
      "metadata": {
        "colab": {
          "base_uri": "https://localhost:8080/"
        },
        "id": "H85IuM1Eemjq",
        "outputId": "15b2540a-ff32-45e0-cab5-0bb535bc577d"
      },
      "execution_count": 3,
      "outputs": [
        {
          "output_type": "stream",
          "name": "stdout",
          "text": [
            "--------Car Object Create Complete--------\n",
            "Car Speed:  0\n",
            "Car Color:  green\n",
            "Car Model:  testCar\n",
            "--------Bus Object Create Complete--------\n",
            "Bus color:  black\n",
            "--------Car/Bus Speed 1--------\n",
            "Car Speed by drive:  0\n",
            "Bus Speed by drive:  0\n",
            "--------Car/Bus Speed 2--------\n",
            "Car Speed by drive:  50\n",
            "Bus Speed by drive:  70\n"
          ]
        }
      ]
    },
    {
      "cell_type": "code",
      "source": [
        "# 도서관 예시 - 절차지향적 프로그래밍 관점\n",
        "member_list = ['kim', 'lee', 'park', 'choi']\n",
        "book_list = ['book1', 'book2']\n",
        "lend_list = {'kim' : 'book3'}\n",
        "\n",
        "# 신간이 들어왔다\n",
        "book_list.append('book4')\n",
        "\n",
        "# 책을 빌리면 도서 목록에서 삭제되고, 빌린 목록에 대여한 사람과 함께 추가된다.\n",
        "book_list.remove('book1')\n",
        "lend_list['choi'] = 'book1'\n",
        "\n",
        "# 책을 반납하면 북 리스트에 책이 다시 돌아오고 빌린 리스트에서 삭제된다.\n",
        "book_list.append(lend_list['kim'])\n",
        "del(lend_list['kim'])\n",
        "\n",
        "print(book_list)\n",
        "print(lend_list)"
      ],
      "metadata": {
        "colab": {
          "base_uri": "https://localhost:8080/"
        },
        "id": "gkELkcFyeruQ",
        "outputId": "8d92f692-3016-4326-817a-8ff413ca77c1"
      },
      "execution_count": 4,
      "outputs": [
        {
          "output_type": "stream",
          "name": "stdout",
          "text": [
            "['book2', 'book4', 'book3']\n",
            "{'choi': 'book1'}\n"
          ]
        }
      ]
    },
    {
      "cell_type": "code",
      "source": [
        "# 아래 코드의 실행 결과를 확인한다.\n",
        "num_data = 7\n",
        "str_data = 'AIBootcamp'\n",
        "list_data = [1,2,3]\n",
        "dict_data = {'a':1, 'b':2}\n",
        "\n",
        "print(type(num_data))\n",
        "print(type(str_data))\n",
        "print(type(list_data))\n",
        "print(type(dict_data))"
      ],
      "metadata": {
        "colab": {
          "base_uri": "https://localhost:8080/"
        },
        "id": "htOuzvR6e6JP",
        "outputId": "06b74323-9cd0-449d-d342-5663842f7dd3"
      },
      "execution_count": 5,
      "outputs": [
        {
          "output_type": "stream",
          "name": "stdout",
          "text": [
            "<class 'int'>\n",
            "<class 'str'>\n",
            "<class 'list'>\n",
            "<class 'dict'>\n"
          ]
        }
      ]
    },
    {
      "cell_type": "code",
      "source": [
        "list_a = [3,4,1,6,9,2]\n",
        "\n",
        "# 같은 기능을 하는 이 두 메소드의 차이는 무엇일까?\n",
        "print(list_a.sort())\n",
        "print(sorted(list_a))"
      ],
      "metadata": {
        "colab": {
          "base_uri": "https://localhost:8080/"
        },
        "id": "48tfb1eNe8Am",
        "outputId": "4df92500-c9a5-44e0-9342-91f4f21e22a3"
      },
      "execution_count": 7,
      "outputs": [
        {
          "output_type": "stream",
          "name": "stdout",
          "text": [
            "None\n",
            "[1, 2, 3, 4, 6, 9]\n"
          ]
        }
      ]
    },
    {
      "cell_type": "code",
      "source": [
        "class Encap:\n",
        "    def __init__(self, value):\n",
        "        self.value = value\n",
        "        print('init:', self.value)\n",
        "    \n",
        "    def _set(self):\n",
        "        print('set:', self.value)\n",
        "    \n",
        "    def printTest(self):\n",
        "        print('printTest:', self.value)\n",
        "    \n",
        "    def __printTest2(self):\n",
        "        print('printTest:', self.value)\n",
        "\n",
        "\n",
        "e = Encap(10)\n",
        "\n",
        "e.__init__(20)\n",
        "e._set()\n",
        "e.printTest()\n",
        "# e.__printTest2()\n",
        "print('\\n')\n",
        "\n",
        "e.__init__(30)\n",
        "e._set()\n",
        "e.printTest()"
      ],
      "metadata": {
        "colab": {
          "base_uri": "https://localhost:8080/"
        },
        "id": "CQgFVebDfF0m",
        "outputId": "cf70a71c-ed86-4149-9907-4269405f3a97"
      },
      "execution_count": 12,
      "outputs": [
        {
          "output_type": "stream",
          "name": "stdout",
          "text": [
            "init: 10\n",
            "init: 20\n",
            "set: 20\n",
            "printTest: 20\n",
            "\n",
            "\n",
            "init: 30\n",
            "set: 30\n",
            "printTest: 30\n"
          ]
        }
      ]
    },
    {
      "cell_type": "code",
      "source": [
        "class Person:\n",
        "  def __init__(self, name):\n",
        "    self.name = name\n",
        "  \n",
        "class Student(Person):\n",
        "  def study(self):\n",
        "    print(self.name + \" studies hard\")\n",
        "\n",
        "class Employee(Person):\n",
        "  def work(self):\n",
        "    print(self.name + \" works hard\")\n",
        "\n",
        "\n",
        "s = Student(\"Dave\")\n",
        "e = Employee(\"David\")\n",
        "\n",
        "s.study()\n",
        "e.work()"
      ],
      "metadata": {
        "colab": {
          "base_uri": "https://localhost:8080/"
        },
        "id": "DNliUOrMfvnm",
        "outputId": "bfd8318f-a883-4ce3-e64b-efe1e2ac19fa"
      },
      "execution_count": 13,
      "outputs": [
        {
          "output_type": "stream",
          "name": "stdout",
          "text": [
            "Dave studies hard\n",
            "David works hard\n"
          ]
        }
      ]
    },
    {
      "cell_type": "code",
      "source": [
        "class Person:\n",
        "  def __init__(self, name, age):\n",
        "    self.name = name\n",
        "    self.age = age\n",
        "  \n",
        "  def printPerson(self, name, age):\n",
        "    print(\"Person_printPerson:\", name, age)\n",
        "\n",
        "class Student:\n",
        "  def __init__(self, name, age, id):\n",
        "    self.person = Person(name, age)\n",
        "    Person.__init__(self, name, age)\n",
        "    self.id = id\n",
        "  \n",
        "  def test(self, score):\n",
        "    if score > 80:\n",
        "      return (self.person.printPerson(self.name, self.age))\n",
        "    else:\n",
        "      print(self.name + \" needs supplementary lessons\")\n",
        "\n",
        "s = Student(\"Dave\", 20, 1)\n",
        "\n",
        "print(\"s.name\", s.name)\n",
        "print(\"s.age\", s.age)\n",
        "print(\"s.id:\", s.id)\n",
        "print('\\n')"
      ],
      "metadata": {
        "colab": {
          "base_uri": "https://localhost:8080/"
        },
        "id": "6SCdKxdpgN5L",
        "outputId": "fbefee7a-27b8-4f69-f58b-763a08efd6e5"
      },
      "execution_count": 17,
      "outputs": [
        {
          "output_type": "stream",
          "name": "stdout",
          "text": [
            "s.name Dave\n",
            "s.age 20\n",
            "s.id: 1\n",
            "\n",
            "\n"
          ]
        }
      ]
    },
    {
      "cell_type": "code",
      "source": [
        "s2 = Student(\"Jamie\", 25, 2)\n",
        "print(\"s2.name:\", s2.name)\n",
        "print(\"s2.age:\", s2.age)\n",
        "print(\"s2.id:\", s2.id)\n",
        "print('\\n')"
      ],
      "metadata": {
        "colab": {
          "base_uri": "https://localhost:8080/"
        },
        "id": "E0Hv5R5vg8n5",
        "outputId": "4faeb6e0-9e68-43b1-e4cb-3ba96a8e29fd"
      },
      "execution_count": 15,
      "outputs": [
        {
          "output_type": "stream",
          "name": "stdout",
          "text": [
            "s2.name: Jamie\n",
            "s2.age: 25\n",
            "s2.id: 2\n",
            "\n",
            "\n"
          ]
        }
      ]
    },
    {
      "cell_type": "code",
      "source": [
        "print('-- test score result --')\n",
        "s.test(90)\n",
        "s2.test(11)"
      ],
      "metadata": {
        "colab": {
          "base_uri": "https://localhost:8080/"
        },
        "id": "cZ132DPQhMRV",
        "outputId": "6c55f3f0-63e2-43b4-a86c-5185b11eb800"
      },
      "execution_count": 18,
      "outputs": [
        {
          "output_type": "stream",
          "name": "stdout",
          "text": [
            "-- test score result --\n",
            "Person_printPerson: Dave 20\n",
            "Jamie needs supplementary lessons\n"
          ]
        }
      ]
    },
    {
      "cell_type": "code",
      "source": [
        "class Bill():\n",
        "  def __init__(self, description):\n",
        "    self.description = description\n",
        "  \n",
        "class Tail():\n",
        "  def __init__(self, length):\n",
        "    self.length = length\n",
        "\n",
        "class Duck():\n",
        "  def __init__(self, bill, tail):\n",
        "    self.bill = bill\n",
        "    self.tail = tail\n",
        "  \n",
        "  def about(self):\n",
        "    print(f\"This duck has a {self.bill.description} and a {self.tail.length}.\")\n",
        "\n",
        "duck = Duck(Bill('bill object'), Tail('tail object'))\n",
        "\n",
        "duck.about()"
      ],
      "metadata": {
        "colab": {
          "base_uri": "https://localhost:8080/"
        },
        "id": "LwtLiyxfhX8s",
        "outputId": "f9e42218-b7fa-4435-ce7b-37ff8151f638"
      },
      "execution_count": 19,
      "outputs": [
        {
          "output_type": "stream",
          "name": "stdout",
          "text": [
            "This duck has a bill object and a tail object.\n"
          ]
        }
      ]
    },
    {
      "cell_type": "code",
      "source": [
        "from abc import ABCMeta, abstractmethod\n",
        "\n",
        "# 추상 클래스\n",
        "class People(metaclass=ABCMeta):\n",
        "  # 추상 메소드 선언\n",
        "  # 추상클래스로 선언해놓고 상속받는 클래스에서 구현하지 않으면 오류 발생\n",
        "  @abstractmethod\n",
        "  def character(self):\n",
        "    pass\n",
        "  \n",
        "  def working(self):\n",
        "    pass\n",
        "\n",
        "# 상속받는 클래스\n",
        "class Student(People):\n",
        "  def character(self, pow, int):\n",
        "    self.pow = pow\n",
        "    self.int = int\n",
        "\n",
        "    print('체력: {0}'.format(self.pow))\n",
        "    print('지능: {0}'.format(self.int))\n",
        "\n",
        "# 상속받는 클래스 2: character 추상 메소드 구현x\n",
        "class Driver(People):\n",
        "  def character(self, name, age):\n",
        "    self.name = name\n",
        "    self.age = age\n",
        "\n",
        "    print('이름: {0}'.format(self.name))\n",
        "    print('나이: {0}'.format(self.age))\n",
        "\n",
        "  def working(self):\n",
        "    print('일하는 중')\n",
        "\n",
        "s1 = Student()\n",
        "print('Student: ')\n",
        "\n",
        "s1.character(10, 100)\n",
        "print(s1.int)\n",
        "print('\\n')\n",
        "d1 = Driver()\n",
        "print('Driver: ')\n",
        "d1.character(\"Chen\", 38)\n",
        "d1.working()"
      ],
      "metadata": {
        "colab": {
          "base_uri": "https://localhost:8080/"
        },
        "id": "RxAdGjJQh9dE",
        "outputId": "2073a46a-2771-4d68-e71b-9a61f78382cf"
      },
      "execution_count": 25,
      "outputs": [
        {
          "output_type": "stream",
          "name": "stdout",
          "text": [
            "Student: \n",
            "체력: 10\n",
            "지능: 100\n",
            "100\n",
            "\n",
            "\n",
            "Driver: \n",
            "이름: Chen\n",
            "나이: 38\n",
            "일하는 중\n"
          ]
        }
      ]
    },
    {
      "cell_type": "code",
      "source": [
        "#다형성\n",
        "class Slimes:\n",
        "  def __init__(self):\n",
        "    self.hp = 100\n",
        "    self.attack_power = 50\n",
        "    self.status = 1 # 1 살아있음 0 죽어있음\n",
        "  def get_damage(self):\n",
        "    if self.status == 1:\n",
        "      self.hp -= self.attack_power\n",
        "      if self.hp <=0:\n",
        "        self.hp =0\n",
        "        self.status = 0\n",
        "        print('Slime is dead!!!')\n",
        "    else:\n",
        "      print('This slime has already dead. Kill other slimes!!')\n",
        "\n",
        "class Slime_Yellow(Slimes):\n",
        "  pass\n",
        "\n",
        "class Slime_Blue(Slimes):\n",
        "  def __init__(self):\n",
        "    super().__init__()\n",
        "    self.attack_power = int(self.attack_power * 0.8)\n",
        "  def get_damage(self):\n",
        "    if self.status == 1:\n",
        "      self.hp -= self.attack_power\n",
        "      if self.hp <=0:\n",
        "        self.hp = 0\n",
        "        self.status = 0\n",
        "        print('Blue Slime is dead!! You get 100 Gold')\n",
        "    else:\n",
        "      print('This slime has already dead. Kill other slimes!!')\n",
        "\n",
        "class Slime_Purple(Slimes):\n",
        "  def __init__(self):\n",
        "    super().__init__()\n",
        "    self.attack_power = int(self.attack_power * 0.5)\n",
        "  def get_damage(self):\n",
        "    if self.status == 1:\n",
        "      self.hp -= self.attack_power\n",
        "      if self.hp <=0:\n",
        "        self.hp =0\n",
        "        self.status =0\n",
        "        print('Purple Slime is dead!! You get 300 Gold')\n",
        "    else:\n",
        "      print('This slime has already dead. Kill other slimes!!')\n",
        "\n",
        "Slime_1 = Slime_Yellow()\n",
        "print(Slime_1.hp)\n",
        "Slime_1.get_damage()\n",
        "print('Slime_1 hp:',Slime_1.hp)\n",
        "Slime_1.get_damage()\n",
        "print('Slime_1 hp:',Slime_1.hp)"
      ],
      "metadata": {
        "colab": {
          "base_uri": "https://localhost:8080/"
        },
        "id": "wpjAkU5AjkYK",
        "outputId": "d382553a-1648-4ba2-e5cf-bd3aae473698"
      },
      "execution_count": 44,
      "outputs": [
        {
          "output_type": "stream",
          "name": "stdout",
          "text": [
            "100\n",
            "Slime_1 hp: 50\n",
            "Slime is dead!!!\n",
            "Slime_1 hp: 0\n"
          ]
        }
      ]
    },
    {
      "cell_type": "code",
      "source": [
        "Slime_2 = Slime_Blue()\n",
        "Slime_2.get_damage()\n",
        "print('Slime_2 hp:',Slime_2.hp)\n",
        "Slime_2.get_damage()\n",
        "print('Slime_2 hp:',Slime_2.hp)\n",
        "Slime_2.get_damage()\n",
        "print('Slime_2 hp:',Slime_2.hp)"
      ],
      "metadata": {
        "colab": {
          "base_uri": "https://localhost:8080/"
        },
        "id": "R3TvBQFokwRH",
        "outputId": "5793c51d-ffea-4400-d2d7-2c547a140593"
      },
      "execution_count": 45,
      "outputs": [
        {
          "output_type": "stream",
          "name": "stdout",
          "text": [
            "Slime_2 hp: 60\n",
            "Slime_2 hp: 20\n",
            "Blue Slime is dead!! You get 100 Gold\n",
            "Slime_2 hp: 0\n"
          ]
        }
      ]
    },
    {
      "cell_type": "code",
      "source": [
        "Slime_3 = Slime_Purple()\n",
        "# 슬라임 제거하기: hp=0 만들기\n",
        "Slime_3.get_damage()\n",
        "print('Slime_3 hp:',Slime_3.hp)\n",
        "Slime_3.get_damage()\n",
        "print('Slime_3 hp:',Slime_3.hp)\n",
        "Slime_3.get_damage()\n",
        "print('Slime_3 hp:',Slime_3.hp)\n",
        "Slime_3.get_damage()\n",
        "print('Slime_3 hp:',Slime_3.hp)"
      ],
      "metadata": {
        "colab": {
          "base_uri": "https://localhost:8080/"
        },
        "id": "mbyiU3g_k-8F",
        "outputId": "2316c8f8-429c-4693-f8d0-efb4cab3c89f"
      },
      "execution_count": 46,
      "outputs": [
        {
          "output_type": "stream",
          "name": "stdout",
          "text": [
            "Slime_3 hp: 75\n",
            "Slime_3 hp: 50\n",
            "Slime_3 hp: 25\n",
            "Purple Slime is dead!! You get 300 Gold\n",
            "Slime_3 hp: 0\n"
          ]
        }
      ]
    },
    {
      "cell_type": "code",
      "source": [
        "Slime_3.get_damage() # Purple Slime is dead!!!, You get 300 Gold"
      ],
      "metadata": {
        "colab": {
          "base_uri": "https://localhost:8080/"
        },
        "id": "6G7ei6r5lEmO",
        "outputId": "f57021b6-ace6-4ce8-8478-da830d16c3da"
      },
      "execution_count": 48,
      "outputs": [
        {
          "output_type": "stream",
          "name": "stdout",
          "text": [
            "This slime has already dead. Kill other slimes!!\n"
          ]
        }
      ]
    },
    {
      "cell_type": "code",
      "source": [
        "Slime_4 = Slime_Purple()\n",
        "# 슬라임 제거하기: hp=0 만들기\n",
        "Slime_4.get_damage()\n",
        "Slime_4.get_damage()\n",
        "Slime_4.get_damage()\n",
        "Slime_4.get_damage()\n",
        "print('Slime_4 hp:',Slime_4.hp)\n",
        "\n",
        "# 확인하기\n",
        "Slime_4.get_damage()"
      ],
      "metadata": {
        "colab": {
          "base_uri": "https://localhost:8080/"
        },
        "id": "TSslmtBglIJA",
        "outputId": "ef37e4e8-4738-4143-d743-50fd63cde131"
      },
      "execution_count": 47,
      "outputs": [
        {
          "output_type": "stream",
          "name": "stdout",
          "text": [
            "Purple Slime is dead!! You get 300 Gold\n",
            "Slime_4 hp: 0\n",
            "This slime has already dead. Kill other slimes!!\n"
          ]
        }
      ]
    },
    {
      "cell_type": "code",
      "source": [
        "# 오해하지 않도록 코드를 작성하자.\n",
        "# foo: 프로그래밍 상에서 임시로 변수이름을 지정해줘야 할 때 주로 쓰이는 변수 이름이다.\n",
        "foo = ''\n",
        "\n",
        "# 가독성 좋음\n",
        "if foo is not None: # 한 번만 해석하면 된다. (A는 B가 아니다.)\n",
        "    print('가독성 좋음')\n",
        "\n",
        "# 가독성 좋지 않음\n",
        "if not foo is None: # 두 번 해석해야된다. (A가 아닌 것은 None이다.)\n",
        "    print('가독성 좋지 않음')"
      ],
      "metadata": {
        "colab": {
          "base_uri": "https://localhost:8080/"
        },
        "id": "_c-vBUjSmuFn",
        "outputId": "c9a46cd4-6d62-4336-8511-8afe14253ada"
      },
      "execution_count": 49,
      "outputs": [
        {
          "output_type": "stream",
          "name": "stdout",
          "text": [
            "가독성 좋음\n",
            "가독성 좋지 않음\n"
          ]
        }
      ]
    },
    {
      "cell_type": "markdown",
      "source": [
        "![image.png](data:image/png;base64,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)"
      ],
      "metadata": {
        "id": "0P783I5pm5cx"
      }
    },
    {
      "cell_type": "code",
      "source": [
        "class User:\n",
        "  def __init__(self, name, is_admin=False):\n",
        "    self.name = name\n",
        "    self.is_admin = is_admin"
      ],
      "metadata": {
        "id": "R8mGbHFCm-ui"
      },
      "execution_count": 50,
      "outputs": []
    },
    {
      "cell_type": "code",
      "source": [
        "class Admin(User):\n",
        "  def __init__(self, name):\n",
        "    super().__init__(name, is_admin=True)\n",
        "\n",
        "class Customer(User):\n",
        "  def __init__(self, name):\n",
        "    super().__init__(name)\n",
        "    self.purchases = []\n",
        "  \n",
        "  def purchase_product(self, product):\n",
        "    purchase = Purchase(product, self)\n",
        "    self.purchases.append(purchase)\n",
        "\n",
        "class Vendor(User):\n",
        "  def __init__(self, name):\n",
        "    super().__init__(name)\n",
        "    self.products = []\n",
        "  \n",
        "  def create_product(self, product_name, product_price):\n",
        "    product = Product(product_name, product_price, self)\n",
        "    self.products.append(product)"
      ],
      "metadata": {
        "id": "rnrv7qe4nO28"
      },
      "execution_count": 53,
      "outputs": []
    },
    {
      "cell_type": "code",
      "source": [
        "from datetime import datetime\n",
        "\n",
        "class Product:\n",
        "  def __init__(self, name, price, vendor):\n",
        "    self.name = name\n",
        "    self.price = price\n",
        "    self.vendor = vendor\n",
        "  \n",
        "class Purchase:\n",
        "  def __init__(self, product, customer):\n",
        "    self.product = product\n",
        "    self.customer = customer\n",
        "    self.purchase_price = product.price\n",
        "    self.purchase_data = datetime.now()"
      ],
      "metadata": {
        "id": "ULSOi6Vwnkuo"
      },
      "execution_count": 52,
      "outputs": []
    },
    {
      "cell_type": "code",
      "source": [
        "class MyFirstClass:\n",
        "    pass\n",
        "\n",
        "a = MyFirstClass()  # 인스턴스화(메모리할당됨)\n",
        "\n",
        "print(a) "
      ],
      "metadata": {
        "colab": {
          "base_uri": "https://localhost:8080/"
        },
        "id": "mxCAarrSo4re",
        "outputId": "f0bcb8ea-41e6-446e-fe5b-f3172d6d6561"
      },
      "execution_count": 54,
      "outputs": [
        {
          "output_type": "stream",
          "name": "stdout",
          "text": [
            "<__main__.MyFirstClass object at 0x7f05397b60a0>\n"
          ]
        }
      ]
    },
    {
      "cell_type": "code",
      "source": [
        "class Point:\n",
        "    def __init__(self, x, y):\n",
        "        self.x = x\n",
        "        self.y = y\n",
        "        self.__private_name = \"private 접근\"\n",
        "\n",
        "class Point_sub(Point):\n",
        "    def __init__(self,x, y):\n",
        "        Point.__init__(self,x,y)\n",
        "        self.x = x\n",
        "        self.y = y\n",
        "\n",
        "    def __sub(self):\n",
        "        self.__x = 10\n",
        "        self.__y = 20\n",
        "\n",
        "    def sub(self):\n",
        "        self.__sub()\n",
        "        print(self.__x)\n",
        "        print(self.__y)\n",
        " \n",
        "my_point = Point(1, 2)\n",
        "my_point_sub = Point_sub(100,200)\n",
        "\n",
        "# case 1 - error case: private 으로 해당코드로 접근할 수 없다\n",
        "# print(my_point.__private_name)\n",
        "\n",
        "# case 2\n",
        "# 클래스 생성자에 있는 private변수에 접근하기위해 '_클래스이름__private변수' 를 활용한다.\n",
        "print(my_point._Point__private_name)\n",
        "\n",
        "# case 3\n",
        "print('case3 ------------')\n",
        "my_point_sub.sub()    # 변환된 이름에 대해 값 출력\n",
        "# my_point_sub.__sub()\n",
        "print(my_point_sub.x, my_point_sub.y)"
      ],
      "metadata": {
        "colab": {
          "base_uri": "https://localhost:8080/"
        },
        "id": "6ngNKxiUpEuz",
        "outputId": "5a6ea64b-9097-42cd-f085-65f0e9c58fb2"
      },
      "execution_count": 61,
      "outputs": [
        {
          "output_type": "stream",
          "name": "stdout",
          "text": [
            "private 접근\n",
            "case3 ------------\n",
            "10\n",
            "20\n",
            "100 200\n"
          ]
        }
      ]
    }
  ]
}