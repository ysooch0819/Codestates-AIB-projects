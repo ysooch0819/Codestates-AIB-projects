{
  "nbformat": 4,
  "nbformat_minor": 0,
  "metadata": {
    "colab": {
      "provenance": [],
      "authorship_tag": "ABX9TyMF/HBsU3UD69ZtKNYr4Sw7",
      "include_colab_link": true
    },
    "kernelspec": {
      "name": "python3",
      "display_name": "Python 3"
    },
    "language_info": {
      "name": "python"
    }
  },
  "cells": [
    {
      "cell_type": "markdown",
      "metadata": {
        "id": "view-in-github",
        "colab_type": "text"
      },
      "source": [
        "<a href=\"https://colab.research.google.com/github/ysooch0819/AI16-Projects/blob/main/n514%20%EB%B0%80%EB%9F%AC%EB%9D%BC%EB%B9%88%20%ED%95%99%EC%8A%B5.ipynb\" target=\"_parent\"><img src=\"https://colab.research.google.com/assets/colab-badge.svg\" alt=\"Open In Colab\"/></a>"
      ]
    },
    {
      "cell_type": "code",
      "source": [
        "import time"
      ],
      "metadata": {
        "id": "v251LmdQy11r"
      },
      "execution_count": 5,
      "outputs": []
    },
    {
      "cell_type": "code",
      "source": [
        "pow(2,3,7) # 2^3 mod 7"
      ],
      "metadata": {
        "colab": {
          "base_uri": "https://localhost:8080/"
        },
        "id": "qp1lAUgu_jEE",
        "outputId": "54c9355f-663f-42d5-8c7d-c121bce45a1f"
      },
      "execution_count": 28,
      "outputs": [
        {
          "output_type": "execute_result",
          "data": {
            "text/plain": [
              "1"
            ]
          },
          "metadata": {},
          "execution_count": 28
        }
      ]
    },
    {
      "cell_type": "code",
      "source": [
        "def miller_rabin(n, a):\n",
        "        if n % a == 0:\n",
        "            return True\n",
        "\n",
        "        k = n - 1\n",
        "        while not k & 1:\n",
        "            tmp = pow(a, k, n)\n",
        "            if tmp == n - 1:\n",
        "                return True\n",
        "            elif tmp != 1:\n",
        "                return False\n",
        "            k >>= 1\n",
        "        return tmp == 1 or tmp == n - 1\n",
        "\n",
        "# def isPrime(n):\n",
        "#     if n<2:\n",
        "#         return 0\n",
        "#     if n==2:\n",
        "#         return 1\n",
        "#     else:\n",
        "#         for i in range(3, int(n**0.5)+1, 2):\n",
        "#             if n%i ==0:\n",
        "#                 return 0\n",
        "#     return 1\n",
        "def miller_rabin(n, a):\n",
        "    if n % a == 0:\n",
        "        return True\n",
        "\n",
        "    k = n - 1\n",
        "    while not k & 1:\n",
        "        tmp = pow(a, k, n)\n",
        "        if tmp == n - 1:\n",
        "            return True\n",
        "        elif tmp != 1:\n",
        "            return False\n",
        "        k >>= 1\n",
        "    return tmp == 1 or tmp == n - 1\n",
        "\n",
        "\n",
        "def solution(n, k):\n",
        "    k_num=\"\"\n",
        "    while n:\n",
        "        k_num = str(n%k)+k_num\n",
        "        n=n//k\n",
        "\n",
        "    k_list = k_num.split('0')\n",
        "    count = 0\n",
        "    \n",
        "    for num in k_list:\n",
        "        if len(num) == 0:\n",
        "            continue\n",
        "        if miller_rabin(int(num),2) or miller_rabin(int(num),7) or miller_rabin(int(num),61):\n",
        "            count+=1\n",
        "    \n",
        "    return count"
      ],
      "metadata": {
        "id": "oh_xfceAqK8P"
      },
      "execution_count": 37,
      "outputs": []
    },
    {
      "cell_type": "code",
      "source": [
        "start = time.time()\n",
        "print(solution(437674,3))\n",
        "print(time.time()-start)"
      ],
      "metadata": {
        "colab": {
          "base_uri": "https://localhost:8080/"
        },
        "id": "Eviw33H0mN2L",
        "outputId": "c18db605-4a04-4418-a3cb-dd798a1bd726"
      },
      "execution_count": 38,
      "outputs": [
        {
          "output_type": "stream",
          "name": "stdout",
          "text": [
            "5\n",
            "0.0009763240814208984\n"
          ]
        }
      ]
    },
    {
      "cell_type": "code",
      "source": [
        "def solution(n, k):\n",
        "    if n == 1:\n",
        "        return 0\n",
        "    k_num=\"\"\n",
        "    while n:\n",
        "        k_num = str(n%k)+k_num\n",
        "        n=n//k\n",
        "\n",
        "    k_list = k_num.split('0')\n",
        "    k_list = [int(i) for i in k_list if i]\n",
        "    if not k_list:\n",
        "        return 0\n",
        "\n",
        "    def miller_rabin(n, a):\n",
        "        if n % a == 0:\n",
        "            return True\n",
        "\n",
        "        k = n - 1\n",
        "        while k%2==0:\n",
        "            tmp = pow(a, k, n)\n",
        "            if tmp == n - 1:\n",
        "                return True\n",
        "            elif tmp != 1:\n",
        "                return False\n",
        "            k >>= 1\n",
        "        return tmp == 1 or tmp == n - 1\n",
        "\n",
        "\n",
        "    def is_prime(n):\n",
        "        if n <= 1:\n",
        "            return False\n",
        "        if any([n == 2, n == 3, n == 5, n == 7]):\n",
        "            return True\n",
        "        if any([n % 2 == 0, n % 3 == 0, n % 5 == 0, n % 7 == 0]):\n",
        "            return False\n",
        "        base = [2, 7, 61]\n",
        "        for a in base:\n",
        "            if not miller_rabin(n, a):\n",
        "                return False\n",
        "        return True\n",
        "    \n",
        "    return sum(is_prime(i) for i in k_list)"
      ],
      "metadata": {
        "id": "YI7285HT5YDz"
      },
      "execution_count": 39,
      "outputs": []
    },
    {
      "cell_type": "code",
      "source": [
        "start = time.time()\n",
        "print(solution(437674,3))\n",
        "print(time.time()-start)"
      ],
      "metadata": {
        "colab": {
          "base_uri": "https://localhost:8080/"
        },
        "id": "t4UNvkju6Awp",
        "outputId": "288d2bff-3c0f-41a0-c328-5bdeb0edb6fe"
      },
      "execution_count": 42,
      "outputs": [
        {
          "output_type": "stream",
          "name": "stdout",
          "text": [
            "3\n",
            "0.0012664794921875\n"
          ]
        }
      ]
    },
    {
      "cell_type": "code",
      "source": [
        "def conv(n, k):\n",
        "\t\t\n",
        "    s = '' # conv 함수에서 s는 빈 문자열입니다.\n",
        "    while n: # n이 0이 될 때까지 n을 k로 나눈 나머지를 s에 붙여나가면서 k진수를 만듭니다.\n",
        "        s += str(n%k) \n",
        "        n //= k\n",
        "\n",
        "    return s[::-1] # s[::-1]으로 문자열을 역순으로 뒤집어 반환합니다.\n",
        "\n",
        "# n이 소수인지 판정\n",
        "def isprime(n):\n",
        "\t\t\n",
        "    if n <= 1: return False # n이 1보다 작거나 같으면 소수가 아니므로 False를 반환합니다.\n",
        "    i = 2\n",
        "    while i*i <= n:  \n",
        "        if n%i == 0: return False # i를 2부터 n의 제곱근까지 1씩 증가시키며, n이 i로 나누어 떨어지면 소수가 아니므로 False를 반환합니다.\n",
        "        i += 1 \n",
        "    return True # 모든 i에 대해 n이 i로 나누어 떨어지지 않으면 True를 반환합니다.\n",
        "\n",
        "\n",
        "def solution(n, k):\n",
        "    s = conv(n,k) # s는 n을 k진수로 변환한 결과입니다.\n",
        "    cnt = 0 # cnt는 조건에 맞는 소수 개수를 저장할 변수입니다.\n",
        "    for num in s.split('0'):\n",
        "        if not num: continue # 빈 문자열에 대한 예외처리\n",
        "        if isprime(int(num)): cnt += 1 # s를 '0'을 기준으로 분리한 후, 각각의 숫자(num)에 대해 isprime 함수를 적용하여 소수인지 판정합니다.\n",
        "    return cnt # cnt를 반환합니다."
      ],
      "metadata": {
        "id": "ro-98LND6iTy"
      },
      "execution_count": 36,
      "outputs": []
    }
  ]
}