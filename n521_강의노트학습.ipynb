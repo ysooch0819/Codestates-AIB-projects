{
  "nbformat": 4,
  "nbformat_minor": 0,
  "metadata": {
    "colab": {
      "provenance": [],
      "authorship_tag": "ABX9TyMDljd00xyJPSt/Q1YbWq4f",
      "include_colab_link": true
    },
    "kernelspec": {
      "name": "python3",
      "display_name": "Python 3"
    },
    "language_info": {
      "name": "python"
    }
  },
  "cells": [
    {
      "cell_type": "markdown",
      "metadata": {
        "id": "view-in-github",
        "colab_type": "text"
      },
      "source": [
        "<a href=\"https://colab.research.google.com/github/ysooch0819/AI16-Projects/blob/main/n521_%EA%B0%95%EC%9D%98%EB%85%B8%ED%8A%B8%ED%95%99%EC%8A%B5.ipynb\" target=\"_parent\"><img src=\"https://colab.research.google.com/assets/colab-badge.svg\" alt=\"Open In Colab\"/></a>"
      ]
    },
    {
      "cell_type": "code",
      "execution_count": 1,
      "metadata": {
        "id": "DFcoHEwtEC4o"
      },
      "outputs": [],
      "source": [
        "# 자료구조가 필요한 이유? 현실을 프로그래밍적으로 표현하는것\n",
        "# TREE: 조직도(예시), 디렉토리 관계\n",
        "# Abstract Data Type(ADT): Stacks and Queues, 배열 위에 어떤 규칙을 나열한 것, FIFO, LIFO"
      ]
    },
    {
      "cell_type": "code",
      "source": [
        "class Node:\n",
        "  def __init__(self, value, next=None):\n",
        "    self.value = value\n",
        "    self.next = next\n",
        "\n",
        "class linked_list:\n",
        "  def __init__(self, value):\n",
        "    self.head = Node(value)\n",
        "  \n",
        "  def add_node(value):\n",
        "    print('head.value:', head.value)\n",
        "    print('head.next:', head.next)\n",
        "    node = head\n",
        "    while node.next:\n",
        "      node = node.next\n",
        "    \n",
        "    node.next = Node(value)"
      ],
      "metadata": {
        "id": "TwkjtbaiGf7f"
      },
      "execution_count": 2,
      "outputs": []
    },
    {
      "cell_type": "code",
      "source": [
        "head = Node(5)\n",
        "linked_list.add_node(11)\n",
        "linked_list.add_node(17)\n",
        "\n",
        "print(head.value)\n",
        "print(head.next.value)\n",
        "print(head.next.next.value)"
      ],
      "metadata": {
        "colab": {
          "base_uri": "https://localhost:8080/"
        },
        "id": "mUcs7nnhG4r5",
        "outputId": "1c657252-e5e5-41c8-de37-13d94dfc2f2f"
      },
      "execution_count": 3,
      "outputs": [
        {
          "output_type": "stream",
          "name": "stdout",
          "text": [
            "head.value: 5\n",
            "head.next: None\n",
            "head.value: 5\n",
            "head.next: <__main__.Node object at 0x7efd34125550>\n",
            "5\n",
            "11\n",
            "17\n"
          ]
        }
      ]
    },
    {
      "cell_type": "code",
      "source": [
        "node1 = Node(3)\n",
        "node2 = Node(4)\n",
        "node3 = Node(5)\n",
        "node4 = Node(6)\n",
        "\n",
        "node1.next = node2\n",
        "node2.next = node3\n",
        "node3.next = node4\n",
        "\n",
        "node = node1\n",
        "while node:\n",
        "  print(node.value)\n",
        "  node = node.next"
      ],
      "metadata": {
        "colab": {
          "base_uri": "https://localhost:8080/"
        },
        "id": "H5k77NCJHLiM",
        "outputId": "e0f4e4dc-6d38-42b3-d8ac-03c2d5062b37"
      },
      "execution_count": 4,
      "outputs": [
        {
          "output_type": "stream",
          "name": "stdout",
          "text": [
            "3\n",
            "4\n",
            "5\n",
            "6\n"
          ]
        }
      ]
    },
    {
      "cell_type": "code",
      "source": [
        "class Node:\n",
        "  def __init__(self, value, next=None):\n",
        "    self.value = value\n",
        "    self.next = next\n",
        "\n",
        "class linked_list:\n",
        "  def __init__(self, value):\n",
        "    self.head = Node(value)\n",
        "  \n",
        "  def add_node(self, value):\n",
        "    if self.head == None:\n",
        "      self.head = Node(value)\n",
        "    else:\n",
        "      node = self.head\n",
        "      while node.next:\n",
        "        node = node.next\n",
        "      node.next = Node(value)\n",
        "    \n",
        "  def del_node(self, value):\n",
        "    if self.head == None: # 헤드가 없을 경우, 링크드리스트가 비어있는 경우\n",
        "      print('The linked_list is Empty.')\n",
        "      return\n",
        "    elif self.head.value == value: # 찾는 값이 head의 값인 경우\n",
        "      tmp = self.head # 헤드노드의 값을 임시 저장하고\n",
        "      self.head = self.head.next # 헤드노드 다음의 값을 헤드노드로 지정한 뒤\n",
        "      del tmp # 임시 저장한 값을 제거한다.\n",
        "    else: # 찾는 값이 head의 값이 아닌 경우\n",
        "      node = self.head\n",
        "      while node.next: # 링크드리스트 각 노드의 다음 노드가 있는 동안 실행\n",
        "        if node.next.value == value: # 찾는 값이 다음 노드의 값인 경우\n",
        "          tmp = node.next # 다음 노드의 값을 임시 저장\n",
        "          node.next = node.next.next # 다음 노드에 그 다음 노드를 지정(다음 노드를 지워도 연결이 유지되도록)\n",
        "          del tmp # 임시 저장값 제거\n",
        "        else:\n",
        "          node = node.next # 그다음 노드로 이동하며 탐색\n",
        "\n",
        "  def ord_desc(self):\n",
        "    node = self.head\n",
        "    while node:\n",
        "      print(node.value)\n",
        "      node = node.next"
      ],
      "metadata": {
        "id": "KeVD5G4mHbu5"
      },
      "execution_count": 12,
      "outputs": []
    },
    {
      "cell_type": "code",
      "source": [
        "linkedlist = linked_list(0)\n",
        "linkedlist.ord_desc()"
      ],
      "metadata": {
        "colab": {
          "base_uri": "https://localhost:8080/"
        },
        "id": "am1EdjsCLBB0",
        "outputId": "10d08ff8-af08-48d9-8db9-578fddb02eff"
      },
      "execution_count": 6,
      "outputs": [
        {
          "output_type": "stream",
          "name": "stdout",
          "text": [
            "0\n"
          ]
        }
      ]
    },
    {
      "cell_type": "code",
      "source": [
        "for value in range(1, 10):\n",
        "  linkedlist.add_node(value)\n",
        "\n",
        "linkedlist.ord_desc()"
      ],
      "metadata": {
        "colab": {
          "base_uri": "https://localhost:8080/"
        },
        "id": "R5wpoBl7LHpD",
        "outputId": "ababf6ec-e1e1-4b3f-a6cd-dd2c0efcd544"
      },
      "execution_count": 7,
      "outputs": [
        {
          "output_type": "stream",
          "name": "stdout",
          "text": [
            "0\n",
            "1\n",
            "2\n",
            "3\n",
            "4\n",
            "5\n",
            "6\n",
            "7\n",
            "8\n",
            "9\n"
          ]
        }
      ]
    },
    {
      "cell_type": "code",
      "source": [
        "linkedlist.head"
      ],
      "metadata": {
        "colab": {
          "base_uri": "https://localhost:8080/"
        },
        "id": "I7fBQHL5LP7D",
        "outputId": "d8d5a3a8-ff4c-4200-aea5-2d61638af698"
      },
      "execution_count": 8,
      "outputs": [
        {
          "output_type": "execute_result",
          "data": {
            "text/plain": [
              "<__main__.Node at 0x7efd34221e50>"
            ]
          },
          "metadata": {},
          "execution_count": 8
        }
      ]
    },
    {
      "cell_type": "code",
      "source": [
        "print('test1 ---------')\n",
        "linkedlist = linked_list(0)\n",
        "linkedlist.del_node(0)\n",
        "linkedlist.del_node(0)\n",
        "linkedlist.ord_desc() # 빈 출력\n",
        "\n",
        "print('test2 ---------')\n",
        "linkedlist = linked_list(0)\n",
        "linkedlist.add_node(1)\n",
        "linkedlist.del_node(0)\n",
        "linkedlist.ord_desc() # 1\n",
        "\n",
        "print('test3 ---------')\n",
        "linkedlist = linked_list(0)\n",
        "for value in range(1,5):\n",
        "  linkedlist.add_node(value)\n",
        "linkedlist.del_node(3)\n",
        "linkedlist.ord_desc() # 0 1 2 4"
      ],
      "metadata": {
        "colab": {
          "base_uri": "https://localhost:8080/"
        },
        "id": "Wthq_Z_BLS4m",
        "outputId": "5826d6f1-f6d6-4316-9614-fd488817b849"
      },
      "execution_count": 11,
      "outputs": [
        {
          "output_type": "stream",
          "name": "stdout",
          "text": [
            "test1 ---------\n",
            "The linked_list is Empty.\n",
            "test2 ---------\n",
            "1\n",
            "test3 ---------\n",
            "0\n",
            "1\n",
            "2\n",
            "4\n"
          ]
        }
      ]
    },
    {
      "cell_type": "code",
      "source": [
        "# 연결리스트에서 검색 구현\n",
        "class Node:\n",
        "  def __init__(self, value):\n",
        "    self.value = value\n",
        "    self.next = None\n",
        "  \n",
        "class linked_list:\n",
        "  def __init__(self, value):\n",
        "    self.head = Node(value)\n",
        "  \n",
        "  def add_node(self, value):\n",
        "    if self.head == None:\n",
        "      self.head = Node(value)\n",
        "    else:\n",
        "      node = self.head\n",
        "      while node.next:\n",
        "        node = node.next\n",
        "      node.next = Node(value)\n",
        "  \n",
        "  def del_node(self, value):\n",
        "    if self.head == None: # 헤드가 없을 경우, 링크드리스트가 비어있는 경우\n",
        "      print('The linked_list is Empty.')\n",
        "      return\n",
        "    elif self.head.value == value: # 찾는 값이 head의 값인 경우\n",
        "      tmp = self.head # 헤드노드의 값을 임시 저장하고\n",
        "      self.head = self.head.next # 헤드노드 다음의 값을 헤드노드로 지정한 뒤\n",
        "      del tmp # 임시 저장한 값을 제거한다.\n",
        "    else: # 찾는 값이 head의 값이 아닌 경우\n",
        "      node = self.head\n",
        "      while node.next: # 링크드리스트 각 노드의 다음 노드가 있는 동안 실행\n",
        "        if node.next.value == value: # 찾는 값이 다음 노드의 값인 경우\n",
        "          tmp = node.next # 다음 노드의 값을 임시 저장\n",
        "          node.next = node.next.next # 다음 노드에 그 다음 노드를 지정(다음 노드를 지워도 연결이 유지되도록)\n",
        "          del tmp # 임시 저장값 제거\n",
        "        else:\n",
        "          node = node.next # 그다음 노드로 이동하며 탐색\n",
        "  \n",
        "  def ord_desc(self):\n",
        "    node = self.head\n",
        "    while node:\n",
        "      print(node.value)\n",
        "      node = node.next\n",
        "  \n",
        "  def search_node(self, value):\n",
        "    node = self.head # 노드에 헤드노드를 설정한다.\n",
        "    while node: # 노드가 있는 경우 아래 작업 반복\n",
        "      if node.value == value: # 노드의 값이 현재 값과 같은 경우\n",
        "        return node # 노드를 반환\n",
        "      else: # 노드의 값이 다른 경우\n",
        "        node = node.next # 다른 노드의 위치를 현재 노드에 넣어준다."
      ],
      "metadata": {
        "id": "s73gNND9MvZb"
      },
      "execution_count": 16,
      "outputs": []
    },
    {
      "cell_type": "code",
      "source": [
        "linkedlist = linked_list(0) # 연결리스트 초기화\n",
        "\n",
        "# 연결리스트에 노드 다시 추가\n",
        "for value in range(1,11):\n",
        "    linkedlist.add_node(value)\n",
        "linkedlist.ord_desc()"
      ],
      "metadata": {
        "colab": {
          "base_uri": "https://localhost:8080/"
        },
        "id": "2gw0vzWOOcRS",
        "outputId": "0f047c93-fb40-41af-c642-5813ce37b0df"
      },
      "execution_count": 14,
      "outputs": [
        {
          "output_type": "stream",
          "name": "stdout",
          "text": [
            "0\n",
            "1\n",
            "2\n",
            "3\n",
            "4\n",
            "5\n",
            "6\n",
            "7\n",
            "8\n",
            "9\n",
            "10\n"
          ]
        }
      ]
    },
    {
      "cell_type": "code",
      "source": [
        "# 4라는 값을 갖고 있는 노드를 연결리스트에서 검색해보자.\n",
        "node = linkedlist.search_node(4)\n",
        "print(node.value)\n",
        "print(node.next.value)      # 4 다음 값 검색"
      ],
      "metadata": {
        "colab": {
          "base_uri": "https://localhost:8080/"
        },
        "id": "4sGd4ZUsOfDk",
        "outputId": "4432a7e8-bf01-4892-94bb-3377243c190e"
      },
      "execution_count": 15,
      "outputs": [
        {
          "output_type": "stream",
          "name": "stdout",
          "text": [
            "4\n",
            "5\n"
          ]
        }
      ]
    },
    {
      "cell_type": "code",
      "source": [
        "## 파이썬을 활용한 큐와 스택\n",
        "# 리스트 메소드를 사용해서 큐를 만들어보기\n",
        "from collections import deque\n",
        "queue = deque([\"Eric\", \"John\", \"Michael\"])\n",
        "queue.append(\"Terry\")           \n",
        "queue.append(\"Graham\")\n",
        "\n",
        "print('queue:', queue)\n",
        "print('queue.popleft():',queue.popleft())\n",
        "print('queue.popleft():',queue.popleft())\n",
        "print('queue:', queue) "
      ],
      "metadata": {
        "colab": {
          "base_uri": "https://localhost:8080/"
        },
        "id": "9udgA678Qhta",
        "outputId": "3cb7b34f-3edc-4abe-9e7c-36082941311e"
      },
      "execution_count": 17,
      "outputs": [
        {
          "output_type": "stream",
          "name": "stdout",
          "text": [
            "queue: deque(['Eric', 'John', 'Michael', 'Terry', 'Graham'])\n",
            "queue.popleft(): Eric\n",
            "queue.popleft(): John\n",
            "queue: deque(['Michael', 'Terry', 'Graham'])\n"
          ]
        }
      ]
    },
    {
      "cell_type": "code",
      "source": [
        "class LinkedListNode:\n",
        "  def __init__(self, data):\n",
        "    self.data = data\n",
        "    self.next = None\n",
        "\n",
        "class Queue:\n",
        "  def __init__(self):\n",
        "    self.front = None\n",
        "    self.rear = None\n",
        "  \n",
        "  # 대기열에서 넣기(큐에 값을 집어넣는 함수)\n",
        "  def enqueue(self, item):\n",
        "    new_node = LinkedListNode(item)\n",
        "\n",
        "    if self.rear is None:\n",
        "      self.front = new_node\n",
        "      self.rear = new_node\n",
        "    else:\n",
        "      self.rear.next = new_node\n",
        "      self.rear = new_node\n",
        "    return new_node.data\n",
        "  \n",
        "  def dequeue(self):\n",
        "    if self.front is not None:\n",
        "      old_front = self.front\n",
        "      self.front = old_front.next\n",
        "    \n",
        "    if self.front is None:\n",
        "      self.rear = None\n",
        "    \n",
        "    return old_front.data\n",
        "\n",
        "  def ord_desc(self):\n",
        "    node = self.front\n",
        "    while node:\n",
        "      print(node.data)\n",
        "      node = node.next"
      ],
      "metadata": {
        "id": "VdD9SubFRFKZ"
      },
      "execution_count": 18,
      "outputs": []
    },
    {
      "cell_type": "code",
      "source": [
        "print('1,2 차례대로 추가하기:')\n",
        "q = Queue()\n",
        "q.enqueue(1)\n",
        "q.enqueue(2)\n",
        "q.ord_desc()"
      ],
      "metadata": {
        "colab": {
          "base_uri": "https://localhost:8080/"
        },
        "id": "87czPkl4S2UR",
        "outputId": "e8079818-2235-4c69-c0d4-f72aa29996f5"
      },
      "execution_count": 19,
      "outputs": [
        {
          "output_type": "stream",
          "name": "stdout",
          "text": [
            "1,2 차례대로 추가하기:\n",
            "1\n",
            "2\n"
          ]
        }
      ]
    },
    {
      "cell_type": "code",
      "source": [
        "print('대기열에서 빼기:')\n",
        "q.dequeue()\n",
        "q.ord_desc()"
      ],
      "metadata": {
        "colab": {
          "base_uri": "https://localhost:8080/"
        },
        "id": "NCH_oZdyTReW",
        "outputId": "ce57c1a6-50cc-41e2-8ef0-98c4d989f730"
      },
      "execution_count": 20,
      "outputs": [
        {
          "output_type": "stream",
          "name": "stdout",
          "text": [
            "대기열에서 빼기:\n",
            "2\n"
          ]
        }
      ]
    },
    {
      "cell_type": "code",
      "source": [
        "# 리스트 메소드를 사용해서 스택만들어보기\n",
        "stack = [3, 4, 5]\n",
        "stack.append(6)\n",
        "stack.append(7)\n",
        "print(stack)\n",
        "\n",
        "stack.pop()\n",
        "print(stack)\n",
        "\n",
        "stack.pop()\n",
        "print(stack)\n",
        "\n",
        "stack.pop()\n",
        "print(stack)"
      ],
      "metadata": {
        "colab": {
          "base_uri": "https://localhost:8080/"
        },
        "id": "3VmJGs60TUSa",
        "outputId": "0e30175a-14b0-441c-c2d9-50ca0f181062"
      },
      "execution_count": 21,
      "outputs": [
        {
          "output_type": "stream",
          "name": "stdout",
          "text": [
            "[3, 4, 5, 6, 7]\n",
            "[3, 4, 5, 6]\n",
            "[3, 4, 5]\n",
            "[3, 4]\n"
          ]
        }
      ]
    },
    {
      "cell_type": "code",
      "source": [
        "class LinkedListNode:\n",
        "    def __init__(self, data):\n",
        "        self.data = data\n",
        "        self.next = None\n",
        "\n",
        "class Stack:\n",
        "    def __init__(self):\n",
        "        self.top = None\n",
        "\n",
        "    def push(self, data):\n",
        "        # 신규 노드 생성\n",
        "        new_node = LinkedListNode(data)\n",
        "        # 최상단의 노드를 신규 노드 다음 노드로 삽입\n",
        "        new_node.next = self.top\n",
        "        # 신규 노드를 최상단에 삽입\n",
        "        self.top = new_node\n",
        "        return new_node.data\n",
        "\n",
        "    def pop(self):\n",
        "        # 스택이 비어있는지 확인\n",
        "        if self.top is not None:\n",
        "            # 최상단의 노드를 삭제할 노드로 삽입\n",
        "            popped_node = self.top\n",
        "            # 삭제할 노드 다음 노드를 최상단의 노드로 삽입\n",
        "            self.top = popped_node.next\n",
        "            # 삭제할 노드로부터 값 리턴\n",
        "            return popped_node.data\n",
        "\n",
        "    # 연결리스트의 노드출력을 위한 기능\n",
        "    def ord_desc(self):\n",
        "        node = self.top\n",
        "        while node:\n",
        "            print(node.data)\n",
        "            node = node.next"
      ],
      "metadata": {
        "id": "i1azf6STTYDd"
      },
      "execution_count": 23,
      "outputs": []
    }
  ]
}