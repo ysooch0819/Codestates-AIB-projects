{
  "nbformat": 4,
  "nbformat_minor": 0,
  "metadata": {
    "colab": {
      "provenance": [],
      "authorship_tag": "ABX9TyNIYri4f2REY+81fheKEiyI",
      "include_colab_link": true
    },
    "kernelspec": {
      "name": "python3",
      "display_name": "Python 3"
    },
    "language_info": {
      "name": "python"
    }
  },
  "cells": [
    {
      "cell_type": "markdown",
      "metadata": {
        "id": "view-in-github",
        "colab_type": "text"
      },
      "source": [
        "<a href=\"https://colab.research.google.com/github/ysooch0819/AI16-Projects/blob/main/n522_discussion.ipynb\" target=\"_parent\"><img src=\"https://colab.research.google.com/assets/colab-badge.svg\" alt=\"Open In Colab\"/></a>"
      ]
    },
    {
      "cell_type": "code",
      "execution_count": 47,
      "metadata": {
        "colab": {
          "base_uri": "https://localhost:8080/"
        },
        "id": "Xe1o7O2_7Ik-",
        "outputId": "c5fa6a22-c8df-4a78-e8d8-a163e08156b6"
      },
      "outputs": [
        {
          "output_type": "stream",
          "name": "stdout",
          "text": [
            "★\n",
            "★★\n",
            "★★★\n",
            "★★★★\n",
            "★★★★★\n",
            "★★★★★★\n",
            "★★★★★★★\n",
            "★★★★★★\n",
            "★★★★★\n",
            "★★★★\n",
            "★★★\n",
            "★★\n",
            "★\n",
            "\n"
          ]
        }
      ],
      "source": [
        "## Topic 1-1. 재귀 별찍기\n",
        "def star_print(n):\n",
        "    # n이 1이면 별 한개\n",
        "    if n == 1:\n",
        "        print(\"★\")\n",
        "    # n이 1보다 크면 n-1 재귀, 별은 n개 찍기\n",
        "    elif n > 1:\n",
        "        star_print(n-1)\n",
        "        print(n * \"★\")\n",
        "    elif n == 0: # 0이면 찍을게 없음\n",
        "        print('')\n",
        "    else: # 음수면 그냥 거꾸로 찍어주자\n",
        "        print(abs(n) * \"★\")\n",
        "        star_print(n+1)\n",
        "        \n",
        "star_print(7)\n",
        "star_print(-6)"
      ]
    },
    {
      "cell_type": "code",
      "source": [
        "# 출력 예시 반복문\n",
        "for i in range(0, 10):\n",
        "    if i == 0:\n",
        "        print(\"구구단 2단\")\n",
        "    else:\n",
        "        print(f'2 * {i} = {2*i}')"
      ],
      "metadata": {
        "colab": {
          "base_uri": "https://localhost:8080/"
        },
        "id": "c5cRwDSXAhhg",
        "outputId": "6049291c-f4dc-4ef4-bd78-1612170ffe90"
      },
      "execution_count": 48,
      "outputs": [
        {
          "output_type": "stream",
          "name": "stdout",
          "text": [
            "구구단 2단\n",
            "2 * 1 = 2\n",
            "2 * 2 = 4\n",
            "2 * 3 = 6\n",
            "2 * 4 = 8\n",
            "2 * 5 = 10\n",
            "2 * 6 = 12\n",
            "2 * 7 = 14\n",
            "2 * 8 = 16\n",
            "2 * 9 = 18\n"
          ]
        }
      ]
    },
    {
      "cell_type": "code",
      "source": [
        "## Topic 1-2. 재귀 구구단\n",
        "def multi_table_2(n):\n",
        "  if n == 1:\n",
        "    print(\"구구단 2단\")\n",
        "    print(f'2 * {n} = {2*n}')\n",
        "  else:\n",
        "    multi_table_2(n-1)\n",
        "    print(f'2 * {n} = {2*n}')\n",
        "\n",
        "\n",
        "multi_table_2(9)"
      ],
      "metadata": {
        "colab": {
          "base_uri": "https://localhost:8080/"
        },
        "id": "5s8x77MXAaaR",
        "outputId": "ec444208-6923-49ae-b84b-dfd1eaa77a8f"
      },
      "execution_count": 58,
      "outputs": [
        {
          "output_type": "stream",
          "name": "stdout",
          "text": [
            "구구단 2단\n",
            "2 * 1 = 2\n",
            "2 * 2 = 4\n",
            "2 * 3 = 6\n",
            "2 * 4 = 8\n",
            "2 * 5 = 10\n",
            "2 * 6 = 12\n",
            "2 * 7 = 14\n",
            "2 * 8 = 16\n",
            "2 * 9 = 18\n"
          ]
        }
      ]
    },
    {
      "cell_type": "code",
      "source": [
        "## Topic 1-3. 재귀 카운트다운\n",
        "def countdown(n):\n",
        "  if n == 1:\n",
        "    print(f\"{n} 발사\")\n",
        "  else:\n",
        "    print(n, end=' ')\n",
        "    countdown(n-1)\n",
        "\n",
        "countdown(5)"
      ],
      "metadata": {
        "colab": {
          "base_uri": "https://localhost:8080/"
        },
        "id": "KKIP0_8sBkMF",
        "outputId": "1d8a2ae6-3264-462c-b6dc-3b1b27b06ec6"
      },
      "execution_count": 60,
      "outputs": [
        {
          "output_type": "stream",
          "name": "stdout",
          "text": [
            "5 4 3 2 1 발사\n"
          ]
        }
      ]
    },
    {
      "cell_type": "code",
      "source": [
        "# 출력 예시 반복문\n",
        "for i in range(85,101):\n",
        "\t  if i % 2 !=1:\n",
        "\t\t    print(i, end = ' ')"
      ],
      "metadata": {
        "colab": {
          "base_uri": "https://localhost:8080/"
        },
        "id": "hGn1EvUcCP5v",
        "outputId": "0d78af3a-bb1d-45b0-cdf4-6791630fe2e8"
      },
      "execution_count": 61,
      "outputs": [
        {
          "output_type": "stream",
          "name": "stdout",
          "text": [
            "86 88 90 92 94 96 98 100 "
          ]
        }
      ]
    },
    {
      "cell_type": "code",
      "source": [
        "## Topic 1-4. 재귀 n과 100 사이의 짝수구하기\n",
        "# 1<= n <= 100\n",
        "def even_num(n):\n",
        "  if n>100:\n",
        "    return\n",
        "  else:\n",
        "    if n%2 ==0:\n",
        "      print(n, end=' ')\n",
        "      even_num(n+2)\n",
        "    else:\n",
        "      even_num(n+1)\n",
        "\n",
        "even_num(73)"
      ],
      "metadata": {
        "colab": {
          "base_uri": "https://localhost:8080/"
        },
        "id": "-crOYMhjCCYG",
        "outputId": "5b328570-8bc6-405a-aeb0-6bc4f20277c5"
      },
      "execution_count": 70,
      "outputs": [
        {
          "output_type": "stream",
          "name": "stdout",
          "text": [
            "74 76 78 80 82 84 86 88 90 92 94 96 98 100 "
          ]
        }
      ]
    },
    {
      "cell_type": "code",
      "source": [
        "## Topic 2. 이진탐색트리의 약점\n",
        "class node:\n",
        "    def __init__(self, value):\n",
        "        self.value = value\n",
        "        self.left = None\n",
        "        self.right = None\n",
        "\n",
        "class binary_search_tree:\n",
        "    def __init__(self, head):\n",
        "        self.head = head\n",
        "\n",
        "    def insert_node(self, value):\n",
        "        self.base_node = self.head\n",
        "        while True:\n",
        "            if value < self.base_node.value:\n",
        "                if self.base_node.left is not None:\n",
        "                    self.base_node = self.base_node.left\n",
        "                else:\n",
        "                    self.base_node.left = node(value)\n",
        "                    break\n",
        "            else:\n",
        "                if self.base_node.right is not None:\n",
        "                    self.base_node = self.base_node.right\n",
        "                else:\n",
        "                    self.base_node.right = node(value)\n",
        "                    break\n",
        "\n",
        "head = node(9)\n",
        "bt = binary_search_tree(head)\n",
        "\n",
        "bt.insert_node(10)\n",
        "bt.insert_node(13)\n",
        "bt.insert_node(15)\n",
        "bt.insert_node(17)\n",
        "bt.insert_node(18)\n",
        "bt.insert_node(19)\n",
        "bt.insert_node(21)\n",
        "bt.insert_node(24)\n",
        "bt.insert_node(30)"
      ],
      "metadata": {
        "id": "AxcVW8ToDxCQ"
      },
      "execution_count": 75,
      "outputs": []
    },
    {
      "cell_type": "code",
      "source": [
        "## 이진탐색트리의 검색 연산\n",
        "# 주어진 키 값이 루트 노드의 키 값과 같으면 탐색 성공\n",
        "# 작으면 왼쪽 서브트리, 크면 오른쪽 서브트리\n",
        "# 정렬된 데이터는 루트 노드인 9 보다 큰 값들이고, 정렬이 되어있으므로 계속 큰 값이 들어온다.\n",
        "# 루트(이름도 head라고 해놨다) 노드가 고정되어있고, 값들이 들어갈수록 트리가 오른쪽으로만 점점 자라나게 된다.\n",
        "# 탐색 진행 시, 루트노드부터 키값을 비교하여 찾게 되는데, 루트의 키값이 전체 트리의 최소값이다. \n",
        "# -> 결국 head -> tail 까지 훑어서 비교하는 연결리스트의 탐색방식과 같아진다. 트리의 탐색 메리트가 없어짐."
      ],
      "metadata": {
        "id": "2ByCuISoEoF5"
      },
      "execution_count": 77,
      "outputs": []
    }
  ]
}