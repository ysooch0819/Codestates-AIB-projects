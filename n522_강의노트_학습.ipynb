{
  "nbformat": 4,
  "nbformat_minor": 0,
  "metadata": {
    "colab": {
      "provenance": [],
      "authorship_tag": "ABX9TyPzehkxMUhaQeTBXgoU5s1D",
      "include_colab_link": true
    },
    "kernelspec": {
      "name": "python3",
      "display_name": "Python 3"
    },
    "language_info": {
      "name": "python"
    }
  },
  "cells": [
    {
      "cell_type": "markdown",
      "metadata": {
        "id": "view-in-github",
        "colab_type": "text"
      },
      "source": [
        "<a href=\"https://colab.research.google.com/github/ysooch0819/AI16-Projects/blob/main/n522_%EA%B0%95%EC%9D%98%EB%85%B8%ED%8A%B8_%ED%95%99%EC%8A%B5.ipynb\" target=\"_parent\"><img src=\"https://colab.research.google.com/assets/colab-badge.svg\" alt=\"Open In Colab\"/></a>"
      ]
    },
    {
      "cell_type": "code",
      "execution_count": 1,
      "metadata": {
        "id": "3Ewmo-FTO8NA"
      },
      "outputs": [],
      "source": [
        "## n522 강의노트 학습"
      ]
    },
    {
      "cell_type": "code",
      "source": [
        "# 중첩반복문 복습\n",
        "numbers = [1,2,3,4]\n",
        "len_numbers = len(numbers)\n",
        "for i in range(0, len_numbers):\n",
        "  for j in range(1, len_numbers):\n",
        "    print(\"i:\", i,\" j:\", j)\n",
        "  print()\n"
      ],
      "metadata": {
        "colab": {
          "base_uri": "https://localhost:8080/"
        },
        "id": "MVimmOowPB-U",
        "outputId": "8ee7af0d-5a2a-425a-efbb-61dc44c72d25"
      },
      "execution_count": 2,
      "outputs": [
        {
          "output_type": "stream",
          "name": "stdout",
          "text": [
            "i: 0  j: 1\n",
            "i: 0  j: 2\n",
            "i: 0  j: 3\n",
            "\n",
            "i: 1  j: 1\n",
            "i: 1  j: 2\n",
            "i: 1  j: 3\n",
            "\n",
            "i: 2  j: 1\n",
            "i: 2  j: 2\n",
            "i: 2  j: 3\n",
            "\n",
            "i: 3  j: 1\n",
            "i: 3  j: 2\n",
            "i: 3  j: 3\n",
            "\n"
          ]
        }
      ]
    },
    {
      "cell_type": "code",
      "source": [
        "# 1부터 3이상의 원하는 수 까지의 요소 중 두 수 의 합을 큰 순서대로 구해보자\n",
        "# (조건: 모든 요소들의 합이 아니다)\n",
        "\n",
        "def remain_sum(num):\n",
        "  result = []\n",
        "  numbers = [i for i in range(1, num+1)]\n",
        "  print(numbers)\n",
        "\n",
        "  init_value = 0\n",
        "  for i in range(0, len(numbers)):\n",
        "    result.append(init_value)\n",
        "    print(\"left sum - result[\",i,\"]:\", result[i])\n",
        "    init_value += numbers[i]\n",
        "  \n",
        "  print(\"result:\", result)\n",
        "\n",
        "  init_value = 0\n",
        "  for i in range(len(numbers)-1, -1, -1):\n",
        "    result[i] += init_value\n",
        "    print(\"final sum - result[\",i,\"]:\", result[i])\n",
        "    init_value += numbers[i]\n",
        "  \n",
        "  print(\"result:\", result)\n",
        "\n",
        "  return result\n",
        "\n",
        "\n",
        "print(\"결과:\", remain_sum(int(input(\"3 이상의 숫자를 입력해주세요: \"))))"
      ],
      "metadata": {
        "colab": {
          "base_uri": "https://localhost:8080/"
        },
        "id": "DNBvc8WJPUid",
        "outputId": "7c4c7774-1e95-4cc5-b154-837027b3376b"
      },
      "execution_count": 6,
      "outputs": [
        {
          "output_type": "stream",
          "name": "stdout",
          "text": [
            "3 이상의 숫자를 입력해주세요: 3\n",
            "[1, 2, 3]\n",
            "left sum - result[ 0 ]: 0\n",
            "left sum - result[ 1 ]: 1\n",
            "left sum - result[ 2 ]: 3\n",
            "result: [0, 1, 3]\n",
            "final sum - result[ 2 ]: 3\n",
            "final sum - result[ 1 ]: 4\n",
            "final sum - result[ 0 ]: 5\n",
            "result: [5, 4, 3]\n",
            "결과: [5, 4, 3]\n"
          ]
        }
      ]
    },
    {
      "cell_type": "code",
      "source": [
        "# 선형 검색\n",
        "def linear_search(arr, target):\n",
        "  for idx in range(len(arr)):\n",
        "    if arr[idx] == target:\n",
        "      return idx\n",
        "    \n",
        "  return -1\n",
        "  \n",
        "print(linear_search([0,1,2], 1))\n",
        "print(linear_search([0,1,2], 3))"
      ],
      "metadata": {
        "colab": {
          "base_uri": "https://localhost:8080/"
        },
        "id": "ozPel6n_Rrx-",
        "outputId": "ce27b177-333f-44ec-a6b8-a919570bf62a"
      },
      "execution_count": 10,
      "outputs": [
        {
          "output_type": "stream",
          "name": "stdout",
          "text": [
            "1\n",
            "-1\n"
          ]
        }
      ]
    },
    {
      "cell_type": "code",
      "source": [
        "my_list = [1,2,3,4,5]\n",
        "def sum_list(items):\n",
        "  sum = 0\n",
        "  for i in items:\n",
        "    sum += i\n",
        "  return sum\n",
        "\n",
        "sum_list(my_list)"
      ],
      "metadata": {
        "colab": {
          "base_uri": "https://localhost:8080/"
        },
        "id": "bFUeZoP2SIvA",
        "outputId": "f4b2332b-7440-44b4-ef7f-61f91303893c"
      },
      "execution_count": 11,
      "outputs": [
        {
          "output_type": "execute_result",
          "data": {
            "text/plain": [
              "15"
            ]
          },
          "metadata": {},
          "execution_count": 11
        }
      ]
    },
    {
      "cell_type": "code",
      "source": [
        "def sum_list(items):\n",
        "  if len(items) == 1:\n",
        "    return items[0]\n",
        "  else:\n",
        "    return items[0] + sum_list(items[1:])"
      ],
      "metadata": {
        "id": "cUiUhCcTSWl-"
      },
      "execution_count": 15,
      "outputs": []
    },
    {
      "cell_type": "code",
      "source": [
        "print(sum_list([1]))\n",
        "sum_list([1,3])"
      ],
      "metadata": {
        "colab": {
          "base_uri": "https://localhost:8080/"
        },
        "id": "TxHOCU66Sv7r",
        "outputId": "0999bc1e-2787-45f2-c1a7-3dc3d27b44e0"
      },
      "execution_count": 17,
      "outputs": [
        {
          "output_type": "stream",
          "name": "stdout",
          "text": [
            "1\n"
          ]
        },
        {
          "output_type": "execute_result",
          "data": {
            "text/plain": [
              "4"
            ]
          },
          "metadata": {},
          "execution_count": 17
        }
      ]
    },
    {
      "cell_type": "code",
      "source": [
        "def add_two(num):\n",
        "  return num + 2\n",
        "  \n",
        "def add_four(num):\n",
        "  return add_two(add_two(num))\n",
        "\n",
        "print(add_two(2))\n",
        "print(add_four(6))"
      ],
      "metadata": {
        "colab": {
          "base_uri": "https://localhost:8080/"
        },
        "id": "1ALBm7ADTBbI",
        "outputId": "4408ab1e-e43e-4e30-e2fc-a49cc0a24e39"
      },
      "execution_count": 18,
      "outputs": [
        {
          "output_type": "stream",
          "name": "stdout",
          "text": [
            "4\n",
            "10\n"
          ]
        }
      ]
    },
    {
      "cell_type": "code",
      "source": [
        "import sys\n",
        "print(sys.getrecursionlimit())"
      ],
      "metadata": {
        "colab": {
          "base_uri": "https://localhost:8080/"
        },
        "id": "1OteXg99TQ4l",
        "outputId": "812bbe5c-c38b-4ebb-d1cf-63529e17e2d6"
      },
      "execution_count": 19,
      "outputs": [
        {
          "output_type": "stream",
          "name": "stdout",
          "text": [
            "1000\n"
          ]
        }
      ]
    },
    {
      "cell_type": "code",
      "source": [
        "import sys\n",
        "sys.setrecursionlimit(3500)\n",
        "def sum_number(n):\n",
        "    if n <= 0:\n",
        "        return 0\n",
        "    else:\n",
        "        return n + sum_number(n-1)\n",
        "\n",
        "print(sum_number(3000))"
      ],
      "metadata": {
        "colab": {
          "base_uri": "https://localhost:8080/"
        },
        "id": "edESnbd7TWDI",
        "outputId": "d68e8991-568d-40f6-cd49-2490e85e8b3e"
      },
      "execution_count": 21,
      "outputs": [
        {
          "output_type": "stream",
          "name": "stdout",
          "text": [
            "4501500\n"
          ]
        }
      ]
    },
    {
      "cell_type": "code",
      "source": [
        "## 바이너리 트리\n",
        "class BinaryTreeNode:\n",
        "  def __init__(self, value):\n",
        "    self.left = None\n",
        "    self.value = value\n",
        "    self.right = None"
      ],
      "metadata": {
        "id": "GHdaUIQwTnyU"
      },
      "execution_count": 22,
      "outputs": []
    },
    {
      "cell_type": "code",
      "source": [
        "class node:\n",
        "  def __init__(self, value):\n",
        "    self.value = value\n",
        "    self.left = None\n",
        "    self.right = None\n",
        "\n",
        "class binary_search_tree:\n",
        "  def __init__(self, head):\n",
        "    self.head = head\n",
        "  \n",
        "  def insert_node(self, value):\n",
        "    self.base_node = self.head\n",
        "    while True:\n",
        "      if value < self.base_node.value:\n",
        "        if self.base_node.left is not None:\n",
        "          self.base_node = self.base_node.left\n",
        "        else:\n",
        "          self.base_node.left = node(value)\n",
        "          break\n",
        "      else:\n",
        "        if self.base_node.right is not None:\n",
        "          self.base_node = self.base_node.right\n",
        "        else:\n",
        "          self.base_node.right = node(value)\n",
        "          break\n",
        "  \n",
        "  def search_node(self, value):\n",
        "    self.base_node = self.head\n",
        "\n",
        "    while self.base_node:\n",
        "      # 찾는 값(value)이 베이스노드값(self.base_node.value)이면\n",
        "      if self.base_node.value == value:\n",
        "        return True\n",
        "      # 찾는 값이 베이스노드값보다 작으면\n",
        "      elif value < self.base_node.value:\n",
        "        # A를 B로 갱신한다.\n",
        "        if self.base_node.left is not None:\n",
        "          self.base_node = self.base_node.left\n",
        "        else:\n",
        "          return False\n",
        "      else:\n",
        "        if self.base_node.right is not None:\n",
        "          self.base_node = self.base_node.right\n",
        "        else:\n",
        "          return False"
      ],
      "metadata": {
        "id": "x8ryEKo8T_gU"
      },
      "execution_count": 28,
      "outputs": []
    },
    {
      "cell_type": "code",
      "source": [
        "head = node(1)\n",
        "bt = binary_search_tree(head)"
      ],
      "metadata": {
        "id": "272T44XkUtrJ"
      },
      "execution_count": 24,
      "outputs": []
    },
    {
      "cell_type": "code",
      "source": [
        "# 노드삽입\n",
        "head = node(10)  # 루트노드지정\n",
        "bt = binary_search_tree(head)\n",
        "\n",
        "bt.insert_node(2)\n",
        "bt.insert_node(5)\n",
        "bt.insert_node(0)\n",
        "bt.insert_node(-1)"
      ],
      "metadata": {
        "id": "FgVwdZIIUxeo"
      },
      "execution_count": 29,
      "outputs": []
    },
    {
      "cell_type": "code",
      "source": [
        "bt.search_node(4)"
      ],
      "metadata": {
        "colab": {
          "base_uri": "https://localhost:8080/"
        },
        "id": "Dubdmv6oWZ_Z",
        "outputId": "2e15a8bf-6f6c-483a-87b6-cafc0cbb9633"
      },
      "execution_count": 30,
      "outputs": [
        {
          "output_type": "execute_result",
          "data": {
            "text/plain": [
              "False"
            ]
          },
          "metadata": {},
          "execution_count": 30
        }
      ]
    },
    {
      "cell_type": "code",
      "source": [
        "print(bt.search_node(3))"
      ],
      "metadata": {
        "colab": {
          "base_uri": "https://localhost:8080/"
        },
        "id": "8i5eO2qNWdIO",
        "outputId": "faacf36c-75c5-4984-b1f0-7187b1b48486"
      },
      "execution_count": 37,
      "outputs": [
        {
          "output_type": "stream",
          "name": "stdout",
          "text": [
            "False\n"
          ]
        }
      ]
    }
  ]
}