{
  "nbformat": 4,
  "nbformat_minor": 0,
  "metadata": {
    "colab": {
      "provenance": [],
      "authorship_tag": "ABX9TyNaum8iyr5kkdJRZRVBiRsx",
      "include_colab_link": true
    },
    "kernelspec": {
      "name": "python3",
      "display_name": "Python 3"
    },
    "language_info": {
      "name": "python"
    }
  },
  "cells": [
    {
      "cell_type": "markdown",
      "metadata": {
        "id": "view-in-github",
        "colab_type": "text"
      },
      "source": [
        "<a href=\"https://colab.research.google.com/github/ysooch0819/AI16-Projects/blob/main/n523_%EA%B0%95%EC%9D%98%EB%85%B8%ED%8A%B8_%ED%95%99%EC%8A%B5.ipynb\" target=\"_parent\"><img src=\"https://colab.research.google.com/assets/colab-badge.svg\" alt=\"Open In Colab\"/></a>"
      ]
    },
    {
      "cell_type": "code",
      "source": [
        "# 예시 리스트\n",
        "our_numbers = [5, 9, 3, 6, 2, 1, 7, 8, 4]"
      ],
      "metadata": {
        "id": "kepZD9cFpH0z"
      },
      "execution_count": 38,
      "outputs": []
    },
    {
      "cell_type": "code",
      "source": [
        "# 선택 정렬\n",
        "def selection_sort(items):\n",
        "    for i in range(0, len(items) - 1):    # 외부 반복문(루프)\n",
        "        cur_index = i\n",
        "        smallest_index = cur_index\n",
        "\n",
        "        for j in range(cur_index + 1, len(items)):  # 내부루프\n",
        "            # 1) 최소값찾는 로직을 직접 작성해보세요!\n",
        "            if items[smallest_index] > items[j]:\n",
        "              smallest_index = j\n",
        "        # 2) 로직에 따라 최소값을 찾고, 아래 두 swap방법 중 하나를 선택하여 교환을 수행하시오.\n",
        "        # items[smallest_index]와 items[cur_index] 값을 Swap(교환) 한다.\n",
        "\n",
        "        # 첫번째 swap 방법\n",
        "        # temp = items[smallest_index]\n",
        "        # items[smallest_index] = items[cur_index]\n",
        "        # items[cur_index]= temp \n",
        "\n",
        "        # 두번째 swap 방법\n",
        "        items[smallest_index], items[cur_index] = items[cur_index], items[smallest_index]\n",
        "\n",
        "    return items"
      ],
      "metadata": {
        "id": "0hHK2PAupLD9"
      },
      "execution_count": 61,
      "outputs": []
    },
    {
      "cell_type": "code",
      "source": [
        "# 정렬된 결과값 출력\n",
        "print(selection_sort(our_numbers))"
      ],
      "metadata": {
        "colab": {
          "base_uri": "https://localhost:8080/"
        },
        "id": "KSzn6-qjprOj",
        "outputId": "b9134126-f991-4215-bfe1-ce8ab5630608"
      },
      "execution_count": 62,
      "outputs": [
        {
          "output_type": "stream",
          "name": "stdout",
          "text": [
            "[1, 2, 3, 4, 5, 6, 7, 8, 9]\n"
          ]
        }
      ]
    },
    {
      "cell_type": "code",
      "source": [
        "# 삽입정렬 소스코드\n",
        "def ins_sort(unsort_list):\n",
        "    loop_number = len(unsort_list)          # 반복횟수를 위한 길이설정\n",
        "\n",
        "    # 앞쪽에 있는 노드들을 검색하기 위한 반복문\n",
        "    for compare_index in range(loop_number):    # 비교하려는 위치부터 loop_number만큼 반복\n",
        "        compare_value = unsort_list[compare_index]  \n",
        "        prev_position = compare_index - 1   # 이전 노드값에 대한 인덱스를 가리킴\n",
        "\n",
        "        # 비교연산 후 삽입을 진행하는 반복문\n",
        "        while prev_position >= 0 and unsort_list[prev_position] > compare_value:    \n",
        "            unsort_list[prev_position + 1] = unsort_list[prev_position] # swap을 위한 작업\n",
        "            prev_position = prev_position - 1\n",
        "        unsort_list[prev_position + 1] = compare_value    # 비교된 더 큰 값을 (이전노드+1) 인덱스에 삽입\n",
        "\n",
        "    return unsort_list\n",
        "\n",
        "test_arr = [5, 3, 1, 6]\n",
        "ins_sort(test_arr)"
      ],
      "metadata": {
        "id": "PVby6JA-uPx2",
        "outputId": "a3106aa9-cd4a-49be-ad51-38794208696a",
        "colab": {
          "base_uri": "https://localhost:8080/"
        }
      },
      "execution_count": 63,
      "outputs": [
        {
          "output_type": "execute_result",
          "data": {
            "text/plain": [
              "[1, 3, 5, 6]"
            ]
          },
          "metadata": {},
          "execution_count": 63
        }
      ]
    },
    {
      "cell_type": "code",
      "source": [
        "# 버블정렬 소스코드\n",
        "def bubble_sort(li):\n",
        "    length = len(li) - 1\n",
        "    # 외부 반복문(아래 그림에서 전체 리스트에 대해 정렬이 완료되었는지 검사하고 패스해줌)\n",
        "    for i in range(0, len(li)):\n",
        "        cur_index = i\n",
        "\n",
        "        # 내부 반복문(아래 그림에서 하나의 리스트의 개별 값을 비교하고 교체시킨다)\n",
        "        for j in range(cur_index+1, len(li)):\n",
        "            # 현재 인덱스의 값과 다음 인덱스의 값 비교\n",
        "            if li[cur_index] <= li[j]:\n",
        "                continue\n",
        "            else:\n",
        "                # 비교한 것에 따라 정렬을 위한 인덱스 교환 작업\n",
        "                li[cur_index], li[j] = li[j], li[cur_index]\n",
        "\n",
        "li = [10, 2, 1, 7, 4, 3, 0, 9]\n",
        "bubble_sort(li)\n",
        "print(li)"
      ],
      "metadata": {
        "colab": {
          "base_uri": "https://localhost:8080/"
        },
        "id": "QDmUNKmrqXRn",
        "outputId": "94f94d14-b6ab-4e58-f3ca-d3e5b5c0fbf3"
      },
      "execution_count": 60,
      "outputs": [
        {
          "output_type": "stream",
          "name": "stdout",
          "text": [
            "[0, 1, 2, 3, 4, 7, 9, 10]\n"
          ]
        }
      ]
    }
  ]
}