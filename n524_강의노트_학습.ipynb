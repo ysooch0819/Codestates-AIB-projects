{
  "nbformat": 4,
  "nbformat_minor": 0,
  "metadata": {
    "colab": {
      "provenance": [],
      "authorship_tag": "ABX9TyMbDxbk+1DC1ebfkdT/B7VN",
      "include_colab_link": true
    },
    "kernelspec": {
      "name": "python3",
      "display_name": "Python 3"
    },
    "language_info": {
      "name": "python"
    }
  },
  "cells": [
    {
      "cell_type": "markdown",
      "metadata": {
        "id": "view-in-github",
        "colab_type": "text"
      },
      "source": [
        "<a href=\"https://colab.research.google.com/github/ysooch0819/AI16-Projects/blob/main/n524_%EA%B0%95%EC%9D%98%EB%85%B8%ED%8A%B8_%ED%95%99%EC%8A%B5.ipynb\" target=\"_parent\"><img src=\"https://colab.research.google.com/assets/colab-badge.svg\" alt=\"Open In Colab\"/></a>"
      ]
    },
    {
      "cell_type": "code",
      "execution_count": 1,
      "metadata": {
        "colab": {
          "base_uri": "https://localhost:8080/"
        },
        "id": "YtwtBaYTmSun",
        "outputId": "ccd0ccdc-42db-4a08-c248-581d77a21935"
      },
      "outputs": [
        {
          "output_type": "execute_result",
          "data": {
            "text/plain": [
              "55"
            ]
          },
          "metadata": {},
          "execution_count": 1
        }
      ],
      "source": [
        "# 재귀: 1부터 10까지의 합\n",
        "def func(num):\n",
        "    if num < 1:\n",
        "        return 0\n",
        "    else:\n",
        "        return num + func(num-1)\n",
        "\n",
        "func(10)"
      ]
    },
    {
      "cell_type": "code",
      "source": [
        "# 분할정복: 1부터 10까지의 합\n",
        "def func(num):\n",
        "    if num == 1: # 1이면\n",
        "        return 1\n",
        "    if num % 2 == 1: # 홀수이면\n",
        "        return func(num - 1) + num\n",
        "    else: # 짝수이면\n",
        "        return func(num / 2) * 2 + (num / 2) * (num / 2) \n",
        "\n",
        "func(10)"
      ],
      "metadata": {
        "colab": {
          "base_uri": "https://localhost:8080/"
        },
        "id": "PlZDICTcmdmC",
        "outputId": "238a5ced-85da-4805-fc17-ca7e39a087b0"
      },
      "execution_count": 2,
      "outputs": [
        {
          "output_type": "execute_result",
          "data": {
            "text/plain": [
              "55.0"
            ]
          },
          "metadata": {},
          "execution_count": 2
        }
      ]
    },
    {
      "cell_type": "code",
      "source": [
        "def quick_sort(node, first, last):\n",
        "  def partition(first, last):\n",
        "    pivot = node[last]\n",
        "    left = first\n",
        "    print(pivot, first, last) # 확인용\n",
        "\n",
        "    for right in range(first, last):\n",
        "      if node[right] < pivot:\n",
        "        node[left], node[right] = node[right], node[left]\n",
        "        left+=1\n",
        "    \n",
        "    node[left], node[last] = node[last], node[left]\n",
        "\n",
        "    return left\n",
        "  \n",
        "  # 첫번째 노드가 마지막 노드보다 작은 경우, 재귀\n",
        "  if first < last:\n",
        "    pivot = partition(first, last)\n",
        "    quick_sort(node, first, pivot-1)\n",
        "    quick_sort(node, pivot+1, last)"
      ],
      "metadata": {
        "id": "n38wOWWtn372"
      },
      "execution_count": 17,
      "outputs": []
    },
    {
      "cell_type": "code",
      "source": [
        "node = [54, 26, 93, 17, 77, 31, 44, 55, 20]\n",
        "quick_sort(node, 0, 8)\n",
        "print(node)"
      ],
      "metadata": {
        "colab": {
          "base_uri": "https://localhost:8080/"
        },
        "id": "UlJRkls3psZw",
        "outputId": "790b8b63-80b0-404e-af5e-471dab9b60ad"
      },
      "execution_count": 18,
      "outputs": [
        {
          "output_type": "stream",
          "name": "stdout",
          "text": [
            "20 0 8\n",
            "26 2 8\n",
            "93 3 8\n",
            "55 3 7\n",
            "44 3 5\n",
            "[17, 20, 26, 31, 44, 54, 55, 77, 93]\n"
          ]
        }
      ]
    },
    {
      "cell_type": "code",
      "source": [
        "# 퀵소트 파이썬 코드 case - 2 : 전체코드\n",
        "def quick_sort(ARRAY):\n",
        "    ARRAY_LENGTH = len(ARRAY)\n",
        "    if ARRAY_LENGTH <= 1:\n",
        "        return ARRAY\n",
        "    else:\n",
        "        PIVOT = ARRAY[0]\n",
        "        GREATER = [element for element in ARRAY[1:] if element > PIVOT]\n",
        "        LESSER = [element for element in ARRAY[1:] if element <= PIVOT]\n",
        "        return quick_sort(LESSER) + [PIVOT] + quick_sort(GREATER)\n"
      ],
      "metadata": {
        "id": "1ItVGFfip5RT"
      },
      "execution_count": 8,
      "outputs": []
    },
    {
      "cell_type": "code",
      "source": [
        "ARRAY = [54, 26, 93, 17, 77, 31, 44, 55, 20]\n",
        "print(quick_sort(ARRAY))"
      ],
      "metadata": {
        "colab": {
          "base_uri": "https://localhost:8080/"
        },
        "id": "1BYVXw_Bp9sq",
        "outputId": "59c0ad41-fbbc-42e6-ad2b-fdf84b0368c8"
      },
      "execution_count": 9,
      "outputs": [
        {
          "output_type": "stream",
          "name": "stdout",
          "text": [
            "[17, 20, 26, 31, 44, 54, 55, 77, 93]\n"
          ]
        }
      ]
    },
    {
      "cell_type": "code",
      "source": [
        "[54, 26, 93] + [17] + [77, 31]"
      ],
      "metadata": {
        "colab": {
          "base_uri": "https://localhost:8080/"
        },
        "id": "bo8Updgrqbo-",
        "outputId": "44eed891-cdfe-4609-b12c-861d03fd1f02"
      },
      "execution_count": 10,
      "outputs": [
        {
          "output_type": "execute_result",
          "data": {
            "text/plain": [
              "[54, 26, 93, 17, 77, 31]"
            ]
          },
          "metadata": {},
          "execution_count": 10
        }
      ]
    },
    {
      "cell_type": "code",
      "source": [
        "def test_recur_divide(list):\n",
        "    # 1. 리스트의 길이를 저장합니다.\n",
        "    list_length = len(list)\n",
        "\n",
        "    # 2. 리스트의 길이가 1이 될때까지, 즉 분할할 수 없을 때까지 아래 로직을 반복 수행합니다.\n",
        "    if list_length == 1:\n",
        "        return list\n",
        "\n",
        "    # 3. 리스트의 중간 지점을 식별하고 리스트를 left_partition과 right_partition으로 분할합니다.\n",
        "    mid_point = list_length // 2\n",
        "\n",
        "    # 4. 모든 파티션이 분할할 수 없는 작은 구성 요소로 분할되도록 하려면,\n",
        "    # 아래처럼 test_recur_divide 함수가 재귀적으로 호출됩니다.\n",
        "    # test_recur_divide 함수 안에 매개변수는 두가지로 나뉘어서 전달됩니다.\n",
        "\n",
        "    # left_partition은 리스트의 0번째 인덱스부터 중간지점 인덱스까지의 값을 전달받고,\n",
        "    # right_partition은 리스트의 (중간지점+1)번째 인덱스부터 마지막지점 인덱스까지의 값을 전달받습니다.\n",
        "    left_partition = test_recur_divide(list[:mid_point])\n",
        "    right_partition = test_recur_divide(list[mid_point:])\n",
        "\n",
        "    # 5. test_recur_divide 함수는 정렬된 왼쪽과 오른쪽 파티션으로 구성된 리스트를 반환합니다.\n",
        "    return test_sort_combine(left_partition, right_partition)\n",
        "\n",
        "# 6. 두 개의 리스트를 받아 두 리스트 내의 요소로 정렬된 리스트를 반환합니다.\n",
        "def test_sort_combine(left, right):\n",
        "    # 7. 정렬된 결과값으로 채워질 비어있는 리스트변수 output을 초기화합니다.\n",
        "    # 리스트를 반복할 때 사용되는 두 개의 변수 i와 j를 초기화합니다.\n",
        "    output = []\n",
        "    i = j = 0\n",
        "\n",
        "    # 8. 두 변수 i와 j가 왼쪽과 오른쪽 리스트의 길이보다 작으면 while 루프를 실행합니다.\n",
        "    while i < len(left) and j < len(right):\n",
        "        # 9. 각 반복 동안 두 리스트의 모든 위치에 있는 요소를 비교합니다.\n",
        "        if left[i] < right[j]:\n",
        "            # 오름차순으로 정렬하기위해 output변수에는 더 작은 값으로 채워집니다.\n",
        "            output.append(left[i])\n",
        "            # 10. 변수 i값을 +1 함으로써 오른쪽으로 한칸 이동시킵니다.\n",
        "            i += 1\n",
        "        else:\n",
        "            output.append(right[j])\n",
        "            j += 1\n",
        "    # 11. 남아있는 리스트 요소에서 현재 i, j 값을 기준으로 각각 리스트의 마지막지점 인덱스까지 값을 넣고 결과값을 반환합니다.\n",
        "    output.extend(left[i:])\n",
        "    output.extend(right[j:])\n",
        "\n",
        "    return output"
      ],
      "metadata": {
        "id": "ygI2AyMJqh2m"
      },
      "execution_count": 11,
      "outputs": []
    },
    {
      "cell_type": "code",
      "source": [
        "def test_result():\n",
        "    unsorted_list = [2, 6, 8, 2, 3, 9, 1, 4, 9]\n",
        "    print(unsorted_list)\n",
        "    sorted_list = test_recur_divide(unsorted_list)\n",
        "    print(sorted_list)\n",
        "\n",
        "test_result()"
      ],
      "metadata": {
        "colab": {
          "base_uri": "https://localhost:8080/"
        },
        "id": "GoMFmzG3rXDT",
        "outputId": "5d95a19e-84fb-44e8-8519-43c42987dc20"
      },
      "execution_count": 12,
      "outputs": [
        {
          "output_type": "stream",
          "name": "stdout",
          "text": [
            "[2, 6, 8, 2, 3, 9, 1, 4, 9]\n",
            "[1, 2, 2, 3, 4, 6, 8, 9, 9]\n"
          ]
        }
      ]
    },
    {
      "cell_type": "code",
      "source": [
        "def part3(li):\n",
        "    n = len(li)\n",
        "    # 입력받은 이미지li의 모든 row에 대해 값이 모두 0 이면, '0'으로 합친다.\n",
        "    if all(e == 0 for row in li for e in row):\n",
        "        return \"0\"\n",
        "    # 입력받은 이미지li의 모든 row에 대해 값이 모두 1이면, '1'로 합친다.\n",
        "    elif all(e == 1 for row in li for e in row):\n",
        "        return \"1\"\n",
        "    # 입력받은 이미지li의 값이 합쳐지지 않는 경우 4분할하여 반복\n",
        "    else:\n",
        "        mid = n//2\n",
        "        # li를 왼쪽 위, 오른쪽 위, 왼쪽 아래, 오른쪽 아래로 4분할\n",
        "        left_top = [row[:mid] for row in li[:mid]]\n",
        "        right_top = [row[mid:] for row in li[:mid]]\n",
        "        left_bottom = [row[:mid] for row in li[mid:]]\n",
        "        right_bottom = [row[mid:] for row in li[mid:]]\n",
        "        # 분할된 각각을 part3() 함수의 인자로 전달하여 결과물을 합친다.\n",
        "        return '('+ part3(left_top) + part3(right_top) + part3(left_bottom) + part3(right_bottom)+')'"
      ],
      "metadata": {
        "id": "J4Z6ysBYyzlA"
      },
      "execution_count": 72,
      "outputs": []
    },
    {
      "cell_type": "code",
      "source": [
        "test1 = [\n",
        "            [0,0,1,1],\n",
        "            [0,0,1,1],\n",
        "            [1,1,1,1],\n",
        "            [0,0,1,1]\n",
        "        ]\n",
        "test2 = [\n",
        "            [1,1,1,1],\n",
        "            [1,1,1,1],\n",
        "            [1,1,1,1],\n",
        "            [1,1,1,1]\n",
        "        ]\n",
        "test3 = [\n",
        "            [1,1,1,1,0,0,0,0],\n",
        "            [1,1,1,1,0,0,0,0],\n",
        "            [0,0,0,1,1,1,0,0],\n",
        "            [0,0,0,1,1,1,0,0],\n",
        "            [1,1,1,1,0,0,0,0],\n",
        "            [1,1,1,1,0,0,0,0],\n",
        "            [1,1,1,1,0,0,1,1],\n",
        "            [1,1,1,1,0,0,1,1]\n",
        "        ]\n",
        "\n",
        "print(part3(test1))\n",
        "print(part3(test2))\n",
        "print(part3(test3))"
      ],
      "metadata": {
        "colab": {
          "base_uri": "https://localhost:8080/"
        },
        "id": "1wmyavMRy0M7",
        "outputId": "d3310862-a613-4e28-a721-8e9f5f5e31cb"
      },
      "execution_count": 71,
      "outputs": [
        {
          "output_type": "stream",
          "name": "stdout",
          "text": [
            "(01(1100)1)\n",
            "1\n",
            "((110(0101))(0010)1(0001))\n"
          ]
        }
      ]
    }
  ]
}