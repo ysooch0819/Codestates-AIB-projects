{
  "nbformat": 4,
  "nbformat_minor": 0,
  "metadata": {
    "colab": {
      "provenance": [],
      "authorship_tag": "ABX9TyM+o0LGe5zcfHddyEtMwSfG",
      "include_colab_link": true
    },
    "kernelspec": {
      "name": "python3",
      "display_name": "Python 3"
    },
    "language_info": {
      "name": "python"
    }
  },
  "cells": [
    {
      "cell_type": "markdown",
      "metadata": {
        "id": "view-in-github",
        "colab_type": "text"
      },
      "source": [
        "<a href=\"https://colab.research.google.com/github/ysooch0819/AI16-Projects/blob/main/n532_%EA%B0%95%EC%9D%98%EB%85%B8%ED%8A%B8%ED%95%99%EC%8A%B5_discussion.ipynb\" target=\"_parent\"><img src=\"https://colab.research.google.com/assets/colab-badge.svg\" alt=\"Open In Colab\"/></a>"
      ]
    },
    {
      "cell_type": "code",
      "execution_count": null,
      "metadata": {
        "colab": {
          "base_uri": "https://localhost:8080/"
        },
        "id": "hdv-Xv8-19k9",
        "outputId": "ea356a73-fc79-49d3-af08-35a64029609d"
      },
      "outputs": [
        {
          "output_type": "stream",
          "name": "stdout",
          "text": [
            "10\n",
            "100 200 300\n",
            "30\n"
          ]
        }
      ],
      "source": [
        "n = int(input())\n",
        "a, b, c = map(int, input().split(' '))\n",
        "cnt_a = n if a >= n else a\n",
        "cnt_b = n if b >= n else b\n",
        "cnt_c = n if c >= n else c\n",
        "print(cnt_a+cnt_b+cnt_c)\n"
      ]
    },
    {
      "cell_type": "code",
      "source": [
        "n = int(input())\n",
        "STRAWBERRY = BANANA = LIME = PLUM =0\n",
        "for i in range(n):\n",
        "  s, v = input().split(' ')\n",
        "  if s == 'STRAWBERRY': STRAWBERRY += int(v)\n",
        "  elif s == 'BANANA': BANANA += int(v)\n",
        "  elif s == 'LIME': LIME += int(v)\n",
        "  elif s == 'PLUM': PLUM += int(v)\n",
        "\n",
        "if STRAWBERRY == 5 or BANANA == 5 or LIME == 5 or PLUM==5:\n",
        "  print('YES')\n",
        "else:\n",
        "  print('NO')"
      ],
      "metadata": {
        "colab": {
          "base_uri": "https://localhost:8080/"
        },
        "id": "pRGewxp3lDzX",
        "outputId": "4d73e2fc-7788-4bfb-e2b6-1900022d4c48"
      },
      "execution_count": null,
      "outputs": [
        {
          "output_type": "stream",
          "name": "stdout",
          "text": [
            "2\n",
            "BANANA 5\n",
            "BANANA 5\n",
            "NO\n"
          ]
        }
      ]
    },
    {
      "cell_type": "code",
      "source": [
        "ord('a'), ord('z')"
      ],
      "metadata": {
        "colab": {
          "base_uri": "https://localhost:8080/"
        },
        "id": "8B7B3I2bxF57",
        "outputId": "e6d94060-17d7-448e-f8de-be86537ea6d1"
      },
      "execution_count": null,
      "outputs": [
        {
          "output_type": "execute_result",
          "data": {
            "text/plain": [
              "(97, 122)"
            ]
          },
          "metadata": {},
          "execution_count": 15
        }
      ]
    },
    {
      "cell_type": "code",
      "source": [
        "int(input())\n",
        "li = list(input())\n",
        "sum = 0\n",
        "for i, c in enumerate(li):\n",
        "  sum += (ord(c)-96)*(31**i)\n",
        "\n",
        "print(sum%1234567891)"
      ],
      "metadata": {
        "colab": {
          "base_uri": "https://localhost:8080/"
        },
        "id": "0FxLe5onxSUc",
        "outputId": "b90bf868-f436-4c7b-8157-b3b1b9a79294"
      },
      "execution_count": null,
      "outputs": [
        {
          "output_type": "stream",
          "name": "stdout",
          "text": [
            "1\n",
            "zzz\n",
            "25818\n"
          ]
        }
      ]
    },
    {
      "cell_type": "markdown",
      "source": [],
      "metadata": {
        "id": "Eg4di4OLxSNy"
      }
    },
    {
      "cell_type": "code",
      "source": [
        "7//2, 7//3"
      ],
      "metadata": {
        "colab": {
          "base_uri": "https://localhost:8080/"
        },
        "id": "V38FRAxewxfN",
        "outputId": "2bda4edd-1599-43af-efdb-554527377de2"
      },
      "execution_count": null,
      "outputs": [
        {
          "output_type": "execute_result",
          "data": {
            "text/plain": [
              "(3, 2)"
            ]
          },
          "metadata": {},
          "execution_count": 35
        }
      ]
    },
    {
      "cell_type": "code",
      "source": [
        "n, p, q = map(int, input().split())\n",
        "T={}\n",
        "def suyol(n):\n",
        "  global p, q, T\n",
        "  if n < 1: return 1\n",
        "  elif n in T: return T[n]\n",
        "  else:\n",
        "    T[n] = suyol(n//p) + suyol(n//q)\n",
        "    return T[n]\n",
        "print(suyol(n))"
      ],
      "metadata": {
        "colab": {
          "base_uri": "https://localhost:8080/"
        },
        "id": "9cdr9Qg10TJn",
        "outputId": "df990d27-1fdf-4d05-ab97-5c7afe5772ef"
      },
      "execution_count": null,
      "outputs": [
        {
          "output_type": "stream",
          "name": "stdout",
          "text": [
            "7 2 3\n",
            "7\n"
          ]
        }
      ]
    },
    {
      "cell_type": "code",
      "source": [
        "n = int(input())\n",
        "li = list(map(int, input().split()))\n",
        "li.sort()\n",
        "\n",
        "count = 0\n",
        "for i in range(n):\n",
        "  t = li[:i] + li[i+1:]\n",
        "  l, r = 0, len(t)-1\n",
        "  while l < r:\n",
        "    if t[l]+t[r] == li[i]:\n",
        "      count +=1\n",
        "      break\n",
        "    elif t[l]+t[r] < li[i]: l+=1\n",
        "    else: r-=1\n",
        "\n",
        "print(count)"
      ],
      "metadata": {
        "colab": {
          "base_uri": "https://localhost:8080/"
        },
        "id": "elX5gA_C5gJ_",
        "outputId": "94bfbb63-581b-40b9-d0f1-dd0b4e70447e"
      },
      "execution_count": null,
      "outputs": [
        {
          "output_type": "stream",
          "name": "stdout",
          "text": [
            "10\n",
            "1 2 3 4 5 6 7 8 9 10\n",
            "20\n"
          ]
        }
      ]
    },
    {
      "cell_type": "code",
      "source": [
        "m = int(input())\n",
        "d = int(input())\n",
        "\n",
        "if m < 2: print('Before')\n",
        "elif m > 2: print('After')\n",
        "else:\n",
        "  if d> 18: print('After')\n",
        "  elif d< 18: print('Before')\n",
        "  else: print('Special')\n"
      ],
      "metadata": {
        "colab": {
          "base_uri": "https://localhost:8080/"
        },
        "id": "bw4XTKQ7hPty",
        "outputId": "01bfb5cf-f9a7-4afc-8be4-664dd689afb0"
      },
      "execution_count": null,
      "outputs": [
        {
          "output_type": "stream",
          "name": "stdout",
          "text": [
            "2\n",
            "18\n",
            "Special\n"
          ]
        }
      ]
    },
    {
      "cell_type": "code",
      "source": [
        "import sys\n",
        "t = \n",
        "\n",
        "def ssang(n,m):\n",
        "  count = 0\n",
        "  for a in range(1, n-1):\n",
        "    for b in range(a+1, n):\n",
        "      if (a**2 + b**2 + m)%(a*b) ==0:\n",
        "        count+=1\n",
        "  \n",
        "  return count\n",
        "\n",
        "for i in range(int(input())):\n",
        "  n, m = map(int, sys.stdin.readline().split())\n",
        "  count = 0\n",
        "  for a in range(1, n-1):\n",
        "    for b in range(a+1, n):\n",
        "      if (a**2 + b**2 + m)%(a*b) ==0:\n",
        "        count+=1\n",
        "  print(ssang(n, m))"
      ],
      "metadata": {
        "colab": {
          "base_uri": "https://localhost:8080/"
        },
        "id": "AWIyteHAh1__",
        "outputId": "ba975fc1-05c6-4b6d-8488-7033bd00cb8b"
      },
      "execution_count": null,
      "outputs": [
        {
          "output_type": "stream",
          "name": "stdout",
          "text": [
            "3\n",
            "10 1\n",
            "2\n",
            "20 3\n",
            "4\n",
            "30 4\n",
            "5\n"
          ]
        }
      ]
    },
    {
      "cell_type": "code",
      "source": [
        "def search_route(connection_info, start_node, end_node, route=[]):\n",
        "    # 현재 위치 경로에 추가\n",
        "    route = route + [start_node]\n",
        "    # 시작 노드가 종료 노드와 같다면 현재 경로 반환\n",
        "    if start_node == end_node:\n",
        "        return route\n",
        "    # 시작 노드가 인접리스트에 없다면 None\n",
        "    if not connection_info.__contains__(start_node):\n",
        "        return None\n",
        "    # 시작노드에 연결된 모든 노드에 대해서 반복하여 경로 찾기\n",
        "    for node in connection_info[start_node]:\n",
        "        # 이미 방문한 노드인 경우 건너뛰기\n",
        "        if node in route:\n",
        "            continue\n",
        "        # 처음 방문한 노드인 경우, 해당 노드를 시작 노드로 재귀 호출\n",
        "        new_route = search_route(connection_info, node, end_node, route)\n",
        "        # 경로가 반환된 경우, 이를 반환\n",
        "        if new_route is not None:\n",
        "            return new_route\n",
        "    \n",
        "    # 경로를 찾지 못했다면 None\n",
        "    return None"
      ],
      "metadata": {
        "id": "Nk-ImytCrwa-"
      },
      "execution_count": 1,
      "outputs": []
    },
    {
      "cell_type": "code",
      "source": [
        "connection_info = {\n",
        "    'A': ['B', 'C'],\n",
        "    'B': ['C', 'D'],\n",
        "    'C': ['D'],\n",
        "    'D': ['C'],\n",
        "    'E': ['F'],\n",
        "    'F': ['C']\n",
        "}\n",
        "print(connection_info[connection_info['E'][0]])\n",
        "search_route(connection_info, 'E', 'C')"
      ],
      "metadata": {
        "colab": {
          "base_uri": "https://localhost:8080/"
        },
        "id": "igxhUNQGrx-J",
        "outputId": "a940d18e-f90d-4dfd-a47f-80fc67c01839"
      },
      "execution_count": 16,
      "outputs": [
        {
          "output_type": "stream",
          "name": "stdout",
          "text": [
            "['C']\n"
          ]
        },
        {
          "output_type": "execute_result",
          "data": {
            "text/plain": [
              "['E', 'F', 'C']"
            ]
          },
          "metadata": {},
          "execution_count": 16
        }
      ]
    },
    {
      "cell_type": "code",
      "source": [
        "def search_shortest_route(connection_info, start_node, end_node, route=[]):\n",
        "    # 현재 위치 경로에 추가\n",
        "    route = route + [start_node]\n",
        "    # 시작 노드가 종료 노드와 같다면 현재 경로 반환\n",
        "    if start_node == end_node:\n",
        "        return route\n",
        "    # 시작 노드가 인접리스트에 없다면 None\n",
        "    if not connection_info.__contains__(start_node):\n",
        "        return None\n",
        "    \n",
        "    shortest = None\n",
        "    distance = 100\n",
        "    # 시작노드에 연결된 모든 노드에 대해서 반복하여 경로 찾기\n",
        "    for node in connection_info[start_node]:\n",
        "        # 이미 방문한 노드인 경우 최소 경로로 판단하여 반복 종료\n",
        "        if node in route:\n",
        "            shortest = route\n",
        "            distance = len(route)\n",
        "            continue\n",
        "        # 처음 방문한 노드인 경우, 해당 노드를 시작 노드로 재귀 호출\n",
        "        new_route = search_shortest_route(connection_info, node, end_node, route)\n",
        "        # 경로가 반환된 경우, 이를 반환\n",
        "        if new_route is not None:\n",
        "            if len(new_route) < distance:\n",
        "                shortest = new_route\n",
        "                distance = len(new_route)\n",
        "    \n",
        "    return shortest"
      ],
      "metadata": {
        "id": "NI1Gaf1nsAqi"
      },
      "execution_count": 25,
      "outputs": []
    },
    {
      "cell_type": "code",
      "source": [
        "search_shortest_route(connection_info, 'B', 'D')"
      ],
      "metadata": {
        "colab": {
          "base_uri": "https://localhost:8080/"
        },
        "id": "P1_YEWb_tEd7",
        "outputId": "6bb6160f-6a4c-4ead-8d69-3e286896e16e"
      },
      "execution_count": 26,
      "outputs": [
        {
          "output_type": "execute_result",
          "data": {
            "text/plain": [
              "['B', 'D']"
            ]
          },
          "metadata": {},
          "execution_count": 26
        }
      ]
    },
    {
      "cell_type": "code",
      "source": [
        "class node:\n",
        "  def __init__(self, data):\n",
        "    self.data = data\n",
        "    self.left = None\n",
        "    self.right = None"
      ],
      "metadata": {
        "id": "s9fVGj88umiN"
      },
      "execution_count": 28,
      "outputs": []
    },
    {
      "cell_type": "code",
      "source": [
        "def in_order(node):\n",
        "    in_order(node.left)    # 왼쪽노드\n",
        "    print(node.value)      # 루트노드\n",
        "    in_order(node.right)   # 오른쪽노드"
      ],
      "metadata": {
        "id": "wgyfHWu6u25t"
      },
      "execution_count": 30,
      "outputs": []
    },
    {
      "cell_type": "code",
      "source": [
        "def in_order_traversal(root_node):\n",
        "  stack = []\n",
        "  res = []\n",
        "  current_node = root_node\n",
        "  while True:\n",
        "    # 왼쪽 노드가 있는 가장 왼쪽의 노드까지 스택에 넣어준다.\n",
        "    # while문이 종료되면, 더이상 왼쪽 노드가 없는 노드(가장 왼쪽의 자식 노드)가 현재 노드가 됨\n",
        "    while current_node is not None:\n",
        "      print('내부 while')\n",
        "      stack.append(current_node)\n",
        "      current_node = current_node.left\n",
        "    \n",
        "    # 스택이 비었다면 전체 반복 종료\n",
        "    if len(stack) == 0:\n",
        "      print('내부 if 스택이 0이면 종료')\n",
        "      break\n",
        "    print('현재 스택: ', stack)\n",
        "    # 스택이 비어있지 않다면, 스택을 pop하여 현재 노드에 넣어준다 <- 가장 왼쪽 노드가 현재 노드가 됨\n",
        "    current_node = stack.pop()\n",
        "    res.append(current_node.data)\n",
        "    print('현재 res:',res, '현재 스택길이:', len(stack))\n",
        "    # 현재 노드에 현재 노드의 오른쪽 노드를 넣어준다.\n",
        "    # current_node = current_node.right\n",
        "    current_node = current_node.right\n",
        "    print('현재 노드: ', current_node)\n",
        "  \n",
        "  return res\n",
        "  "
      ],
      "metadata": {
        "id": "wmvg73RwutLG"
      },
      "execution_count": 97,
      "outputs": []
    },
    {
      "cell_type": "code",
      "source": [
        "root_node = node(30)\n",
        "root_node.left = node(12)\n",
        "root_node.right = node(13)\n",
        "root_node.left.left = node(11)\n",
        "root_node.left.right = node(15)\n",
        "root_node.right.right = node(19)\n",
        "root_node.right.right.left = node(16)\n",
        "root_node.right.right.right = node(20)"
      ],
      "metadata": {
        "id": "dsap9kOau6aW"
      },
      "execution_count": 39,
      "outputs": []
    },
    {
      "cell_type": "code",
      "source": [
        "in_order_traversal(root_node)"
      ],
      "metadata": {
        "colab": {
          "base_uri": "https://localhost:8080/"
        },
        "id": "Yaa4KOOqxIXL",
        "outputId": "106314ff-6cf7-48d0-bd1a-996be1c5020d"
      },
      "execution_count": 98,
      "outputs": [
        {
          "output_type": "stream",
          "name": "stdout",
          "text": [
            "내부 while\n",
            "내부 while\n",
            "내부 while\n",
            "현재 스택:  [<__main__.node object at 0x7fed5140d4c0>, <__main__.node object at 0x7fed5140df40>, <__main__.node object at 0x7fed5140db80>]\n",
            "현재 res: [11] 현재 스택길이: 2\n",
            "현재 노드:  None\n",
            "현재 스택:  [<__main__.node object at 0x7fed5140d4c0>, <__main__.node object at 0x7fed5140df40>]\n",
            "현재 res: [11, 12] 현재 스택길이: 1\n",
            "현재 노드:  <__main__.node object at 0x7fed5140d7c0>\n",
            "내부 while\n",
            "현재 스택:  [<__main__.node object at 0x7fed5140d4c0>, <__main__.node object at 0x7fed5140d7c0>]\n",
            "현재 res: [11, 12, 15] 현재 스택길이: 1\n",
            "현재 노드:  None\n",
            "현재 스택:  [<__main__.node object at 0x7fed5140d4c0>]\n",
            "현재 res: [11, 12, 15, 30] 현재 스택길이: 0\n",
            "현재 노드:  <__main__.node object at 0x7fed5140d0a0>\n",
            "내부 while\n",
            "현재 스택:  [<__main__.node object at 0x7fed5140d0a0>]\n",
            "현재 res: [11, 12, 15, 30, 13] 현재 스택길이: 0\n",
            "현재 노드:  <__main__.node object at 0x7fed5140d100>\n",
            "내부 while\n",
            "내부 while\n",
            "현재 스택:  [<__main__.node object at 0x7fed5140d100>, <__main__.node object at 0x7fed5146d3a0>]\n",
            "현재 res: [11, 12, 15, 30, 13, 16] 현재 스택길이: 1\n",
            "현재 노드:  None\n",
            "현재 스택:  [<__main__.node object at 0x7fed5140d100>]\n",
            "현재 res: [11, 12, 15, 30, 13, 16, 19] 현재 스택길이: 0\n",
            "현재 노드:  <__main__.node object at 0x7fed5146d880>\n",
            "내부 while\n",
            "현재 스택:  [<__main__.node object at 0x7fed5146d880>]\n",
            "현재 res: [11, 12, 15, 30, 13, 16, 19, 20] 현재 스택길이: 0\n",
            "현재 노드:  None\n",
            "내부 if 스택이 0이면 종료\n"
          ]
        },
        {
          "output_type": "execute_result",
          "data": {
            "text/plain": [
              "[11, 12, 15, 30, 13, 16, 19, 20]"
            ]
          },
          "metadata": {},
          "execution_count": 98
        }
      ]
    },
    {
      "cell_type": "code",
      "source": [
        "in_order_traversal(root_node) == [11, 12, 15, 30, 13, 16, 19, 20]"
      ],
      "metadata": {
        "colab": {
          "base_uri": "https://localhost:8080/"
        },
        "id": "BJkMEx_1vdlH",
        "outputId": "06153a9d-04d2-4f6c-dcea-9335cc433597"
      },
      "execution_count": 42,
      "outputs": [
        {
          "output_type": "execute_result",
          "data": {
            "text/plain": [
              "True"
            ]
          },
          "metadata": {},
          "execution_count": 42
        }
      ]
    },
    {
      "cell_type": "code",
      "source": [
        "inputs = [\n",
        "[4, 1, 10], # 노드4번에서 노드1번으로 연결되는 가중치가 10입니다.\n",
        "[3, 5, 24],\n",
        "[5, 6, 2],\n",
        "[3, 1, 41],\n",
        "[5, 1, 24],\n",
        "[4, 6, 50],\n",
        "[2, 4, 66],\n",
        "[2, 3, 22],\n",
        "[1, 6, 25]\n",
        "]\n",
        "\n",
        "# 출력:\n",
        "#    1  2  3  4  5  6\n",
        "# 1 [0, 0, 1, 1, 1, 1]\n",
        "# 2 [0, 0, 1, 1, 0, 0]\n",
        "# 3 [1, 1, 0, 0, 1, 0]\n",
        "# 4 [1, 1, 0, 0, 0, 1]\n",
        "# 5 [1, 0, 1, 0, 0, 1]\n",
        "# 6 [1, 0, 0, 1, 1, 0]"
      ],
      "metadata": {
        "id": "3UPQqwP39aor"
      },
      "execution_count": 118,
      "outputs": []
    },
    {
      "cell_type": "code",
      "source": [
        "## topic1. 인접리스트, 인접행렬 구현\n",
        "\n",
        "# 출력:\n",
        "{\n",
        "  1: {3:41, 4:10, 5:24, 6:25},\n",
        "  2: {3:22, 4:66},\n",
        "  3: {1:41, 2:22, 5:24},\n",
        "  4: {1:10, 2:66, 6:50},\n",
        "  5: {1:24, 3:24, 6:2},\n",
        "  6: {1:25, 4:50, 5:2},\n",
        "}\n",
        "# topic 1-1. 인접리스트\n",
        "def adj_list(inputs):\n",
        "  # 인접 리스트 초기화\n",
        "  adj = {}\n",
        "  # 입력된 node1, node2, 가중치에 대해서 반복\n",
        "  for node1, node2, weight in inputs:\n",
        "    # node1이 리스트에 없다면\n",
        "    if node1 not in adj:\n",
        "      # node1 딕셔너리 추가\n",
        "      adj[node1] = {}\n",
        "    # node2도 마찬가지\n",
        "    if node2 not in adj:\n",
        "      adj[node2] = {}\n",
        "    # 추가된 딕셔너리의 각 value에 동일하게 weight 저장\n",
        "    adj[node1][node2] = adj[node2][node1] = weight\n",
        "\n",
        "  return dict(sorted(adj.items()))\n",
        "\n",
        "test = adj_list(inputs)\n",
        "for key, value in test.items():\n",
        "  print(key, ':',value)\n"
      ],
      "metadata": {
        "colab": {
          "base_uri": "https://localhost:8080/"
        },
        "id": "hE_n609ODerS",
        "outputId": "cd7bd8e1-c432-424d-8d01-51611def939f"
      },
      "execution_count": 187,
      "outputs": [
        {
          "output_type": "stream",
          "name": "stdout",
          "text": [
            "1 : {4: 10, 3: 41, 5: 24, 6: 25}\n",
            "2 : {4: 66, 3: 22}\n",
            "3 : {5: 24, 1: 41, 2: 22}\n",
            "4 : {1: 10, 6: 50, 2: 66}\n",
            "5 : {3: 24, 6: 2, 1: 24}\n",
            "6 : {5: 2, 4: 50, 1: 25}\n"
          ]
        }
      ]
    },
    {
      "cell_type": "code",
      "source": [
        "for input in inputs:\n",
        "  print(input[:2])"
      ],
      "metadata": {
        "colab": {
          "base_uri": "https://localhost:8080/"
        },
        "id": "8ZQMROxUMn2q",
        "outputId": "a4720389-13f3-4dd5-e378-49520f7554ec"
      },
      "execution_count": 198,
      "outputs": [
        {
          "output_type": "stream",
          "name": "stdout",
          "text": [
            "[4, 1]\n",
            "[3, 5]\n",
            "[5, 6]\n",
            "[3, 1]\n",
            "[5, 1]\n",
            "[4, 6]\n",
            "[2, 4]\n",
            "[2, 3]\n",
            "[1, 6]\n"
          ]
        }
      ]
    },
    {
      "cell_type": "code",
      "source": [
        "## topic1. 인접리스트, 인접행렬 구현\n",
        "\n",
        "# 출력:\n",
        "#    1  2  3  4  5  6\n",
        "# 1 [0, 0, 1, 1, 1, 1]\n",
        "# 2 [0, 0, 1, 1, 0, 0]\n",
        "# 3 [1, 1, 0, 0, 1, 0]\n",
        "# 4 [1, 1, 0, 0, 0, 1]\n",
        "# 5 [1, 0, 1, 0, 0, 1]\n",
        "# 6 [1, 0, 0, 1, 1, 0]\n",
        "\n",
        "# topic 1-2. 인접행렬\n",
        "def adj_matrix(inputs):\n",
        "  # input: [node1, node2, weight] 으로 구성, node는 1~6\n",
        "  # # node1, node2 중 크기가 큰 값들 중 가장 크기가 큰 값이 최대 번호로, 전체 노드의 숫자가 된다.\n",
        "  # max_node = max([max(input[:2]) for input in inputs])\n",
        "\n",
        "  # 전체 노드 수 구하기\n",
        "  nodes = []\n",
        "  for input in inputs:\n",
        "    if input[0] in nodes:\n",
        "      if input[1] in nodes:\n",
        "        continue\n",
        "      nodes.append(input[1])\n",
        "      continue\n",
        "    nodes.append(input[0])\n",
        "  nodes.sort()\n",
        "\n",
        "  # 인접행렬 초기화\n",
        "  adj_matrix = [[0]*(len(nodes)) for _ in range(len(nodes))]\n",
        "  \n",
        "  # 모든 입력값에 대해 반복\n",
        "  for input in inputs:\n",
        "    node1, node2, weight = input\n",
        "    # 노드1과 노드2 사이의 가중치를 저장합니다. 인덱스: node번호-1\n",
        "    adj_matrix[node1-1][node2-1] = adj_matrix[node2-1][node1-1] = weight \n",
        "  \n",
        "  return adj_matrix\n",
        "\n",
        "# 입력에 따른 인접 행렬 출력\n",
        "test = adj_matrix(inputs)\n",
        "print('노드:', [1,2,3,4,5,6])\n",
        "for i, row in enumerate(test):\n",
        "  print('   ',i+1, row)"
      ],
      "metadata": {
        "colab": {
          "base_uri": "https://localhost:8080/"
        },
        "id": "QD2ETMUb-c9J",
        "outputId": "5a7f3fea-9a6c-49a2-e567-30f13ecbc80e"
      },
      "execution_count": 209,
      "outputs": [
        {
          "output_type": "stream",
          "name": "stdout",
          "text": [
            "노드: [1, 2, 3, 4, 5, 6]\n",
            "    1 [0, 0, 41, 10, 24, 25]\n",
            "    2 [0, 0, 22, 66, 0, 0]\n",
            "    3 [41, 22, 0, 0, 24, 0]\n",
            "    4 [10, 66, 0, 0, 0, 50]\n",
            "    5 [24, 0, 24, 0, 0, 2]\n",
            "    6 [25, 0, 0, 50, 2, 0]\n"
          ]
        }
      ]
    },
    {
      "cell_type": "markdown",
      "source": [
        "![image.png](data:image/png;base64,iVBORw0KGgoAAAANSUhEUgAAAUEAAADaCAYAAAA42PAFAAAAAXNSR0IArs4c6QAAAARnQU1BAACxjwv8YQUAAAAJcEhZcwAADsMAAA7DAcdvqGQAAEWqSURBVHhe7Z0HnFRF1vaf6clMBGbIMAxhyENGggkVQYKIAUGMGFAUd9d1V/141/i+7q6uuusqGFZl1VVBkgoIKKJIdMhxAkMYJuecw1dPzTQ7DhP69nT33Ntdf38l9O2mu+rUueeeOnWqyq1GAIVCYTMWLVpU9zfb0atXLyQkJNS9ciz2+m29fK+p7k+FQqFwSZQnqFDYmKY8wR49esDX17fu1aUkJiaipKSk7tWvacy76dixIyZMmFD3qnn27NmDrKysulfaaM6zmjVrFvr371/3qhb+zrZt22R7msNSj43t7NChg/x7XFyc/LM5tHqCyggqFDamMSM4d+5cjBgxollDxJv9pZdeatQQNnZj06D27Nmz7lXzXLhwoUkD2xJNGZWIiAhMnDgRu3fvrrvyX2gcX3vttbpXjdOSseJDg3Jzc3OruwK0a9cO33zzDQ4fPlx35VKUEVQo2pjGjOC7776L3/72t80aIt7wsbGxjd7gTd3YNJzDhw+XxsEMDd6RI0fqXrWe5ozggAEDpFFqyO9///tWGUEawNtvvx0rVqz41YODhp/XY2JipHfbGFqNoIoJKhQOoiVPjO9b6tmZWbx4Mfz8/KS3ZC7XXXed9Dqbo7FheXNDdUfDB8LKlSsvGkC+JpQRDSPbqKW+1157LR555BH50CA04E888YT8UxlBhcLA0GOiJ1a/0JtsyZjSSN5zzz11r4B77723RcPpKGjcQkJCfhVTbNgeeoJa6msOR3D4TjhcpxfLP5URVChcEA4l6TXSOJi9rKaGl01RXFwsJ2Zmzpz5q0Ljau0kDKHBM/97em409ITG0Wz46BHSUFrKqlWrZJjBHL80Pyz4pzKCCoWOoGFxFBxWMpbIwr9rhZ4aJ3JoTOoXzgxb831maADNw1bKgzFAvubQPzMzU16nQTT/3RJYp+XLl180rqwnY5b8UxlBhcIB8Ga75pprfpVOwngUX5sLvSoO87RAQ9TQE+N3cXLEEhh3Y7EGGiLG2tiO+oXeWv36aIndERoqsyGkx7ds2TL5mvU0D5E5lG1uhlgLanZYobAxjc0O84bmsJM3L29qxqY47Kvv+dFbaerGbm52mEan4eywrQwEaeq3adw4QdES33//faOTQtbMDhPKkdcor8bQOjusjKBC1+Tl5SE9PR05OTkoLCxERUWFvO7p6Ql/f38EBwejU6dOCAwMhMmkj4FNc8vmmDpC40HPcNWqVXVXW6axG5vfY46XtQQ9qMYMkSU0Z1To+TVmQmyR1My23XfffSgqKpL152vOhNOoNhe/VEZQYXjKy8vlTbRv3z4cPXIUcbFxSEpKQm5eLsoryuVnvDy9EBwUjO7du6N/RH9EDo+Uw0kOBT08PORn2ormjCCNBr02rZ5aYzc2vUDzbGdLcEKgoUdlKU0ZFf4+Z5UbozEPriGWGisaP06C0Gu2JOlbGUGFITGrIZX3008/xaaNm3Dq5CkUuheiunu1LDUdxWd85McAcR+4ZbvBlGyCe5I7AsR//fr2w/QZ07FgwQKEh4dfzJtzNM0ZQWvRemPbEnv9tl6+VxlBRZtDFeRTfsuWLXj11VdxLOYYioKKgHHizQGiBInC2Lq3KO6ikEpR6BTSKcgVhfMJe8XH8n0xJnKMTIRlvMqcSOxIlBG0DL18r5odVrQp1dXVOHv2LP7617/iyaeexL6UfSiaIgzgg+LNyaL0FqW9KDSApKqu0K7xGt8LF4WfXSxs4rQS7E7ajSefflKmQPBm4G8oFE2hjKCiTaGR+stf/oJlHy7D2W5nUXOHGJhcJd7oLIqnKBynNDdWMb/vJUonUcS/rbqtCvGh8Xj97dfxwgsv4PTp0w41hGPGjKn7m8IIKCOoaDPy8/Px8ssv47N1nyFrWBZwk7jYVxSz16cVszHsJ4r4rvzIfHyx5gu88fobSE1NbXQW0x7Mnj0b48ePr3ul0DsqJqhwOFQ5zgC/+eabeOnll1AwogCYJd5g7M9WcLgsRtVYC4TEhOD5//c8Ft6/ED4+Pm0yWaLQL8oTVDicqqoqfPfdd/jwgw9R0F0YwCnioi0NIOGj3U+UGUBml0y8/+H7+OWXXxzmDSqMgzKCCoeTkpKCL774AvHZ8QAXHITWXrc5tHfBokwCjqcdx0cffWR1rpzCeVFGUOFQ6AVGRUVhx44dqJhQAQwUF+2phRz5DhC/O7gK675ah6hfomQdFAozyggqHArzAbdu3YoM9wxgqLhg7SSIFrisdhiQb8rHmtVrkJ2dXXtdoRAoI6hwKNz+aO++vSjtVQp0ERcckbnCYTHzDcOA7T9uR0pyiooNKi6ijKDCYTBXb/PmzbiQeQHgun9rdnOn7aLhZNFix/xF6Qdk5GbIjTRVErXCjDKCCodAo8MNON955x3k1+TXJkNbgbd7EOYPfwJzegyGpwz4WQgNpvAEyzzL5Lrkv/3tbzh69KjyCBXKCCrsBycgOPzlZph//vOf5dZX3PKq2kd4YJy11ZKuV+MFf1Mo5o/7J14YehdGB3cSyqsx308Y3mrvanTu3BmjRo3CK6+8cnHGWHmFrosyggqbQ4PCFRobNmzAP/7xD7lsbd68eXjooYfkPoDVnsLg/HcPUMuomYAFw5didvseKK+sQqU1HlyQMMzuVaiqqZKbKzz++ONy3fKHH34oj6hkArfC9VBGUGFTSktLZdzvrbfewrFjx+R+dw888ID8k54g35c7wWje8i8Dh1P/hRd/+RInS0o0hQMvwrXIQuNp7GiMx40bJ8+t6Natm9y+68svv5QbeCpcC2UEFTbj+PHj+OMf/yhXg3C4yS2lpkyZInd+ptHhcjW54SlHnlpHn27RiEo+gbP5JXITGfFl8rIm+A+F9XR3r92PiztRd+nSBTfddBNuvvlmHDp0SA7bz5w5o4bHLoQygopWwe3uz507J9cBv/HGGxgyZAiWLFkiNxEIDQ2VRq/+Wl3uRuxWIV5r3endrRrVbjWoac263wKh8JUmBPgHXDSErBv3HJw0aZLc+p71e+655/Djjz/KHYzVxInzo4ygwioqKytlPI3nZLz33nvSc2KM7a677kKfPn0uGpmGcMdnnyqf2o1QHW1f0sWIuNIT3bt1l55pQ7p27YqFCxfi1ltvlYf4cIhMA69WmDg3yggqNEHPiDO+n332mUx3SUtLw/Tp0+WB28OGDfvVqWeNMXz4cPjV+DHEZxVuQmU93Ezi/xo9Qmp6AuBV7iVPfPP2bnypCmevp02bhjvuuEO2k7HNnTt3oqysrO4TCmdDbaWl0ASHidz8gEPdyZMnY+zYsdLwMb5myRZVPEBp5o0zEdsztnb/QI3L5jxNfTCmSzjyC4/iVF6GGCLXvdESnPj9N9DlfBeZLM2YZXOn09Gz5X6HPKCIy/yGDh0qj3qkkVQ4F8oIKpqF6sEZ3fj4eHz++ecyp46HiF999dXSEGrdmy83NxePPPwI1h5ai/L5wjL1Ehe1aCA/yzkL/qy5WEK8KCuA2WNmY/m7y+XQ1xI4FGb6zMcffyy9x4cfflieftYw1qkwLu7PC+r+rlD8CqaSREdHS8/p559/Rt++feUw8bLLLpMekTVGgLHC4pJi7Nm6B4XtCmuNoJagDH+Sn9diAOkF7gb8TvvhqT8+Jbe/bypm2RB6i5zdjoyMlAZ806ZN8ixkzirTA1aG0PgoT1BxCRwKnj9/Hl999ZXc+4/Gj4aPf7b29Daq2+m40/I0uG+PfIuqu6tqD0qyly2hdvMc8C+AWcNn4e2330bPnj3lW1phDuGBAwekIeQsMtNqOAmkDKGxUZ6g4ldwAoAzvp988gnat2+PmTNn4tprr5WHnHt5ebX6hue/l0vnaqqxe8tuFGYJb5B7CvJsEHvAozk3Aj0LemLpM0sxZuwYq9vA9lMOgwYNkoeAc4jMa2FhYW1+4LvCepQRVEjPj17O/v378frrr8tZ0RtvvBFz5sxB7969LyY628rj4RCzX79+yMjIwKHvD8mlbHJXmUuzVloHM1u+B/wP+2Px/Yux4M4FMq7Xmnaw7kFBQRg4cKD0itesWSPbQe9SDY+NiRoOuziFhYVyN5Vdu3bJSY/Ro0fLJW7cZMBe3o1Z5Zhn+OSTT2LT3k0ou6IMuEJcZIaNLTSSq992Ah7bPTBn8hx59CZTY2xpzJkryQkjrpFmnJCrY7gUr6n0G4U+UUbQReGsJ5e5cdKDQ2AO8SZMmCBnTVvrLVkKPVDOvL740ovYvGczSkeXApeLN0JEac3Pp4kiDKDbXjfMmDgD//On/5EpMY0lSLcWtiE9PV2mDtGTHjx4sMyb5ENEeYXGQBlBF4TDN+6cEhMTIw3flVdeKeNajjJ+9aExPnnyJF577TWsWrcKJV1Kak+fGyYKbZal2slq87NHRPlOOJRp7TBvzjzpafbv31/OBturbbyFuHyQOZCMp3IHHW7MwOTx5nIRFfpAGUEXgcaGQ1+mumzcuFHunHLDDTfI1A8G99sSqiANMyca/vnmP5FakoryfuXAOPFmH1FYPWa0mFNjCHMFqbmM+wkHEmdE2Sfs5hlPhAWHSSN05113ylxGR8J2ME5IL5txVYYWWjujrrAvygi2MYwlcTiVk5MjjRQ9CsKhG7eeCg4OlnlqnFG1xqvgcI2xvoMHD8rVD4SbBTD216FDB93cnFRDTs7wbODVq1dj5+6diE+LR7F/McCMFu5E3V4UH35awA0Y8kRJFSUR8C/2R+/2vTFp4iTcetutMjYXEBDg8PaxHTxMikPjdevWyfACjSG9UXvEWO2tP66AMoJtAJOQOXTat28fjh45irjYOCQlJSE3LxflFbUbe3p5eiE4KFimZPSP6I/I4ZFy6KrlZuINQcP3ww8/yJuC63aZKBwSEmKX+FhrMKshPVaeBnfixAl5NCdjhnHxcUhMS0R2QTbKK+vk4+GF9gHt0aNzDwzoNwDDI4dj7Lixcnkbb3zKiN/ZVkaesmeuJWWfmJiI8ePHy1U2La2ttgRH6Y+roIyggzCLmWdtcHcSnnNx6uQpFLoXorp7tSw1HcVn6nk6btluMCWb4J7kjgDxX7++/TB9xnQsWLBA7sbCG7yxm5y/xd2cub0Vb0bm+fEGMM/46sX7awrWnx4sZ1/p6fAGz8rMQn5B/kVPh0N4ejo06BzaM22Fht3SlSCOgO2gV7hnzx7p3TLuymE666oVR+qPq6GMoAMw3wxbtmzBq6++imMxx1AUVFQb8xogCu8JnrzGzArzPcwkXz7UOezjtlMxouwVH8v3xZjIMXLFBbeIrx9vooGgF8WUjb1798p43/XXXy9Xeqinf9tBY86HEs9a4bB1/vz50iu3dCLKUfrjqigjaGfo0XBPuhUrVuDTzz/FuYpzqLlMiHy4eLODKOY5iaZ6wayf3MmJMbDDQs+j3NHbszfumn8X7r33XukJcXkbh0dc1kXv6PLLL5ezk1RyhT7gA4o70nByip45H1AtbULhCP1horcrxwuVEbQzVOCXX34ZazetRVbfLGCSuMjVEdbk01KhqcznRdkFBMYEYvbU2Rg/YTySk5PlMIsxP3qAjIvpaWioqIUeHWeOf/rpJznUnzVrVrM5jPbWn1tm3oKnn35aruBxVUOols3ZEe5H96c//QmfrfsMeSPFY3iGuMgdnFozMqVdowcQLvS5oAzR30UjPTVdbmfPHZG5KsK8v59CfzAswRljTlCYjyOlH8KNGBoaQkfoT8z3MSgpLJHZAoyxuuLQWBlBO0Cl5gzesmXLsOzdZSiMLARuEG9oj4c3DvWUMaA+QFV+FcrPlWP82PFyg1PeSK4e49Ez7Bs+oGhwOJPNtdnff/+99A65T6E5rcdR+lOZW4lzu8+hS0gXDIscZoiJM1ujjKAdYJoHYz+v/PUVJAcn1+6g3LH2PZvCeJAYGhWfLUbiwUREDotEr169lBE0CAxXcF9CeoGxsbFy6R0fYgxrcLjsEP3pWas/SYeSXFZ/lBG0A0zp4KHjO4/vRPXsaqC3uGgvvWJKhFDmzP2ZqM6vlhMiajLEONAr5JZlXHPM2WKeZ8JzW9auWYvd0buV/jgAFTiyMfQCmeS7Y8cOVEyoqN0rz55S5s0xQPzu4Cqs+2odon6JknVQGAezIWQ+59133y3TaGgMK8Yr/XEEygjaGM7+cSic4Z4BDBUXHLGrEhchDAPyTflYs3qNTMVQGA/G47jELf50PHK8c5T+OAhlBG1MZkYm9u7bi9JepUAXcYEL/e0Nk5w4ZAoDtv+4XabLqMwnY0L92bVnF0p6lSj9cRDKCNoYblSQmptam8vFGTgtUOE5EuGfLFr00F+UfkBWfhaOHT0mZxcVxqPV+lO/KP2xCGUEbUzU/igUuBXUPsW1UDUCd0T+Cxumb8XWaSvxYt+p6FyjIdm57mle5lmGE8dPyGMyFcbDev3pjelD/o511J/rV+Ce3hPhWaPh9nZh/VFG0MZwu/VSk1CgYPHC0hm9mo4Y2/s23NmtCl/EvI6PErJxzdDHMbnrAJi0xKg7A5WelfIQIPNGAwpjYZ3+AP17Xon7w3pgXcy7WJnojQeGPoyrOnWr9QgtxUX1RxlBG8NVANVeQvM07ZiUh1Npb2Hxzv+HVWc3Y2P6Nzji3hFX+YQiQMuQJlA4BB5VyCvIUzPEBsU6/QEuZGzA73cswcoz32BP1k5UePigvZe3tiGxi+qPMoI2hud1SKlqWbbrVonCshScK8pCObzQ0X0guqMIF6ryUaYlP4yrrsTnuWuJmhgxJtbpD1Bano1zBSkY1W8xlgxeAOQcwvmcZMu9SVKnP1yux+IqOqSMoI2RW1aZA9NaoLKK0s50BR4asgAdM37G1vRYMTSqfdsi+PAWemvP8zQU9qVV+iN0JTX/IKJyNqLMfyyuadcXflrsWN2k3JHDR/D+++8jN5d7cDk/ygjaGG5j5VYhNLK47oKl1Hgh0GMqfn/FsxjptgdvHPkAx0qLtD3J80WHVpoQGBCodpAxKNbrT+0fZ1N34OP4H7CrJgyz+/RFFy6Ns9SgCv1xr3LH8GHD5Zb9b731lvzT2T1CZQRtDDcw9a3yrd3I0lLdEZ9r7zcRv5v0NK6o+QnPRv0FG/MStQ2FSboY0VR6yoX4TW3NpNA31upPx4CBmNb9cnTw8kU7z84I8axEfHYR8pnpYqkeCf3xqPTAuMvGYcmSJTI+yd3JuZs19zV0VpQRtDE808GrXDx+M+ouWEJNJ0zoNR/39ByKEPeemB/xKF647Fk83D4CwZbqHnsyQfxRbJJeIFeuqLig8bBKfwSe7hGYM+R5/GX8a3gt8hGMKDqEj9OjkUkDaIkRrNMf/vbAQQPlOdS/+93vZHz5vffek+vhnVWflBG0IUePHsXmzZtRklUCJIkLluabupXgaNIKPPzjfXjuzDr8mLkXezKicLws13JvkGldcYC3uzeysrPkoeolJdxbXWEUrNYfQWrOdvz5wAtYf2ErNpx7A0/vfxk784Xh0qg//t7+GDlqJHx9feWZKL/5zW9k4vS7774r1zQ7I2oXmVbCpyOVZNeuXfJA82uuuQbuJnecOX0GVeFVtfleLeFWjvzSRMTnxCI2NwYxLDlxSKgoQqWljymeu7sDmHHFDNy38D55dCXrxv3qzBusqskS/WEb/WEpR25hAuJyo4X+nEZiWR4YWrR4KFynP9MmTsPt826/uK8h9z3krtPc2ot7HtJD5Ka9zqRLyhNsJUxp4KaYPFrxlltukSd5zZkzByElIcBJ8QFLc07ZE9wxmPMZ5mJp73DL9ONAQFkAbrv9Nnl+Beuwbds2uZuNKy2BMho20x/SUHcstVP19OfWubfK86jN0NjxQfrYY4/J86udMUaojGAr4HDzs88+kye7TZs2DVdddZXci41GaMzIMXDfJbTxnPigPUMp1MWzohwBpkyeIveD8/HxkWeN8Gb66quvpFfI2I5CX+hVf3icaX04kqA36KwxQmUErYQ5VDwAZ//+/bjtttvk1vZUHj45GUuZe/tcdK7pDGwRHy4SxV6jB+Z27QTCPMNw/8L75clzhPlmkyZNwtSpU/H5558jJibGqWf4jIbe9achNITOGiNUMUGN0JCcP39eDguKiorw+OOPY+DAgb9KUOafTHXIyc3BwW0HUVktvDDuCvLrB2zr4VBpMxB0MgiPPfSYvHHMN5K5MF2Gwxce88h4TmBg4MV6KhyPUfSnMXjdGWOEyghaiNn1p0dFz4rKsHDhQnk+hHnioT7M04uIiEDi+USc3nW6VpG7izdspcgFomwTv7PTE3OmzMHixYvleRVUxvoKSY+Q50acOnVKFioth8vEyIprNIyqPw3hezwDxWwIDx8+LP9u5IerMoIa4MHmn376qTwu8eabb5Y5XY0psFmRqBiDBg5CWkIazvx8BpV5QpFDxAd4hENr9CVFlO/EV+xyw+zJs/HUU09d4k2Y4WvGmTiU2b17NxITE+WxnDzPwvy+wjEYUX8ag58xn4vCePOhQ4ekThnVECojaAEcwnA4+cEHH+D666/HzJkzpRI0psD1oUJwGdSI4SNQmFmI6M3RqIgRYxDuENJJFM7iWYpZtw6IskbcB6f9cP8d94PdRwVmXZpSQF7n05ufW7dunZyR5NObXqIRldZoGF1/GsOsUzw2lOeh0CMcObI2v9BoKCPYAlx5sWXLFnz77bdytnXKlCnSi7JUYfg5phxMnDgRXTp3wZkDZ1B8qBiV8eKpTuqfIcGvNH8t5zD4EaYv5IlyXJT1gM9eHwwKHoRnnnoGSx5fIr0J/oYl9WHuV3h4ODZu3HhxmMynv8J+OJP+NIT/xhlihG41zjLPbQc4g7dq1SpER0dj1qxZUhHN6QNaO5li5g3BocP6devx086fEJ0QjULfQoATcp1F4eHafJCyR5jBT+VNFyUZCCwLRP8u/XHlFVfipptukln9VEAt9WAduE8c89K4MoGzkkzHaMkjUViHs+lPU9DTPX36NN5++235oH3wwQfRs2dPw+iVMoJNkJqaKocvKSkpuPPOO6Wr39zMWUuYxUyF4c0RGxMrFZrlZMxJnE86j8zcTJRXlksl9vbyRsegjgjrHobBAwZjxMgRGD16tIy9UNHoyfE7rb2ZvvzyS7lKgblffHrb4mZQ/Bdn1Z+mYL2YhfDOO+/I0cXDDz8sMxOMoFfKCDaA4qACL1u2TP79gQceuHgqv606lN/LQsUpLCyUv8djDvl35mDxd3jDcEKDQ6HOnTtLxeWT1RZPV/42DeG//vUvxMXFYenSpXJmkBhBafWMK+hPU5jb/vrrr8sh/xNPPPGr1Sd6RRnBelAUPF+BM3gcKtx+++1SgZyVgoICLF++XN4wd9xxhwzCG2UIo0dcTX8agzI4e/Ys/v73v0t9okcYGhqq64erMoJ1cDkQhxZcZsZE1RkzZui+81oLuz4tLQ2ffPKJVFimbXDGT6EdV9SfpqCHaqQYoTKCAqaMbN26Vc7icf3mddddJ40BFdjZjSBLbGwsVqxYgeHDh0tDaM4hVFiGq+pPcxgpRujyYx8eLcjcuS+++ELO4M2ePRvBwcEuobzmm5QrEzhj+PHHH+O7775TJ9VpwJX1pzno9RllrbFL5gmanV+u3Vy/fr3MceIWRldfffXFGTxzcXbM7ezatav0XngzM3eMr11FBlpR+mMZbL8R8ghdcjjMJjMWtnbtWhnIZhLriBEjpAK7MvRqeFMfO3YM8+bNk+kUfKK7+s3cEKU/2tB7jNDljCCby/Wz9HgYq+AwkCkMzJtSQKZZ0BBSRnfddZfcWkkZwf+i9Mc69BwjdLmYYHJysjxKkDup3H333XIZmVLg/8LcMq5tpaJy1phpNIr/ovTHOvQcI3QZI8ih3sGDB+WCcbrizOHq2LFj3buK+jA2OH/+fDnU47kXVFYXGzBcgtKf1kOvj0n5jzzyCPLz83VzrrFLDIe5OoJnbXAdJ3db5hCGmexqmNc0VAuuef3b3/6GK664Qp5/Yau1pkZD6Y9t0VuM0KmNIJtG13vDhg3Ys2cPJk+efPEcB6XALUNl5R54K1eulFtAyZPQxDDZVWSn9Md+6ClG6PTDYW4UwL3c5s6dK29kV/VmrIFPZi78nz59ukwEpmdInPi5eQlKf+yDnmKETukJskkUKD2Y+Ph43HPPPTI/SQWwraO0tBRff/219Aq5IQCXheklvcEeUH+4IYFZf+69916lP3aCsuZaY565whgrPUIu4XTkg8bwRpDGjjN2mZmZciaTS5gYxOa233S3OYPHfdwYw3HmG9demOXLtBBuDcWhoHlZGOM5VFym0XCVhBHk25i+EC4VZHuoJ7zGc4CpR/QAzeeAKA/Q9rA/eHxnVFSU3HmH9yrjrkyodpR+GdIIUkk5NOMw5cjhIzgTf0bu25abnysVl00qLytHUGAQ+kf0lxnrw0cMlwF+nougnujN05h8uUVSUnISyivKpYJyvzqeKdG1S1f07d9XJgvrVb4t6QuNG+tMfeHsJZcN+vj64Pe//72Mg5rbo4ygbWi0P5JTkHAhATVuNVK/vDy9HKZfhjGC5mqeO3dOpm1s/GajXPhf4l2CmrAa1PQS7/MQGp6/QIpFyRQNvOAG0zkT2lW1Q3jvcMyYOUMOb8xDOqXYtWiSLz9K+WbpV76taQ8PI/ev8kef8D6YPnO60hcboGf9MoQR5EwS84o2bdqEN/7+Bk6ePYniDkJKY8Sb/UXh7k/c+ISFR2awRdwDgOeqlojCbcbjRIkCfLJ9MHLASCxZsgQ33HDDxd0+XBlnk6/SF32h9/7QvRGkAJlTxF2QV65eiQRTAjBevDFUlGBRzMs1m2qFWT7louSLcgww/WJCz5qemHfzPJmjxKx/e8Ub9I6zyVfpi74wQn/ofhcZzhy99NJL+Pyrz5EWkQZMFxcHixIoipaD0vhZutrdhbyF652Xm4cjW44g6VwShgwdIgOwrviEdzb5Kn3RF0boD10bwby8PDz99NNY9c0qFI4rrBWg1vNWG8J/yydQH/FwKSpH3PdxKMgtwNhxY+VslCsptrPJV+mLvjBKf+jSCHKEzty0f/zjH3h/xfsoHl0MTBVvBNS+bxMYfwgHqoqqcGHvBYQEhSAyMhKenp5Or9jOJl+lL/rCaP2hy8AGUxS4QuHfK/6Nwl7iCXKtuEj32ZYwBkH3ehqQ1S0LH6z4QC6N0nmI1CY4m3yVvugLo/WHLo0gkye5X9u5gnO1ArTXZh2UF2emJgEns07iow8/kkm0zo6zyVfpi74wWn/ozgjyKcLVHkykrJhYAUSIi/asJT1n8RvVQ6qxfsN67N27V9bBWXE2+Sp90RdG7A/dGUGe27B1y1Zke2fXziI5YsdyxheGAcVexVjz5RpkZWXVXndCnE2+Sl/0hRH7Q3dGkJss7tu/D6VhpUAXcaG69rrdCROlN/DTzz9Jd95ZYz3OJl+lL/rCiP2hOyN48MBBpOely3wg+NRe0wTbTsGzaNFLP1H6ATkFOTh29Jhc3+iMtEq+lClHGuaiA/narD1KX2yC1f3RULe09kkr+kN/RvDQQRS4FQCd6y5oxeSPyIileHXUfET6eVouRH6uF1DmWYZTJ085rxG0Vr7V4Zg19A2smr4FW2ZsxXfXL8fVoULrqKiWYCf5Wt8eUXrei1enbMLW6V9heb856FejYWG+i+iLVqzqj+pQTAxfiv/csBlbhW5tmb4ZG2/4Cu9HTkQPcQtbpGOt6A/dGUHu31ZqEq40EyK1pftIQQT4zsSjgx/CLV0HI9RDNI/CsRTRcZWelfJsDe4u4oxYJV/K0NQfE7regJ7FX2L54Wfx3JHlOJ6Xoq2P7CBfa9tj6jgNz0Y+hfFua/BBwjcoC5uD2zoNhB89EEtxAX3RilX94ZaHU2lf4vVDL+L5gy/go6RdCGnXAdFFFcigWC39Hiv7Q3dGkFPc1V7C9DMHSCvVvTFm8G2I9PRCRXWlxU7KRQKFF+5RhbyCPKed8bNavh1D0SWwEKdidmPHhb3YnXYUmeVF2oygHeRrVXtqfBHeYSKm+Z7G345+i9Un/4OX9i7Fh7nxKNFyR7iAvmjFqv5wK0dOcSwOpO3GLxlZ8Gk/DOcvrMLm88ch/TlLdczK/tCdEZRuLGuldWmNkLtft7uxMLQSe3LPI79aiwtYB11vIfDKykqnDXRbJV8hCl+/ILT36oAhEb/B0stewJIek9CtRmMn2UG+1ulLBwzy6Y92ZQW4rPciPDf6GSwI6gX38nJUazHqLqAvWrH6/q2zREE95uOmdj6ISvwB8VXCo3RAf9T9tH6QGybShWOxFLY36HI8NnwiCk5/ip0F6SjXJL06+PAQ3+XMhwlZJV9BhE8genuakJxzBAkVlbhl1DN4sNMgbcNHO8jXuvaY5H/tAsdgTEEy8kR7bhaGUA/tMTrW6pdEyPLKPhNgKovBt9kXhBfIG1sDVvaH7oygPF+gQjSguO6CJdR4YWSX6zDdcy9+LkxCO3dv+Hh0QGdvP3ixhZbKMl8IpNKEwIBAKUhnxCr5io/Hn1+BOzfegIdPvo9l8d9ha2VnTA3viy7MA7NU4e0gX6vaI+6WGlTCo+IA3kxajTdPb9VNe4yOdf0h4D3qPgmT2oUis2AtUmsKtJpAq/tDd0aQ5zn4VPkAueKFpVJwaw9/4YbHFXTGxPD7cGNoP3T1vwzTuoejA11kS0kXHnWlJ3p072HzLbz1glXyRTsEefVBmJcPyoV++7qHoL2pBLHZRSjgPm/imkXYQb7WtScNp8tOIrXaHcEmD/iaTPBFIWJz2r49Rse6/qij+1UY4FuNtKw0lFdqNoFW94fujOCI4SPgX+MPZNRdsIhM/JK4DH/c8yxePPhPrMyIR2rBTqxPiEMGldoSKIkEwKvcCwMGDICPj5YkJ+NgnXxN8PIYgjnD/oSXx/8Nr41cgrFlJ/BZejQyaDAsMRp2kq9V7XGrQmzat3gt2xt3DnkJfx/1IEaXHcd/0tq+PUbHOv0SCJsX0CEMHdzzkJhVjnKtw+lW9IfudpY+c+aMPNchplsMcLO4wCUxlmBuhZsnOgYNx0DPPETnxiOrQkjTEqWmsfwI6JrYVR62zfN2nTHOY5V8hWzdagIRFjICgwM6wLOmFGm5J3E074IY9fDNus81h53ka217WGmT/0BMbN8fIaYKpOSewDEdtMfotOb+9RH37Zh2PjifcRhJlWXaJqla0R+68wS5Q+zYUWPhleDFUYtlCkn4OZaaCmTl7Meu9DjLDSA5L8oFYNKESfKIP2dVaKvkKz5TY8rHuYwd2HRmPb46uxl7cxMsNxjETvK1tj3CqqO64BR2nv8a689+i306aY/Rac39W5p7BDuT9uGCVgNIWtEfujOCPG5v6tSpCC0NBU6KC1pzUNl2torFUjkwGem4cMfLAnDr3Fvl2bPOSqvky1izuehEvq1qD9ugs/YYHZv0h+X2q5ZW9gd/VlcwoDlh4gSMGTkG7ruERM6Ji3L4YicYezgryhFgyuQpuPzyy+HlxSlC58TZ5Kv0RV8YsT90ZwTpxoaFhWHu7XPRuaYzsEVcLOIb8m3bw9yinUCYZxjuX3i/dKWdGWeTr9IXfWHE/tDlGSMUJA9XzsnNwcFtB1FZXQn0EG/Y+oFLV30zEHQyCI899JjsOD5F+PvOjLPJV+mLvjBaf+j2tDkemDJo0CCkp6Qj5qcYVJbVCdLS2aaW4IHO4inltcsLc2fMxaOPPorOncWTS+AKSu1I+c6bOQ+LFy+2q3wd1R7PXZ649YZbpb506cIN81xDX7RiJP3SrSfIwiP0+vfvj8N7DyPxl0TU5NYAoeID/vyQ/Kh1JIoiBGjaa0J4aDjuuecejB8/3qqTqoyIo+TrvtcdXQK64Mk/PIlRo0bJeJE95Fu/PbzxMpMyEfdjHCqzxY1nS33ZY8KA7gMwe/ZsGXvy9va2S3uMjqP6w22vG+beMBd/fOqP6Nevn+blcmZ0fe4wYRojzyzoEdoDSbuSUHFC+MC+4g0afS1J+mbZ/CLKKtEP5/zx6IOPYs6cOUhMTMSIESPkzJarYU/5Pr7ocbmCIDw8XA6PaATtCW8ApmiMHj0aJbklOLnpJCqO2649i+9fjN/97nfYtWsXBg8eLGchlRFsGnv3xyMLH8HzLzwvdas1yxZ1bQQpxHXr1knjROWLGBCBxBOJKDxUiPLY8tqYAAVpnn2qn+bAgCnfLxGFRw4cEWUd4HfQDyO6jcDSZ5Zi0aJF8gmyY8cO9OjRQ7rTrqTU9pbvQ4seQnl5OVJTUzF06FCHrKpgm4KCgqRn36tXL9vqy8OLZNCfCcE8x4IrEzh6UDSNPfvj4Ucetsk9q7sVI/XheQVLly7F3XffjQkTJsgb6tixYzIjfPuP23E0/igKPAqAruLDdLN5/B7vM7aIuUP5oqSLkgoEVwdjcNhgTL5qMmbOnIlhkcPkzc+tf1asWCGV+c4775RDHFfBEfI9dOgQVq5ciSeeeOJizMYRUK1LSkps3h6yf/9+rF+/HgsWLJAeoaJlLumPn7bj2OljyPcQQm9Ff9jCadG1EXzvvfeQnJwsg9ChoZSSeEBUVaGgoEA+jXmWwIEDB3D0+FGcPX8W6TnpKCun9IQsvX0QEhyCPmF9EDk0Usakho8YLl1nPz8/6T6bm05P8IcffsCDDz4oPUJXwd7yJfz+V155BY8//rgcFttCaS3B3LfV1dU21RfWv7CwEB988IF8YPIBYjaOiqZp2B8nT57Ef/7zH+Tn5SMpJQnxZ+Ot7o/WolsjmJKSgmeeeQYPPPAAJk2a1GRji4uLkZGRgdzcXHncH70ZfpaeHZWzffv2cnuf5p4aaWlpeOutt3D11Vfj2mt5WrTz4yj55uTk4M0335SrCMaOHduq2I0tsIW+kFOnTuG5556TMuQ6VYVlmM3Nzp078d133+Guu+6SDxPqSWv6ozXo0gjSG1m1ahXi4uKkl8Lgqj3h0+mTTz6Rw0PGCQMDA+vecU4cKV8q9kcffSQ97BkzZkjldgYoQ3rSjHdShp06dap7R9ESfAAvX75cencc2tp7wqwldLdihNAzi46OxsSJEx2yLtNkMsnf4m+ePn267qrz4kj5MnmVRpbGgobDWaBHe+utt8pDfRgjpAejaBkegMRsBE6SXXbZZW1uAInujCC9MgZPefMMGzbMbi5wQxivYvIrFZrei7PiaPlSyWloOfx0thPZOEy74447ZEyZRl6nkSVdQS+Q8XeGYMxx6LZGd0aQMZvDhw/L9ANHeIFmeLPyyc5YBT0lZ8XR8qWRpSdIL5BxH2eCbRs3bpyMaXHChQf8KJpn7dq1cn1vZGSkLrxAojsjyOEonxaMFzhaSPSMeMMeP3689tQsJ6Qt5EuZ0kvihISz4e/vj8mTJ8tUIM6EK5qGDsaJEydw4403ytxBvaArI8ihGp8UXL3RFonLNArTpk2TT3UO35xteNNW8qXH6axGkPFkPjx9fX2xe/dup314thZOOlL3+MBg6Ily0wu6MoJ8SiQkJMhUCk6JtwU0EFTkc+fOSaPhTLSVfOkt0UjwRnA2mRKmcVx55ZUy1nX+PLc4VtSHk0ZMLuda4uuvv153CxJ0ZQT//e9/y+U1XG/qaC/QTHBwsFxKd/ToUaeL8bSVfDmT2r17d2kEmWjsbNCrYWyQsa7NmzfLZGDFf4mPj5fZCBxlcTKpre7tptCNEWRMhbOy3J2DXkNbwVnTIUOGyPiOM02QtLV8e/fuLYfD2dnZdVecC+Y/3nvvvXJIzNl3Z0oHshaGQDgRRw954MCBcjJEj+jCCHJNIYOmw4cPl15KW8KnFLeXIlRmZ4gL6kG+3HiARtDZZojrwzYy+Xf79u3IzMx0upiyNTAEw1xKrk1vS+emOXRhBM+ePSvzrJg8qQdBMZDPNYpHjhyREyRGRw/yZU4YvSMaQmc1DhwWX3fddXLIr7xByLAA11iPGTNGhpj0Ngw20+ZGkAm0jL/xJomIiNCFoKjMDHTzKcYJEiOjF/lyuEgvlF4BPVNnhXJmyIHDYmd4gLaG1atXy5UhTIzmw1cZwSZgjIjGhovQ9XSKPwP5jGPs2bPH0MF8PcmXewrSCDrj5IgZTgIx7MBJNa4+ckVvkJ4+R1F79+6V2405cgs1a2hzI8h1hPQSaHD0lDtEZb7ppptkziB3njbqEE5P8qURZIqOMxtB0rVrVxl64C4pTEx3NfLz87F161b54OUko57u68Zo09pxtvKrr76SaRuMw+nNXTZvoU5PyohJsHqTLycOGCfKy8tz6kkDPkA5JKa8f/zxR6ce/jeEnu++fftkKIApMXqdDKlPmxpBTp1TSHxa6HGLJSozZ/uioqLk081o6E2+HI4zzMBJGmdfZ8tlYTzA68svv5QburoK9PK5oQTPFeH2aXqNA9anzYwgnxTc046bmOo5ZkBvkMaQa26NFN/Rq3w5LGcOZmlpad0V54W6wwk2psywP5w9ZYbt27Rpk1wRwm3a9LJBQku0iRGksJi3xq2rOH2uZ2Hxic4dVzjDapQhsZ7lSyOYlJTkEmts+fDkaYZMUeKKCWdcMlgfbtK7bds2afj1uDKkKdrECDJhlts5MVbFILKeMU8qMMDNYZwR0LN8uXKEM9aMkzm7Z0Q4JOTQ0OhZBi3BWO/7778v16WzvUbxAkmbGEE+Fbmchl4Kn5Z6hk8z5tdxKMx6GwE9y5ebKTA2yCMrXcEIchkmDQNDADxcyFlhHJATcZwMYR8bCYcbQXoA5k09OVwzAjxzhNslHTx4UPdrX/UuX8aLmFBMr9rZh4dmuHUUdydi2giX0zkTfJBx5xx6urNnz0bPnj3r3jEODjeCzLljrhg39dTjjHBjMM+JgV7Wm16Wnj0YvcuXnhHjRdycwlUSiTk05EmG3EWH6SPOdB4JVyQx/kzvj8NgvecENobDa8ythhgn4Wn0RgmcEqZ2cP0jk4/1vFWS3uVLw8ycRa4hdqXVFIzN0lNas2aNnBhyFrislDsUMQuB+yoaEYcaQcZFuKbyiiuukENMIxlBPuHMZ5DodYLECPKlHGkEOTvsSvvusd3XXHON9IJ37drlNAnUn332mZzs4uSh3uP7TeEwI8jkWOatcSmN0bxAM+xsTpIw5qY3JTaSfM1njjhbfKwlOCzmYeMcEnOjUSPHRFl35gTSozfiZEh9HGYE6TbzACOeMaCnQ1a0wKf59OnTZc4gJ0j0FBs0knxpBAlvIFeDW7QNGjRITiQY2Rtk7Jlb5nO7fKM6NWYcYgTppXAxOWcs9bCQvzVQgVl/riDRy5PcaPLlEQYcOjnz0aZNwWWMnGSjJ8hiRGi8v/nmG3kvXHXVVXKyy8g45G5hIJgzlkze5WErRoaxNu48zWCwXg4TN5p8OTnCNBnOlrrC8rn60GPicjpOXnF1BfM5jQYzJGjAORnCUYfR8z3tbgQ5A8gYGk8340J+o8O4DpWYqzI4JGhrjCpf83b7es+7tAf0nKZMmSJ3J2LfGWmWnJNZ3JiDeY/mTXqNPBQmdjeCXCrEGBrz1ozuBRJ2OOM6TPplu9pagY0qX04ycWLEVXdfZroVh5KMq9EjNgrcUYlLSDnq0NvRmdZidyPIpUKMIXDFhZHWEzYHhwCMh3D3XC7/akuMKl8OB2kAXW2G2AxjorNmzZLDYe5AbYQNJWisuTUYvVh68kb3AM3Y3QiuXLlSbjfeqVMnpxEa28FcPA5nuHNGW2JU+XKCgHVmbqNeYquOhhNE3H5+w4YN0rvSe2zt448/ljmeXJPuLF4gsasRZOIuA9/OJjTCNA/O8jHVoa2GdEaXL71XnjniSknTDWEcl6EBPS+nYxYEdY2TIbfffrs0hM6E3Ywgd5RgvIPbjPNkfmfxAs2wPVwGxeEob2RHP8WdQb40AM5+8FJLMMmYowoe0amHibbGYMhny5Yt8twUpmA5271sNyPIHVfopTCAqqdT5GwJdwfhU5yxQUcnvjqDfDnLzhvflT1B5nRGRkbKODO3o9JbyhBzUOmlmme0jZ4T2Bh2MYIM9v7000/yyUFD4WxPDjNUYJ5BwqMFmTLjKJxFvsy5ZOHkiCttptAQyoArfbgNP3eh1hM8W4eHRTHkovejM63F5kaQw8LY2Fg528W0DaMuqrYUeoKMD8bExMinpr2hfPlb9Bi4Ttjo8uUxnJwccYXt9puDk1vMveNKDEc+UFuCCd0Mt3CbLGe9l93ETdWqYBaf4ozrcAkUj1LksJBDNU4W3HbbbXILKm60SENhxOVyDdtH40PPixMRHMIwSMyziWkA77vvPrsvJKex+PTTT2UQ/e6775bybq5+nIHVk/wbyvPnn3+WMUF6QvQ09FZfe1NfHqdOncLnn38udytiCooe+m/dunXSS+dsPvtJ7/plDVYZQQqCi/WZOX740GGcP3debi+VX5gvjQFvUHeTO0JDQqVih/cJx4iRI+QyG8Y/9J7P1lL7CNsQ6B+ILp27wNPbEyZ3E5566inZRnu2j0HqL774Qq4QYd7WkcNHmq2fHuTfnDxpxDn76NfOD4EB+qivvWlMHmmpacgtyJUPBhocGpm26r/69Tuw/4BckpmRloG8wjxd6ldrsdgImj/GM1TfeecdbPh6g5wyr/CrAPqKN3qLwpBBO35KUCQKNwk5J8ppwKfMRybIzpw1E4sWLZLrb/nk0Es8S3P7OKHJPN+69rkVuKFnj5645dZb8NBDD9m8feb6cd3mK6+8gl0/75Lbmpe3K7eofo6Wf2vlqXd90Yre5eHK/WWREeSTmh7I119/jbfffhvRydEo6VQCjBJvUkBcrcU0NU4cMWzAb2ScW8gPnOzi5J8QFA4IYWX4YFj4MDyy6BEpMD0czWeT9nFDELYv3fbta1i/2JRYFIWKp4xO5e/s+qIVvcvD1furRSNIATFW8d6772H116uR7JsMjBdvDBYlUBTzMRZNfYu5/cwDpXd4AjDtM6FbaTfcPPNmLF68WK6jbKugq97bZzT5O7u+aEXpl/77y/15Qd3fG4X75j333HP48tsvkTUsC5guLkaIwvi/ljgoZcB0tm5CnmE1Mh50dMtRnI87L2cIubVSWzwx9N4+o8nf2fVFK0q/9N9fzRpBzvA+8cQTWLd5HUouF+4xBcQVM1qE0xD+W258LNzsytJKnP7+NHKycmTOm6PPxdB7+4wmf2fXF60o/TJGfzVqBDlC5rKs1157Df/+/N8onSAG/teJN8xBUVtAN7u3cMcrqpG4LxHB7YJlrhQz0u0tKL23z2jyd3Z90YrSL4GB+qtRI8hpcO5s8fprryO9azowQ1y0x2l6FFR3oPRCKRKjEjF40GD06dNHzirZE723z2jyd3Z90YrSrzoM0l+N1obrOblFU0JJAnCtuFB7Lo7tYbCVM08Tgdj8WHz4wYcOOXxH7+0zmvydXV+0ovSrDoP01yVGkE8JLpjm2aiVV1QC/cVFe3qv/G7xG9XDqvH1pq+xZ/ceWQd7off2GU3+RquvvdG7PFR/XcolRpCL87du2YocvxxgoLjgiORv5h8NBcr8yrD6y9UyZ8le6L19RpO/s+uLVpR+NYKO+4tcYgS5nCnqQBTKepUBncQFR50q2UuU3sDOXTulu878JXug9/YZTf7Ori9aUfrVBDrtL3KJEeRawfSCdKCHeMG8Hy2wXcwkZ+HfGROwFM5M9QVyi3Jx9MhRu+2yq/f2WV0/1oX1ql+n+vVtqa5Wyt/q+prr1lh9LZGrg/RFKzbrP/NrFsqlJX1rC/0ifG3D+rUFlxjBQ4cPodCtsPYpoQUhoOD+f8BHs3Zh9+wNeDViJrrWMIPSQijAMOEye5Yh+lS03bZWak37xg/6H6ydvQd7Zq7For5XwvNS8TWNhe2zqn5UwNDpeHbyP/FQUA+04+vKMbh35Gf4cfbPWHfZ07jOPQDuzSmplfK3rr4hmBD+HN6ZcA36+vK1KJTv4GfFtXvRi5vENldX4iB90YpN+o/GJvQG/Om6zdgzeze+vfp/cWNokMxHbhJH61cdPu4dsHj8a7iv3zXwcmumhjrtL3LJXXwm/gxK3UuFRRMvLA2Yiga6d7sFLw2/AyEx7+CDmNMYM+hRXNd1INzZoZYiOqbSs1K6y/Y6fMe69nmia++H8MfIm1F+8nX8PWYzxvdbgBmdetm8fVrrZ4IHunedhT+MehGP956MMI92cK/2xph+0/Fon0B8FvsPJLe/Ctf2vxb+zd9GVslfU32Fnnh49cG1vX+L50Ytxo2dOsPf3YR2Hr0wffAf8PKIx3FDSC/4mkQ9edO0hAP0RSs26T/vPpjaczaGlq3DXw8/ix3trsbisNsx1OTZvFwcpV/mOlT5o8+wl/FQ35sw0L8zTDUtfKEO+4tcYgQzszJR7SlMPZ/QliKE4uXbA318PJGUtR8/Zx5Eirsvenv5wtMSZTYTKOTqUSWX3Nhrp2Hr2heKEYGTEVl9GO9nfI/VKUcQXdMNN/r2Rgcbt09r/Xw9AnFj+Ax0dytHQVWZeGiLCnn0wbDQq+BXsgZ7Un7AhvxSjGzfHxFeLRgXK+Svqb7it/17zMeNYeFARQkKq1lbP/QNno8pnQahtLwSpTVVzVbxVzhAX7Rik/6rSMLeky/id1EfY0PSIZwoLIJ3u47w8RRGppX9Z5P6EfGHT4ebsah7X3ijAhWi31pEh/1FLjGCcqzOqy04Db9C9E1pxnf4e9wBdBuyFC8OuQZZScuwJisWpRpGjHKmSnwXp9CZ1W4PrGof8kUnp6LGqy9GmfzRycMH3XzDMLRjAAI582VpVS1on9b6lVcVYnvMW3jz7EacEbot/5mPHwJExbKTMlFcVIXC7BJ4tfOBv28LN5EV8tda3+KszXjv2DtYn3gBleLH3FCGpMJNeOvwCmzLSkeVlkRaB+iLVmzSf9VlyCtJRnK7K/HI6P/DIyEmHMz6EXFllbK9TeIo/SLVEZg1eC76paxGTEGa6EsL+k2H/UUuqbmnp3C5RWNl0YB/QASu7NQfpoyfsDNzF9oHjkWIr/B/tbSVDwfxee44Ya+lNVa1z60Qe+M3Yn12N/zh2k345qqXcYNfIHyCPOEhvs7iNlrQPq31q6guR3TmceRXFP/3n4jvdnMrQ1FuBSpLa1BRUCI8rLr3msMK+Wuqr9C28pwDOJGVjRLxWzSBEB5GdukxxOcUoFLrjeEAfdGKTfqPsDmlcdidvBnf5wLDu0WiX7AwQc2JyFH6JX5jYNgM3B3wIz5K2ISEitrHWYvosL/IJUaQ22WbKsRlbotjKTVdMKHjrZjX7gzeTlmDd88fw0n3q/H8gCHozRmo5jquPqKz3SvdERwULAVlD6xqn+ivwpId+L8fp+Lq7Xdh4dF3saEkAxmJJSguqX3fIixon+b68bcb/n5VNaoqfBHcwxfeAe7w6RIEP2FgWhyxWCF/zfWlxjUmL17XigP0RSs26T8zJWdwIHEDNsWuhMl/BsL9+zR/LzlIv0z+IzCt/3VwzxYendcohHgHoZd/GPp5B8CjlfVrCy5RvX59+8GnSliuHPHCUuMlhjT5VXkoMQWjp8kbAe4eCPQwwa1U3HUt3Xj1SRMec4WH3KFZPrHsgFXtE5/zCR6CyV0HIafwLPLQAd2RgJ3FZ5HNx2NTStwQC9pnnfwbUJKC5Jx4eAUNgb+3D8ICvHAhPxuJRaKyzdXVCvnbpL7W4gB90YpN5OHZGSN63o553cMR5OGDwIBRaFeVhZLyvLoPNIGD9MuEEpzNEh59TQhGdZuIcO8OCA/sh/6+Qc3PAeiwv8glRpBnBfjX+NdujW8pbrk4nPgOVuX647Fx7+Hj8U9iZNEuvBN7CMmWrpBhTRIA73JvDBw0UJ6xYA+sap+guqorJvV/Bm9P/hjLR8xHefrX+Dj7DIoukWATWNg+a+sHN3eY3MTwnFauJgU7z21DtNtt+N8Jy7HIrxJRF3biQk0zMSUr5W9dfd1EXd3haapfGV4ziWscKtVdag4H6YtWbNN/lSgNHI27xyzDx1e/h2cHDsKJ5E9wMFd8aSv7zxb1qyo6jW+P/QUvHPor3jzxPg4VJ2Jf6k5sz0tGiY31yxFcsrM0D1WZPmM6ToScAG4RFyydRRVORlBAfwwM7AU/4Rmm5cUirjAd5Wy8JZSK8iHQI70HNm7ciGHDhtklbmB9+3zROWgAIvw7wqMqB/H5sbhQXIgaG7fPqvqJHvTw6YYBAaEozBH1qixBdU0QegT3R1+/AJSVJOJ0zhlk0i1vSqRWyt+6+rZDJ7++6OGVguj8TBTL0YIfugZFoKt7Jk7mJqGUKwqa+3kH6YtWbNJ/FaL/vDshQsijp6c3KirTcTr/FFJKxfCzlf1nM/2q+2oaxt7ivqgsT8WFosxW168tuOQWDg4Oxvhx4+GTIFzmFHHB0nqKb8oriMO+xG34IXEnTtAAamnjWVEuAJOvmoyuXbvaTUDWt69EGPbD+Fm0b3vKQSTQANqhfVbVT3ymsjQZJ9KP4LxZQU15SMzdj58St2NvdlzzBpBYKX/r6luM9MJjOJhVZwD5b9yKkJJ7SFy70LIBJA7SF63YpP94V5anIzZ9J7YJfduRegzJJcIA1n66cRytX3VUV1fgTPZxJBQKA1h3rVF02l/kEiPIoxynTp2KTtWdgOPigpbEbn4b450s/Lul7eTkwjHRQTXBuOW2W2RH2Qu9t8/q+rEuDetkrm9LdW2F/K2ur7luDevbUl2JA/VFKzbrP/NrS/StrfSLmK/bqH5tAav+Kzhrc9n4yzB+7Hh47PKoPUWNwX97we/mSVVHgBlTZ2DChAl2DZrqvX1Gk7+z64tWlH41QOf9RS4xgnRTu3fvjnnz56GHXw9gs7iYX/ueXeCT6GcgIjgCCxculFP49kTv7TOa/J1dX7Si9KsBOu8v0uj2+hRUWFgYyivKEfV9FMpLyuU22Zp3XWkJ5iptBELOheC3j/0Ws2fPlk8J/r490Xv7jCZ/o9XX3uhdHqq/fk2Tp82xsjxFPjsjG6d2nEJFcQWs2n6qMSgD5iltAbx/8caCOQvw4IMPymP55NsOEJLe22c0+Tu7vmhF6ZcoBumvJj1BFn9/f3lmaE5qDmK2x6AiTQiK7eC5Aa1pR4Iom8RYPMokBfSHP/wB4eHh8gAWRwhI7+3Te/0aYrT62hu9y0Pv9XM0TXqChBXmTM7IkSNRXVqNmO9jUHKkRDxGxJsUlgc/xE+2AOfOWYSMsVf8k7Vu6JjeEUsWLcHSpUula04BORq9t89o8nd2fdGK0i9j9FezRpBQUDw0edy4cejduzdS41JRcKgAZafKaqe+2TYKgPDv5rYy/4tB0UJR0kQ5JMrX4iFzLADj+ozDM888IwOldJH5G22F3ttnNPkbrb72Ru/yUP0lZNBwxUhT8GOlpaWIjo7Gt99+i20/bMOBkweQJ/5DZ/EBPjkCRTGvhqGACkTh8px0oINbB4yIGIFrr7kWU6dNxaBBg+Dr66sbAem9fUaTv7Pri1aUfukXTUbQ/CdPrDp//jxOnTyFqKgouWX36fjTSM1KRWkZ18cAvt6+6NSxE/r16YdRI0dh9JjRcqkMXWMfHx/pHvO79CIkvbdP7/VriNHqa2/0Lg+918+eWGwEm6KkpASZmZnIy8tDUVGR3DabDefsE58EjDl07NjRsE9xvbfPaPJ3dn3RitKvtqfVRlChUCiMjDnMqVAoFC6JMoIKhcKlUUZQoVC4NMoIKhQKl0YZQYVC4dIoI6hQKFwaZQQVCoVLo4ygQqFwaZQRVCgULo0yggqFwqVRRlChULg0yggqFAqXRhlBhULh0igjqFAoXBplBBUKhUujjKBCoXBplBFUKBQujTKCCoXCpVFGUKFQuDDA/wezWfm5UUldswAAAABJRU5ErkJggg==)"
      ],
      "metadata": {
        "id": "eOl8fGWnPDDd"
      }
    },
    {
      "cell_type": "code",
      "source": [
        "## Topic 2. 트리 설명하기\n",
        "# 전위: root, left, right\n",
        "# 중위: left, value, right\n",
        "# 후위: right, value, left\n",
        "root = node(1)\n",
        "root.left = node(2)\n",
        "root.right = node(3)\n",
        "root.left.left = node(4)\n",
        "root.left.right = node(5)\n",
        "root.right.left = node(6)\n",
        "root.right.right = node(7)\n",
        "root.left.left.left = node(8)\n",
        "root.left.left.right = node(9)\n",
        "root.left.right.left = node(10)\n",
        "root.left.right.right = node(11)\n",
        "root.right.left.right = node(13)\n",
        "root.right.right.left = node(14)\n",
        "\n",
        "print(root.data)"
      ],
      "metadata": {
        "colab": {
          "base_uri": "https://localhost:8080/"
        },
        "id": "qsEgXx7VO7mG",
        "outputId": "3d79dc57-604d-4a03-c478-4c273a78d48e"
      },
      "execution_count": 214,
      "outputs": [
        {
          "output_type": "stream",
          "name": "stdout",
          "text": [
            "1\n"
          ]
        }
      ]
    },
    {
      "cell_type": "code",
      "source": [
        "# 전위 순회 \n",
        "res = []\n",
        "def pre_order(node):\n",
        "  global res\n",
        "  res.append(node.data)     # 루트노드\n",
        "  if node.left:\n",
        "    pre_order(node.left)    # 왼쪽노드\n",
        "  if node.right:\n",
        "    pre_order(node.right)   # 오른쪽노드\n",
        "\n",
        "  return res\n",
        "\n",
        "pre_order(root)"
      ],
      "metadata": {
        "colab": {
          "base_uri": "https://localhost:8080/"
        },
        "id": "BJN2vvJYQJG8",
        "outputId": "f304ef85-c4fa-4777-e67a-4767fc92c95a"
      },
      "execution_count": 217,
      "outputs": [
        {
          "output_type": "execute_result",
          "data": {
            "text/plain": [
              "[1, 2, 4, 8, 9, 5, 10, 11, 3, 6, 13, 7, 14]"
            ]
          },
          "metadata": {},
          "execution_count": 217
        }
      ]
    },
    {
      "cell_type": "code",
      "source": [
        "# 중위 순회 \n",
        "res = []\n",
        "def in_order(node):\n",
        "  global res\n",
        "  if node.left:\n",
        "    in_order(node.left)    # 왼쪽노드\n",
        "  res.append(node.data)    # 루트노드\n",
        "  if node.right:\n",
        "    in_order(node.right)   # 오른쪽노드\n",
        "\n",
        "  return res\n",
        "\n",
        "in_order(root)"
      ],
      "metadata": {
        "colab": {
          "base_uri": "https://localhost:8080/"
        },
        "id": "-wtnOXswQ_my",
        "outputId": "d0a00304-e204-4c7f-e8f9-febe4c445d6d"
      },
      "execution_count": 222,
      "outputs": [
        {
          "output_type": "execute_result",
          "data": {
            "text/plain": [
              "[8, 4, 9, 2, 10, 5, 11, 1, 6, 13, 3, 14, 7]"
            ]
          },
          "metadata": {},
          "execution_count": 222
        }
      ]
    },
    {
      "cell_type": "code",
      "source": [
        "# 후위 순회 \n",
        "res = []\n",
        "def post_order(node):\n",
        "  global res\n",
        "  if node.left:\n",
        "    post_order(node.left)    # 왼쪽노드\n",
        "  if node.right:\n",
        "    post_order(node.right)   # 오른쪽노드\n",
        "  res.append(node.data)      # 루트노드\n",
        "  return res\n",
        "\n",
        "post_order(root)"
      ],
      "metadata": {
        "colab": {
          "base_uri": "https://localhost:8080/"
        },
        "id": "4YaKUC3IRK_q",
        "outputId": "17f22c82-fb91-409b-c73e-f3b34eb77c6a"
      },
      "execution_count": 220,
      "outputs": [
        {
          "output_type": "execute_result",
          "data": {
            "text/plain": [
              "[8, 9, 4, 10, 11, 5, 2, 13, 6, 14, 7, 3, 1]"
            ]
          },
          "metadata": {},
          "execution_count": 220
        }
      ]
    },
    {
      "cell_type": "code",
      "source": [
        "# 입력에 따른 인접 행렬 출력\n",
        "test = adj_matrix(inputs)\n",
        "print('노드:', [1,2,3,4,5,6])\n",
        "for i, row in enumerate(test):\n",
        "  print('   ',i+1, row)"
      ],
      "metadata": {
        "colab": {
          "base_uri": "https://localhost:8080/"
        },
        "id": "a-saoQbdXIrv",
        "outputId": "2cde70d8-5460-49f3-ca7e-113096ff7342"
      },
      "execution_count": 224,
      "outputs": [
        {
          "output_type": "stream",
          "name": "stdout",
          "text": [
            "노드: [1, 2, 3, 4, 5, 6]\n",
            "    1 [0, 0, 41, 10, 24, 25]\n",
            "    2 [0, 0, 22, 66, 0, 0]\n",
            "    3 [41, 22, 0, 0, 24, 0]\n",
            "    4 [10, 66, 0, 0, 0, 50]\n",
            "    5 [24, 0, 24, 0, 0, 2]\n",
            "    6 [25, 0, 0, 50, 2, 0]\n"
          ]
        }
      ]
    },
    {
      "cell_type": "code",
      "source": [
        "# Topic Adv. 코딩테스트 합승요금 solution, 킹갓GPT\n",
        "import heapq\n",
        "\n",
        "# 다익스트라 알고리즘에 의거, start 노드로부터 각 노드까지 최소 거리를 리스트로 반환\n",
        "def dijkstra(graph, start):\n",
        "    n = len(graph)\n",
        "    dist = [float('inf')] * n\n",
        "    dist[start] = 0\n",
        "    heap = [(0, start)]\n",
        "    \n",
        "    while heap:\n",
        "        cost, node = heapq.heappop(heap)\n",
        "        if cost > dist[node]:\n",
        "            continue\n",
        "        for next_node, next_cost in graph[node]:\n",
        "            if cost + next_cost < dist[next_node]:\n",
        "                dist[next_node] = cost + next_cost\n",
        "                heapq.heappush(heap, (dist[next_node], next_node))\n",
        "    \n",
        "    return dist\n",
        "\n",
        "def solution(n, s, a, b, fares):\n",
        "    graph = [[] for _ in range(n)]\n",
        "    for u, v, w in fares:\n",
        "        graph[u-1].append((v-1, w))\n",
        "        graph[v-1].append((u-1, w))\n",
        "    \n",
        "    # graph = adj_matrix(fares)\n",
        "    # print(graph)\n",
        "\n",
        "    s -= 1\n",
        "    a -= 1\n",
        "    b -= 1\n",
        "    \n",
        "    dist = dijkstra(graph, s)\n",
        "    \n",
        "    min_fare = float('inf')\n",
        "    for i in range(n):\n",
        "        fare = dijkstra(graph, i)[a] + dijkstra(graph, i)[b] + dist[i]\n",
        "        if fare < min_fare:\n",
        "            min_fare = fare\n",
        "    \n",
        "    return min_fare"
      ],
      "metadata": {
        "id": "JHzQUjYPXY_N"
      },
      "execution_count": 238,
      "outputs": []
    },
    {
      "cell_type": "code",
      "source": [
        "solution(6,4,6,2,[[4, 1, 10], [3, 5, 24], [5, 6, 2], [3, 1, 41], [5, 1, 24], [4, 6, 50], [2, 4, 66], [2, 3, 22], [1, 6, 25]])"
      ],
      "metadata": {
        "colab": {
          "base_uri": "https://localhost:8080/"
        },
        "id": "uNpKni0HaL9E",
        "outputId": "6c5f92fd-b6fa-460f-8462-cc73901a2660"
      },
      "execution_count": 240,
      "outputs": [
        {
          "output_type": "execute_result",
          "data": {
            "text/plain": [
              "82"
            ]
          },
          "metadata": {},
          "execution_count": 240
        }
      ]
    },
    {
      "cell_type": "code",
      "source": [
        "solution(7,3,4,1,[[5, 7, 9], [4, 6, 4], [3, 6, 1], [3, 2, 3], [2, 1, 6]])"
      ],
      "metadata": {
        "colab": {
          "base_uri": "https://localhost:8080/"
        },
        "id": "PJnM3eyOaS9A",
        "outputId": "a8bd9f9c-2fc4-47c1-f621-b4f14f4e8944"
      },
      "execution_count": 241,
      "outputs": [
        {
          "output_type": "execute_result",
          "data": {
            "text/plain": [
              "14"
            ]
          },
          "metadata": {},
          "execution_count": 241
        }
      ]
    },
    {
      "cell_type": "code",
      "source": [
        "solution(6,4,5,6,[[2,6,6], [6,3,7], [4,6,7], [6,5,11], [2,5,12], [5,3,20], [2,4,8], [4,3,9]])"
      ],
      "metadata": {
        "colab": {
          "base_uri": "https://localhost:8080/"
        },
        "id": "DKaTq1vLaXUy",
        "outputId": "2e883eda-b989-426c-91a0-1f12ad2497ae"
      },
      "execution_count": 229,
      "outputs": [
        {
          "output_type": "execute_result",
          "data": {
            "text/plain": [
              "18"
            ]
          },
          "metadata": {},
          "execution_count": 229
        }
      ]
    }
  ]
}