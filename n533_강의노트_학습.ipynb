{
  "nbformat": 4,
  "nbformat_minor": 0,
  "metadata": {
    "colab": {
      "provenance": [],
      "authorship_tag": "ABX9TyP3Qf1hpbYoDiqiykX+NXwr",
      "include_colab_link": true
    },
    "kernelspec": {
      "name": "python3",
      "display_name": "Python 3"
    },
    "language_info": {
      "name": "python"
    }
  },
  "cells": [
    {
      "cell_type": "markdown",
      "metadata": {
        "id": "view-in-github",
        "colab_type": "text"
      },
      "source": [
        "<a href=\"https://colab.research.google.com/github/ysooch0819/AI16-Projects/blob/main/n533_%EA%B0%95%EC%9D%98%EB%85%B8%ED%8A%B8_%ED%95%99%EC%8A%B5.ipynb\" target=\"_parent\"><img src=\"https://colab.research.google.com/assets/colab-badge.svg\" alt=\"Open In Colab\"/></a>"
      ]
    },
    {
      "cell_type": "code",
      "execution_count": null,
      "metadata": {
        "colab": {
          "base_uri": "https://localhost:8080/"
        },
        "id": "fVVwbkVs1s6A",
        "outputId": "71cd6442-11f5-4d2a-dcca-cdda421dd187"
      },
      "outputs": [
        {
          "output_type": "stream",
          "name": "stdout",
          "text": [
            "7\n",
            "6\n",
            "1 2\n",
            "2 3\n",
            "1 5\n",
            "5 2\n",
            "5 6\n",
            "4 7\n",
            "4\n"
          ]
        }
      ],
      "source": [
        "edge_num = int(input())\n",
        "edges = []\n",
        "for _ in range(edge_num):\n",
        "    s,e = list( map(int,input().split()))\n",
        "    edges.append([s,e])\n",
        "\n",
        "\n",
        "que = []\n",
        "visit = []\n",
        "\n",
        "# 출발지\n",
        "que.append(1)\n",
        "\n",
        "# BFS\n",
        "while True:\n",
        "\t\n",
        "    # 큐가 비면 종료\n",
        "    if len(que) == 0 : break\n",
        "    cur = que.pop(0)\n",
        "\n",
        "    for ed in edges:\n",
        "        if cur in ed:\n",
        "            # cur 부분은 제거\n",
        "            ed.remove(cur)\n",
        "            # 남은 부분이 cur와 연결된 값.\n",
        "            v = ed.pop()\n",
        "            # que와 visit에 input\n",
        "            if v not in visit:\n",
        "                que.append(v)\n",
        "                visit.append(v)\n",
        "\n",
        "print(len(visit))\n"
      ]
    },
    {
      "cell_type": "code",
      "source": [
        "def char_combi(num):\n",
        "    # 현재 탐색하고 있는 숫자의 인덱스 idx, 지금까지 선택한 문자열조합 combination\n",
        "    def dfs(idx, combination):\n",
        "        # num: 주어진 숫자조합(문자열), len(num): \n",
        "        if idx ==  len(num):\n",
        "            print(combination)\n",
        "            test_result.append(combination)\n",
        "            return\n",
        "        # test_dict의 해당 num의 문자열에 들어있는 모든 문자c에 대해서 반복\n",
        "        print(combination)\n",
        "        for c in test_dict[num[idx]]:\n",
        "            # print(combination, c)\n",
        "            # 재귀 호출\n",
        "            dfs(idx+1, combination+c)\n",
        "\n",
        "    test_dict = {\"2\": \"qwe\", \"3\": \"asd\", \"4\": \"zxc\"} # 입력 받은 숫자에 대응하는 문자열\n",
        "    test_result = [] # 문자열 조합 결과\n",
        "    # 작성한 함수 초기 호출, 0번인덱스부터 시작, 초기 조합: ''\n",
        "    dfs(0, '')\n",
        "    return test_result"
      ],
      "metadata": {
        "id": "ZElhVfIPUPxm"
      },
      "execution_count": 13,
      "outputs": []
    },
    {
      "cell_type": "code",
      "source": [
        "char_combi('34')"
      ],
      "metadata": {
        "colab": {
          "base_uri": "https://localhost:8080/"
        },
        "id": "8ccGtowaUROX",
        "outputId": "1f9cc7cc-b05a-471a-9dc7-b466735c1173"
      },
      "execution_count": 15,
      "outputs": [
        {
          "output_type": "stream",
          "name": "stdout",
          "text": [
            "\n",
            "a\n",
            "az\n",
            "ax\n",
            "ac\n",
            "s\n",
            "sz\n",
            "sx\n",
            "sc\n",
            "d\n",
            "dz\n",
            "dx\n",
            "dc\n"
          ]
        },
        {
          "output_type": "execute_result",
          "data": {
            "text/plain": [
              "['az', 'ax', 'ac', 'sz', 'sx', 'sc', 'dz', 'dx', 'dc']"
            ]
          },
          "metadata": {},
          "execution_count": 15
        }
      ]
    },
    {
      "cell_type": "code",
      "source": [
        "def dfs_stack(start_node, graph):\n",
        "    visited = []   # 방문 리스트\n",
        "    stack = [start_node]\n",
        "\n",
        "    # 반복문(스택 안에 값이 있는 동안 반복):\n",
        "    while stack:\n",
        "        # 스택에서 pop\n",
        "        node = stack.pop() \n",
        "        # 방문 리스트에 없는 경우:\n",
        "        if node not in visited:\n",
        "            # 스택에 인접 노드 push\n",
        "            visited.append(node)\n",
        "            # 방문리스트에 기록\n",
        "            stack.extend(graph[node])\n",
        "    return visited"
      ],
      "metadata": {
        "id": "XwCj2DyTUxNH"
      },
      "execution_count": 74,
      "outputs": []
    },
    {
      "cell_type": "code",
      "source": [
        "def dfs_recur(node, dfs_graph, dfs_list=[]):\n",
        "    dfs_list.append(node)  # 현재 노드를 dfs_list에 추가\n",
        "    for neighbor in dfs_graph[node]:  # 현재 노드와 인접한 노드를 차례로 방문\n",
        "        if neighbor not in dfs_list:  # 방문하지 않은 노드라면\n",
        "            dfs_recur(neighbor, dfs_graph, dfs_list)  # 재귀 호출\n",
        "    return dfs_list"
      ],
      "metadata": {
        "id": "uRGca18X8ejX"
      },
      "execution_count": 71,
      "outputs": []
    },
    {
      "cell_type": "code",
      "source": [
        "graph_1 =  {\n",
        "    0: [1,2],\n",
        "    1: [3,4],\n",
        "    2: [5,6],\n",
        "    3: [],\n",
        "    4: [],\n",
        "    5: [],\n",
        "    6: []\n",
        "}\n",
        "dfs_recur(0, graph_1)"
      ],
      "metadata": {
        "colab": {
          "base_uri": "https://localhost:8080/"
        },
        "id": "celqLelP_ndB",
        "outputId": "b41c96c7-4dce-45d5-f6d7-cd801a9cf478"
      },
      "execution_count": 72,
      "outputs": [
        {
          "output_type": "execute_result",
          "data": {
            "text/plain": [
              "[0, 1, 3, 4, 2, 5, 6]"
            ]
          },
          "metadata": {},
          "execution_count": 72
        }
      ]
    },
    {
      "cell_type": "code",
      "source": [
        "dfs_stack(0, graph_1)"
      ],
      "metadata": {
        "colab": {
          "base_uri": "https://localhost:8080/"
        },
        "id": "kd_FGcpCU32_",
        "outputId": "bffa7f89-7f60-4b21-ce3f-416b0f3eb0c4"
      },
      "execution_count": 75,
      "outputs": [
        {
          "output_type": "execute_result",
          "data": {
            "text/plain": [
              "[0, 2, 6, 5, 1, 4, 3]"
            ]
          },
          "metadata": {},
          "execution_count": 75
        }
      ]
    },
    {
      "cell_type": "code",
      "source": [
        "graph_0 = {\n",
        "    0: [1,2,3],\n",
        "    1: [4],\n",
        "    2: [5],\n",
        "    3: [],\n",
        "    4: [6],\n",
        "    5: [4],\n",
        "    6: [5],\n",
        "}\n",
        "\n",
        "dfs_recur(1, graph_0)"
      ],
      "metadata": {
        "colab": {
          "base_uri": "https://localhost:8080/"
        },
        "id": "XFEBKHxk8hu2",
        "outputId": "fadf17da-017f-42ee-861e-2f8a72e26811"
      },
      "execution_count": 69,
      "outputs": [
        {
          "output_type": "execute_result",
          "data": {
            "text/plain": [
              "[1, 4, 6, 5]"
            ]
          },
          "metadata": {},
          "execution_count": 69
        }
      ]
    },
    {
      "cell_type": "code",
      "source": [
        "dfs_recur(0, graph_0)"
      ],
      "metadata": {
        "colab": {
          "base_uri": "https://localhost:8080/"
        },
        "id": "Z9JLi5syNfqP",
        "outputId": "ae8e01b1-0ffc-40ca-a162-4e2baa390fcb"
      },
      "execution_count": 34,
      "outputs": [
        {
          "output_type": "execute_result",
          "data": {
            "text/plain": [
              "[0, 1, 3, 4, 2, 5, 6, 0]"
            ]
          },
          "metadata": {},
          "execution_count": 34
        }
      ]
    },
    {
      "cell_type": "code",
      "source": [
        "from collections import deque\n",
        "\n",
        "# BFS 메서드 정의\n",
        "def bfs(start_node, graph):\n",
        "    # 방문 처리용 리스트 만들기\n",
        "    visited = []\n",
        "    # 시작 노드를 큐에 삽입\n",
        "    queue = deque([start_node])\n",
        "\n",
        "    # 큐가 완전히 빌 때까지 반복\n",
        "    while queue:\n",
        "        # 큐에서 값을 뽑아낸다.\n",
        "        cur_node = queue.popleft()  # 리스트의 queue.pop(0)과 같다. 그러나 시간복잡도 상수시간 보장\n",
        "        # 해당 노드가 방문처리 된 노드라면\n",
        "        if cur_node not in visited:\n",
        "            # 방문처리용 큐에 노드 추가\n",
        "            visited.append(cur_node)\n",
        "            # 해당 노드의 인접한 노드를 큐에 추가\n",
        "            queue.extend(graph[cur_node])\n",
        "    return visited"
      ],
      "metadata": {
        "id": "MQ4eyD4c86P6"
      },
      "execution_count": 18,
      "outputs": []
    },
    {
      "cell_type": "code",
      "source": [
        "bfs(0, graph_0)"
      ],
      "metadata": {
        "colab": {
          "base_uri": "https://localhost:8080/"
        },
        "id": "HqAw49yK87Sk",
        "outputId": "2f17de93-6795-47c4-a66b-eb6f1c769d7c"
      },
      "execution_count": 19,
      "outputs": [
        {
          "output_type": "execute_result",
          "data": {
            "text/plain": [
              "[0, 1, 2, 3, 4, 5, 6]"
            ]
          },
          "metadata": {},
          "execution_count": 19
        }
      ]
    },
    {
      "cell_type": "code",
      "source": [
        "from queue import Queue\n",
        "def bfs_queue(start_node, bfs_graph):\n",
        "    visited = []  # 방문한 노드를 기록할 set\n",
        "    queue = Queue()  # bfs 탐색에 사용할 큐\n",
        "    queue.put(start_node)  # 시작 노드를 큐에 추가\n",
        "    visited.append(start_node)  # 시작 노드를 방문한 것으로 처리\n",
        "    # print('현재 queue:', queue)\n",
        "    while not queue.empty():  # 큐가 빌 때까지 반복\n",
        "        node = queue.get()  # 큐에서 하나의 노드를 꺼내옴\n",
        "        print('현재 node:', node)\n",
        "        # 현재 노드와 인접한 노드를 차례로 방문\n",
        "        for neighbor in bfs_graph[node]:\n",
        "            print('neighbor:', neighbor)\n",
        "            print('visited:', visited)\n",
        "            if neighbor not in visited:  # 방문하지 않은 노드라면\n",
        "                visited.append(neighbor)  # 방문한 것으로 처리\n",
        "                queue.put(neighbor)  # 큐에 추가\n",
        "\n",
        "    return visited"
      ],
      "metadata": {
        "id": "S230_e5YCxxD"
      },
      "execution_count": 27,
      "outputs": []
    },
    {
      "cell_type": "code",
      "source": [
        "bfs_queue(0, graph_0)"
      ],
      "metadata": {
        "colab": {
          "base_uri": "https://localhost:8080/"
        },
        "id": "dsTm1TDvC-U-",
        "outputId": "00a9f6a9-4578-49f9-ba79-83b3ef873ba5"
      },
      "execution_count": 28,
      "outputs": [
        {
          "output_type": "stream",
          "name": "stdout",
          "text": [
            "현재 node: 0\n",
            "neighbor: 1\n",
            "visited: [0]\n",
            "neighbor: 2\n",
            "visited: [0, 1]\n",
            "neighbor: 3\n",
            "visited: [0, 1, 2]\n",
            "현재 node: 1\n",
            "neighbor: 4\n",
            "visited: [0, 1, 2, 3]\n",
            "현재 node: 2\n",
            "neighbor: 5\n",
            "visited: [0, 1, 2, 3, 4]\n",
            "현재 node: 3\n",
            "현재 node: 4\n",
            "neighbor: 6\n",
            "visited: [0, 1, 2, 3, 4, 5]\n",
            "현재 node: 5\n",
            "neighbor: 4\n",
            "visited: [0, 1, 2, 3, 4, 5, 6]\n",
            "현재 node: 6\n",
            "neighbor: 5\n",
            "visited: [0, 1, 2, 3, 4, 5, 6]\n"
          ]
        },
        {
          "output_type": "execute_result",
          "data": {
            "text/plain": [
              "[0, 1, 2, 3, 4, 5, 6]"
            ]
          },
          "metadata": {},
          "execution_count": 28
        }
      ]
    }
  ]
}