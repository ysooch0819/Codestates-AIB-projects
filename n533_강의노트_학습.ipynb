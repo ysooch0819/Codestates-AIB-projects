{
  "nbformat": 4,
  "nbformat_minor": 0,
  "metadata": {
    "colab": {
      "provenance": [],
      "authorship_tag": "ABX9TyPi2xcebBdAdl8CFDRbd3XS",
      "include_colab_link": true
    },
    "kernelspec": {
      "name": "python3",
      "display_name": "Python 3"
    },
    "language_info": {
      "name": "python"
    }
  },
  "cells": [
    {
      "cell_type": "markdown",
      "metadata": {
        "id": "view-in-github",
        "colab_type": "text"
      },
      "source": [
        "<a href=\"https://colab.research.google.com/github/ysooch0819/AI16-Projects/blob/main/n533_%EA%B0%95%EC%9D%98%EB%85%B8%ED%8A%B8_%ED%95%99%EC%8A%B5.ipynb\" target=\"_parent\"><img src=\"https://colab.research.google.com/assets/colab-badge.svg\" alt=\"Open In Colab\"/></a>"
      ]
    },
    {
      "cell_type": "markdown",
      "source": [
        "![image.png](data:image/png;base64,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)"
      ],
      "metadata": {
        "id": "knBSJaYwjQD2"
      }
    },
    {
      "cell_type": "code",
      "source": [
        "from collections import deque\n",
        "# 위 그래프를 인접리스트로 표현, undirected graph\n",
        "graph = {\n",
        "    0: [2,3],\n",
        "    1: [2,3,4],\n",
        "    2: [0,4],\n",
        "    3: [0],\n",
        "    4: [1,5],\n",
        "    5: [2,4]\n",
        "}"
      ],
      "metadata": {
        "id": "YRvprY7pgmjX"
      },
      "execution_count": 8,
      "outputs": []
    },
    {
      "cell_type": "code",
      "source": [
        "## 시작 노드가 1, BFS로 탐색하면 어떤 출력이 나올까?\n",
        "# queue []\n",
        "# node \n",
        "# node가 visited [] 에 있나? 없으면 추가 -> [1, 2, 3, 4, 0, 5]\n",
        "# graph[node] : [2,4]\n",
        "## bfs의 결과: [1, 2, 3, 4, 0, 5]"
      ],
      "metadata": {
        "id": "A7XlxDP7jd68"
      },
      "execution_count": 18,
      "outputs": []
    },
    {
      "cell_type": "code",
      "source": [
        "def bfs_deque(graph, start_node):\n",
        "  visited = [] # bfs의 방문 결과 리스트\n",
        "  queue = deque([start_node]) # queue 에 가장먼저 시작지점인 start_node 넣기\n",
        "\n",
        "  while queue: # queue 가 비어있지 않다면 반복\n",
        "    node = queue.popleft() # queue의 첫 노드를 꺼내서 \n",
        "    if node not in visited: # node가 방문 리스트에 없다면\n",
        "      visited.append(node) # 방문리스트에 node추가\n",
        "      queue.extend(graph[node]) # 해당 node에서 갈 수 있는 graph[node] 리스트를 queue에 추가\n",
        "  \n",
        "  return visited\n",
        "\n",
        "bfs_deque(graph, 1)"
      ],
      "metadata": {
        "colab": {
          "base_uri": "https://localhost:8080/"
        },
        "id": "rPIAAmD1g8OW",
        "outputId": "0a5a1c24-50a4-4b1e-b361-1c10f32fb377"
      },
      "execution_count": 15,
      "outputs": [
        {
          "output_type": "execute_result",
          "data": {
            "text/plain": [
              "[1, 2, 3, 4, 0, 5]"
            ]
          },
          "metadata": {},
          "execution_count": 15
        }
      ]
    },
    {
      "cell_type": "code",
      "source": [
        "## 시작 노드가 1, DFS로 탐색하면?\n",
        "# stack []\n",
        "# node \n",
        "# visited [1, 4, 5, 2, 0, 3]\n",
        "# graph[node]\n",
        "## dfs의 결과: [1, 4, 5, 2, 0, 3]"
      ],
      "metadata": {
        "id": "pbhCO0rFo20L"
      },
      "execution_count": 19,
      "outputs": []
    },
    {
      "cell_type": "code",
      "source": [
        "def dfs_stack(graph, start_node):\n",
        "  visited = [] # dfs의 방문 결과 리스트\n",
        "  stack = [start_node] # stack에 가장 먼저 시작지점인 start_node 넣기\n",
        "  while stack: # stack이 비어있지 않다면 반복\n",
        "    node = stack.pop() \n",
        "    if node not in visited:\n",
        "      visited.append(node)\n",
        "      stack.extend(graph[node])\n",
        "\n",
        "  return visited\n",
        "\n",
        "dfs_stack(graph, 1)"
      ],
      "metadata": {
        "colab": {
          "base_uri": "https://localhost:8080/"
        },
        "id": "YA6l7NX9lDY5",
        "outputId": "3827b2df-bf78-4df9-9c6f-5b400e77fa24"
      },
      "execution_count": 16,
      "outputs": [
        {
          "output_type": "execute_result",
          "data": {
            "text/plain": [
              "[1, 4, 5, 2, 0, 3]"
            ]
          },
          "metadata": {},
          "execution_count": 16
        }
      ]
    },
    {
      "cell_type": "code",
      "source": [
        "def char_combi(num):\n",
        "    # 현재 탐색하고 있는 숫자의 인덱스 idx, 지금까지 선택한 문자열조합 combination\n",
        "    def dfs(idx, combination):\n",
        "        # num: 주어진 숫자조합(문자열), len(num): \n",
        "        if idx ==  len(num):\n",
        "            test_result.append(combination)\n",
        "            return\n",
        "        # test_dict의 해당 num의 문자열에 들어있는 모든 문자c에 대해서 반복\n",
        "        for c in test_dict[num[idx]]:\n",
        "            dfs(idx+1, combination+c)\n",
        "\n",
        "    test_dict = {\"2\": \"qwe\", \"3\": \"asd\", \"4\": \"zxc\"} # 입력 받은 숫자에 대응하는 문자열\n",
        "    test_result = [] # 문자열 조합 결과\n",
        "    # 작성한 함수 초기 호출, 0번인덱스부터 시작, 초기 조합: ''\n",
        "    dfs(0, '')\n",
        "    return test_result"
      ],
      "metadata": {
        "id": "ZElhVfIPUPxm"
      },
      "execution_count": 25,
      "outputs": []
    },
    {
      "cell_type": "code",
      "source": [],
      "metadata": {
        "id": "VY86ph4-D9Az"
      },
      "execution_count": null,
      "outputs": []
    },
    {
      "cell_type": "code",
      "source": [
        "char_combi('23')"
      ],
      "metadata": {
        "colab": {
          "base_uri": "https://localhost:8080/"
        },
        "id": "8ccGtowaUROX",
        "outputId": "b2236c0d-4e27-4176-bcdb-1ef68bac3ddd"
      },
      "execution_count": 28,
      "outputs": [
        {
          "output_type": "execute_result",
          "data": {
            "text/plain": [
              "['qa', 'qs', 'qd', 'wa', 'ws', 'wd', 'ea', 'es', 'ed']"
            ]
          },
          "metadata": {},
          "execution_count": 28
        }
      ]
    },
    {
      "cell_type": "code",
      "source": [
        "##### char_combi('34')\n",
        "# num 34\n",
        "# dfs(0, ''), combination ''\n",
        "# idx 0, len(num) 2\n",
        "# num[idx] 3, test_dict[3] 'asd'\n",
        "# c 'a' -> dfs(1, ''+'a')\n",
        "## dfs(1, 'a'), combination 'a'\n",
        "## idx 1, len(num) 2, \n",
        "## num[idx] 4, test_dict[4] 'zxc'\n",
        "## c 'z' -> dfs(2, 'a'+'z')\n",
        "### dfs(2, 'az'), combination 'az'\n",
        "### idx 2, len(num) 2\n",
        "### test_result ['az']\n",
        "## c 'x' -> dfs(2, 'a'+'x')\n",
        "### dfs(2, 'ax'), combination 'ax'\n",
        "### idx 2, len(num) 2\n",
        "### test_result ['az', 'ax']\n",
        "## c 'c'\n",
        "### test_result ['az', 'ax', 'ac']\n",
        "# c 's' -> dfs(1, ''+'s')\n",
        "### test_result ['az', 'ax', 'ac', 'sz', 'sx', 'sc']\n",
        "# c 'd' -> dfs(1, ''+'d')\n",
        "### test_result ['az', 'ax', 'ac', 'sz', 'sx', 'sc', 'dz', 'dx', 'dc']\n",
        "# 실행결과:     ['az', 'ax', 'ac', 'sz', 'sx', 'sc', 'dz', 'dx', 'dc']"
      ],
      "metadata": {
        "id": "bzcRgOjLBvNI"
      },
      "execution_count": 23,
      "outputs": []
    },
    {
      "cell_type": "code",
      "source": [
        "def dfs_recur(node, dfs_graph, dfs_list=[]):\n",
        "    dfs_list.append(node)  # 현재 노드를 dfs_list에 추가\n",
        "    for neighbor in dfs_graph[node]:  # 현재 노드와 인접한 노드를 차례로 방문\n",
        "        if neighbor not in dfs_list:  # 방문하지 않은 노드라면\n",
        "            dfs_recur(neighbor, dfs_graph, dfs_list)  # 재귀 호출\n",
        "    return dfs_list"
      ],
      "metadata": {
        "id": "uRGca18X8ejX"
      },
      "execution_count": null,
      "outputs": []
    },
    {
      "cell_type": "code",
      "source": [
        "graph_1 =  {\n",
        "    0: [1,2],\n",
        "    1: [3,4],\n",
        "    2: [5,6],\n",
        "    3: [],\n",
        "    4: [],\n",
        "    5: [],\n",
        "    6: []\n",
        "}\n",
        "dfs_recur(0, graph_1)"
      ],
      "metadata": {
        "colab": {
          "base_uri": "https://localhost:8080/"
        },
        "id": "celqLelP_ndB",
        "outputId": "b41c96c7-4dce-45d5-f6d7-cd801a9cf478"
      },
      "execution_count": null,
      "outputs": [
        {
          "output_type": "execute_result",
          "data": {
            "text/plain": [
              "[0, 1, 3, 4, 2, 5, 6]"
            ]
          },
          "metadata": {},
          "execution_count": 72
        }
      ]
    },
    {
      "cell_type": "code",
      "source": [
        "dfs_stack(0, graph_1)"
      ],
      "metadata": {
        "id": "kd_FGcpCU32_",
        "outputId": "bffa7f89-7f60-4b21-ce3f-416b0f3eb0c4",
        "colab": {
          "base_uri": "https://localhost:8080/"
        }
      },
      "execution_count": null,
      "outputs": [
        {
          "output_type": "execute_result",
          "data": {
            "text/plain": [
              "[0, 2, 6, 5, 1, 4, 3]"
            ]
          },
          "metadata": {},
          "execution_count": 75
        }
      ]
    },
    {
      "cell_type": "code",
      "source": [
        "graph_0 = {\n",
        "    0: [1,2,3],\n",
        "    1: [4],\n",
        "    2: [5],\n",
        "    3: [],\n",
        "    4: [6],\n",
        "    5: [4],\n",
        "    6: [5],\n",
        "}\n",
        "\n",
        "dfs_recur(1, graph_0)"
      ],
      "metadata": {
        "colab": {
          "base_uri": "https://localhost:8080/"
        },
        "id": "XFEBKHxk8hu2",
        "outputId": "fadf17da-017f-42ee-861e-2f8a72e26811"
      },
      "execution_count": null,
      "outputs": [
        {
          "output_type": "execute_result",
          "data": {
            "text/plain": [
              "[1, 4, 6, 5]"
            ]
          },
          "metadata": {},
          "execution_count": 69
        }
      ]
    },
    {
      "cell_type": "code",
      "source": [
        "dfs_recur(0, graph_0)"
      ],
      "metadata": {
        "colab": {
          "base_uri": "https://localhost:8080/"
        },
        "id": "Z9JLi5syNfqP",
        "outputId": "ae8e01b1-0ffc-40ca-a162-4e2baa390fcb"
      },
      "execution_count": null,
      "outputs": [
        {
          "output_type": "execute_result",
          "data": {
            "text/plain": [
              "[0, 1, 3, 4, 2, 5, 6, 0]"
            ]
          },
          "metadata": {},
          "execution_count": 34
        }
      ]
    },
    {
      "cell_type": "code",
      "source": [
        "from collections import deque\n",
        "\n",
        "# BFS 메서드 정의\n",
        "def bfs(start_node, graph):\n",
        "    # 방문 처리용 리스트 만들기\n",
        "    visited = []\n",
        "    # 시작 노드를 큐에 삽입\n",
        "    queue = deque([start_node])\n",
        "\n",
        "    # 큐가 완전히 빌 때까지 반복\n",
        "    while queue:\n",
        "        # 큐에서 값을 뽑아낸다.\n",
        "        cur_node = queue.popleft()  # 리스트의 queue.pop(0)과 같다. 그러나 시간복잡도 상수시간 보장\n",
        "        # 해당 노드가 방문처리 된 노드라면\n",
        "        if cur_node not in visited:\n",
        "            # 방문처리용 큐에 노드 추가\n",
        "            visited.append(cur_node)\n",
        "            # 해당 노드의 인접한 노드를 큐에 추가\n",
        "            queue.extend(graph[cur_node])\n",
        "    return visited"
      ],
      "metadata": {
        "id": "MQ4eyD4c86P6"
      },
      "execution_count": null,
      "outputs": []
    },
    {
      "cell_type": "code",
      "source": [
        "bfs(0, graph_0)"
      ],
      "metadata": {
        "colab": {
          "base_uri": "https://localhost:8080/"
        },
        "id": "HqAw49yK87Sk",
        "outputId": "2f17de93-6795-47c4-a66b-eb6f1c769d7c"
      },
      "execution_count": null,
      "outputs": [
        {
          "output_type": "execute_result",
          "data": {
            "text/plain": [
              "[0, 1, 2, 3, 4, 5, 6]"
            ]
          },
          "metadata": {},
          "execution_count": 19
        }
      ]
    },
    {
      "cell_type": "code",
      "source": [
        "from queue import Queue\n",
        "def bfs_queue(start_node, bfs_graph):\n",
        "    visited = []  # 방문한 노드를 기록할 set\n",
        "    queue = Queue()  # bfs 탐색에 사용할 큐\n",
        "    queue.put(start_node)  # 시작 노드를 큐에 추가\n",
        "    visited.append(start_node)  # 시작 노드를 방문한 것으로 처리\n",
        "    # print('현재 queue:', queue)\n",
        "    while not queue.empty():  # 큐가 빌 때까지 반복\n",
        "        node = queue.get()  # 큐에서 하나의 노드를 꺼내옴\n",
        "        print('현재 node:', node)\n",
        "        # 현재 노드와 인접한 노드를 차례로 방문\n",
        "        for neighbor in bfs_graph[node]:\n",
        "            print('neighbor:', neighbor)\n",
        "            print('visited:', visited)\n",
        "            if neighbor not in visited:  # 방문하지 않은 노드라면\n",
        "                visited.append(neighbor)  # 방문한 것으로 처리\n",
        "                queue.put(neighbor)  # 큐에 추가\n",
        "\n",
        "    return visited"
      ],
      "metadata": {
        "id": "S230_e5YCxxD"
      },
      "execution_count": null,
      "outputs": []
    },
    {
      "cell_type": "code",
      "source": [
        "bfs_queue(0, graph_0)"
      ],
      "metadata": {
        "colab": {
          "base_uri": "https://localhost:8080/"
        },
        "id": "dsTm1TDvC-U-",
        "outputId": "00a9f6a9-4578-49f9-ba79-83b3ef873ba5"
      },
      "execution_count": null,
      "outputs": [
        {
          "output_type": "stream",
          "name": "stdout",
          "text": [
            "현재 node: 0\n",
            "neighbor: 1\n",
            "visited: [0]\n",
            "neighbor: 2\n",
            "visited: [0, 1]\n",
            "neighbor: 3\n",
            "visited: [0, 1, 2]\n",
            "현재 node: 1\n",
            "neighbor: 4\n",
            "visited: [0, 1, 2, 3]\n",
            "현재 node: 2\n",
            "neighbor: 5\n",
            "visited: [0, 1, 2, 3, 4]\n",
            "현재 node: 3\n",
            "현재 node: 4\n",
            "neighbor: 6\n",
            "visited: [0, 1, 2, 3, 4, 5]\n",
            "현재 node: 5\n",
            "neighbor: 4\n",
            "visited: [0, 1, 2, 3, 4, 5, 6]\n",
            "현재 node: 6\n",
            "neighbor: 5\n",
            "visited: [0, 1, 2, 3, 4, 5, 6]\n"
          ]
        },
        {
          "output_type": "execute_result",
          "data": {
            "text/plain": [
              "[0, 1, 2, 3, 4, 5, 6]"
            ]
          },
          "metadata": {},
          "execution_count": 28
        }
      ]
    }
  ]
}