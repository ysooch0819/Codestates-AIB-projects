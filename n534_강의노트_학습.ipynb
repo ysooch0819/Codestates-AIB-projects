{
  "nbformat": 4,
  "nbformat_minor": 0,
  "metadata": {
    "colab": {
      "provenance": [],
      "authorship_tag": "ABX9TyMsJKYj36BxlEETvgpLedaz",
      "include_colab_link": true
    },
    "kernelspec": {
      "name": "python3",
      "display_name": "Python 3"
    },
    "language_info": {
      "name": "python"
    }
  },
  "cells": [
    {
      "cell_type": "markdown",
      "metadata": {
        "id": "view-in-github",
        "colab_type": "text"
      },
      "source": [
        "<a href=\"https://colab.research.google.com/github/ysooch0819/AI16-Projects/blob/main/n534_%EA%B0%95%EC%9D%98%EB%85%B8%ED%8A%B8_%ED%95%99%EC%8A%B5.ipynb\" target=\"_parent\"><img src=\"https://colab.research.google.com/assets/colab-badge.svg\" alt=\"Open In Colab\"/></a>"
      ]
    },
    {
      "cell_type": "code",
      "execution_count": 9,
      "metadata": {
        "colab": {
          "base_uri": "https://localhost:8080/"
        },
        "id": "WLTjwOiQ9n6c",
        "outputId": "d555dfe3-4394-4389-f3ea-33e5a89f2610"
      },
      "outputs": [
        {
          "name": "stdout",
          "output_type": "stream",
          "text": [
            "100\n"
          ]
        },
        {
          "output_type": "execute_result",
          "data": {
            "text/plain": [
              "5050"
            ]
          },
          "metadata": {},
          "execution_count": 9
        }
      ],
      "source": [
        "# 기본적인 반복문과 조건문을 활용한 덧셈\n",
        "def dp_sum(n):\n",
        "    sum = 0\n",
        "    array = [i for i in range(1, n+1)]\n",
        "\n",
        "    for i in array:\n",
        "        if (array[i-1] + array[10-i]) == n+1:     \n",
        "            sum = (array[i-1] + array[10-i]) * len(array)/2   \n",
        "        else:\n",
        "            sum += i\n",
        "\n",
        "    return round(sum)   # 소수점 처리를 위해 round 내장함수 사용\n",
        "\n",
        "dp_sum(int(input()))"
      ]
    },
    {
      "cell_type": "code",
      "source": [
        "# 1 1 2 3 5 8 13 21 34 55 89 144\n",
        "def fib(n):\n",
        "  if n < 3:\n",
        "    return 1\n",
        "  else:\n",
        "    return fib(n-1) + fib(n-2)\n",
        "\n",
        "fib(12)"
      ],
      "metadata": {
        "colab": {
          "base_uri": "https://localhost:8080/"
        },
        "id": "QnUJExubLaKF",
        "outputId": "dd1c18d7-8469-413e-b8f7-61696af37f55"
      },
      "execution_count": 14,
      "outputs": [
        {
          "output_type": "execute_result",
          "data": {
            "text/plain": [
              "144"
            ]
          },
          "metadata": {},
          "execution_count": 14
        }
      ]
    },
    {
      "cell_type": "code",
      "source": [
        "# 탑다운 DP (재귀 + 메모이제이션_캐시활용) 피보나치 수열\n",
        "# 1) 재귀 활용 문제해결 함수\n",
        "def dp_fib_cal(num, dp_memo):\n",
        "  if num < 3:\n",
        "    return 1\n",
        "  if num in dp_memo:\n",
        "    return dp_memo[num]\n",
        "  \n",
        "  dp_memo[num] = dp_fib_cal(num-1, dp_memo) + dp_fib_cal(num-2, dp_memo)\n",
        "  print(dp_memo)\n",
        "  return dp_memo[num]\n",
        "\n",
        "# 메모이제이션 개념 함수\n",
        "def dp(num):\n",
        "  dp_memo = {}\n",
        "  return dp_fib_cal(num, dp_memo)\n",
        "\n",
        "\n",
        "print(dp(12))"
      ],
      "metadata": {
        "colab": {
          "base_uri": "https://localhost:8080/"
        },
        "id": "n_2xVeL-LqiF",
        "outputId": "4e6113b1-457f-4f16-8e3e-e270e4eb4b93"
      },
      "execution_count": 18,
      "outputs": [
        {
          "output_type": "stream",
          "name": "stdout",
          "text": [
            "{3: 2}\n",
            "{3: 2, 4: 3}\n",
            "{3: 2, 4: 3, 5: 5}\n",
            "{3: 2, 4: 3, 5: 5, 6: 8}\n",
            "{3: 2, 4: 3, 5: 5, 6: 8, 7: 13}\n",
            "{3: 2, 4: 3, 5: 5, 6: 8, 7: 13, 8: 21}\n",
            "{3: 2, 4: 3, 5: 5, 6: 8, 7: 13, 8: 21, 9: 34}\n",
            "{3: 2, 4: 3, 5: 5, 6: 8, 7: 13, 8: 21, 9: 34, 10: 55}\n",
            "{3: 2, 4: 3, 5: 5, 6: 8, 7: 13, 8: 21, 9: 34, 10: 55, 11: 89}\n",
            "{3: 2, 4: 3, 5: 5, 6: 8, 7: 13, 8: 21, 9: 34, 10: 55, 11: 89, 12: 144}\n",
            "144\n"
          ]
        }
      ]
    },
    {
      "cell_type": "code",
      "source": [
        "# 바텀업 DP (태뷸레이션) 피보나치 수열\n",
        "def fib_not_recur(n):\n",
        "  arr = [j for j in range(n+1)] # 0, 1, 2 ... n-1, n 이 들어있는 배열, 0은 신경x\n",
        "  # 0번째 0, 1번째 값은 1\n",
        "  if n<2:\n",
        "    return n\n",
        "  \n",
        "  # 2번째 이후의 값은 이전 2개의 합, arr[2] = 1 + 0 = 1 로 리스트의 값을 합으로 갱신\n",
        "  for i in range(2, n+1):\n",
        "    print(*arr) #  확인용\n",
        "    arr[i] = arr[i-1] + arr[i-2]\n",
        "  \n",
        "  # 모든 연산 후, n번째 위치의 값을 출력\n",
        "  return arr[n]\n",
        "\n",
        "print(fib_not_recur(12))"
      ],
      "metadata": {
        "colab": {
          "base_uri": "https://localhost:8080/"
        },
        "id": "7yyEOjk2Mmxn",
        "outputId": "333c22b9-35e6-4e6c-d730-7f4db46648da"
      },
      "execution_count": 25,
      "outputs": [
        {
          "output_type": "stream",
          "name": "stdout",
          "text": [
            "0 1 2 3 4 5 6 7 8 9 10 11 12\n",
            "0 1 1 3 4 5 6 7 8 9 10 11 12\n",
            "0 1 1 2 4 5 6 7 8 9 10 11 12\n",
            "0 1 1 2 3 5 6 7 8 9 10 11 12\n",
            "0 1 1 2 3 5 6 7 8 9 10 11 12\n",
            "0 1 1 2 3 5 8 7 8 9 10 11 12\n",
            "0 1 1 2 3 5 8 13 8 9 10 11 12\n",
            "0 1 1 2 3 5 8 13 21 9 10 11 12\n",
            "0 1 1 2 3 5 8 13 21 34 10 11 12\n",
            "0 1 1 2 3 5 8 13 21 34 55 11 12\n",
            "0 1 1 2 3 5 8 13 21 34 55 89 12\n",
            "144\n"
          ]
        }
      ]
    },
    {
      "cell_type": "code",
      "source": [
        "# 딕셔너리 예시\n",
        "dictionary = {} # 키와 값이 없는 비어있는 딕셔너리 생성\n",
        "dictionary = {\"a\": 1, \"b\": 2} # 딕셔너리에 키와 값 할당\n",
        "\n",
        "print(dictionary[\"a\"]) # key(\"a\")에 매핑되는 value(1)에 접근할 때 사용\n",
        "\n",
        "dictionary[\"c\"] = 3 # key(\"c\")에 대한 value(3) 생성\n",
        "print(dictionary[\"c\"]) # 키에 매핑되는 값에 접근\n",
        "print(dictionary)"
      ],
      "metadata": {
        "colab": {
          "base_uri": "https://localhost:8080/"
        },
        "id": "6DV-K4MgN5mq",
        "outputId": "df1df6e2-de7a-408b-de97-037c188eb847"
      },
      "execution_count": 27,
      "outputs": [
        {
          "output_type": "stream",
          "name": "stdout",
          "text": [
            "1\n",
            "3\n",
            "{'a': 1, 'b': 2, 'c': 3}\n"
          ]
        }
      ]
    },
    {
      "cell_type": "code",
      "source": [
        "# 탐욕 알고리즘에 대해 의사코드로 이해해보자.\n",
        "def greedy(items, max_weight):\n",
        "    bag_weight = 0          # 정해진 가방무게\n",
        "    bag_items = list()      # 가방에 담을 물건들을 리스트에 담는다.\n",
        "\n",
        "    for each_item in sort_by_value(items):        # 각각의 물건을 우선순위에 맞게 담기 위한 반복작업\n",
        "        if max_weight >= bag_weight + item.weight:  # 가방무게가 꽉차기 전까지 물건의 무게와 비교한다.\n",
        "            bag_weight = bag_weight + item.weight     # 가방에 물건이 담길 때마다 가방의 무게가 찬다.\n",
        "            bag_items.append(item)                    # 가방에 물건이 담긴다.\n",
        "\n",
        "    return bag_items    # 가방의 물건이 무엇이 담겼는지 확인한다."
      ],
      "metadata": {
        "id": "qFYzAvwpOMVa"
      },
      "execution_count": 28,
      "outputs": []
    },
    {
      "cell_type": "code",
      "source": [
        "# 잔돈갯수를 구하자.(갖고 있는 돈 : 100원)\n",
        "price = int(input('물건값을 입력하세요: '))\n",
        "change = 100 - price\n",
        "coin_list = [50, 40, 20, 10, 5]   # 받을 수 있는 잔돈의 종류\n",
        "change_count = []   # 잔돈갯수\n",
        "\n",
        "while change != 0:\n",
        "    for coin in coin_list:    # 이 부분을 오해하지 말아야한다.(리스트에 대한 반복문이다.)\n",
        "        change_bool = 0\n",
        "        change_bool = change_bool + (change // coin)\n",
        "        change_count.append(change_bool)\n",
        "        change = change - (change_bool * coin)\n",
        "        print(coin, change_count)\n",
        "        \n",
        "print('잔돈갯수 :', sum(change_count)) # 잔돈의 갯수를 합한다."
      ],
      "metadata": {
        "colab": {
          "base_uri": "https://localhost:8080/"
        },
        "id": "iC4A0TJ3Oslq",
        "outputId": "bf6271dc-0669-41d6-ba7e-2e837bef45bc"
      },
      "execution_count": 31,
      "outputs": [
        {
          "output_type": "stream",
          "name": "stdout",
          "text": [
            "물건값을 입력하세요: 5\n",
            "50 [1]\n",
            "40 [1, 1]\n",
            "20 [1, 1, 0]\n",
            "10 [1, 1, 0, 0]\n",
            "5 [1, 1, 0, 0, 1]\n",
            "잔돈갯수 : 3\n"
          ]
        }
      ]
    }
  ]
}